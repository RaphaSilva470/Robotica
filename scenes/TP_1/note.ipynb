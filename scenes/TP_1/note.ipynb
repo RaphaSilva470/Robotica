{
 "cells": [
  {
   "cell_type": "code",
   "execution_count": 1,
   "metadata": {},
   "outputs": [],
   "source": [
    "from coppeliasim_zmqremoteapi_client import RemoteAPIClient"
   ]
  },
  {
   "cell_type": "code",
   "execution_count": 2,
   "metadata": {},
   "outputs": [],
   "source": [
    "import numpy as np"
   ]
  },
  {
   "cell_type": "code",
   "execution_count": 3,
   "metadata": {},
   "outputs": [
    {
     "data": {
      "text/plain": [
       "0"
      ]
     },
     "execution_count": 3,
     "metadata": {},
     "output_type": "execute_result"
    }
   ],
   "source": [
    "client = RemoteAPIClient()\n",
    "sim = client.require('sim')\n",
    "sim.setStepping(True)\n"
   ]
  },
  {
   "cell_type": "code",
   "execution_count": 8,
   "metadata": {},
   "outputs": [],
   "source": [
    "# Function the invert a matrix\n",
    "def invertMatrix(M):\n",
    "    return np.linalg.inv(M)"
   ]
  },
  {
   "cell_type": "code",
   "execution_count": 4,
   "metadata": {},
   "outputs": [],
   "source": [
    "# Get Object Position and Orientation\n",
    "def getPositionAndOrientation(handle):\n",
    "    pos = sim.getObjectPosition(handle)\n",
    "    ori = sim.getObjectOrientation(handle)\n",
    "    return pos, ori"
   ]
  },
  {
   "cell_type": "code",
   "execution_count": 5,
   "metadata": {},
   "outputs": [],
   "source": [
    "# Get Rotation Matrix fixed on Z axis\n",
    "def getRotationMatrixZfixed(pos, teta):\n",
    "    rotationM = np.zeros((3,3))\n",
    "    rotationM[2][2] = 1\n",
    "    rotationM[0][0] = np.cos(teta)\n",
    "    rotationM[0][1] = - np.sin(teta)\n",
    "    rotationM[1][0] = np.sin(teta)\n",
    "    rotationM[1][1] = np.cos(teta)\n",
    "\n",
    "    return rotationM"
   ]
  },
  {
   "cell_type": "code",
   "execution_count": 14,
   "metadata": {},
   "outputs": [],
   "source": [
    "# get the transformation from local axis to global axis\n",
    "\n",
    "def getTransformationMatrixLocal2Global(handle):\n",
    "    pos, ori = getPositionAndOrientation(handle)\n",
    "    rotM = getRotationMatrixZfixed(pos, ori[2])\n",
    "    transM = pos \n",
    "    scale = np.array([0, 0, 0, 1])\n",
    "\n",
    "    # Local to Global\n",
    "    M_L2G = np.column_stack((rotM, transM))\n",
    "    M_L2G = np.row_stack((M_L2G, scale))\n",
    "\n",
    "    return M_L2G\n",
    "\n"
   ]
  },
  {
   "cell_type": "code",
   "execution_count": 15,
   "metadata": {},
   "outputs": [],
   "source": [
    "# Get the tranfortion from object to another object\n",
    "\n",
    "def getTransformationMatrixObject2Object(sourceObject, desObject):\n",
    "    M_S2G = getTransformationMatrixLocal2Global(sourceObject)\n",
    "    M_G2S = invertMatrix(M_S2G)\n",
    "    M_D2G = getTransformationMatrixLocal2Global(desObject)\n",
    "    return M_G2S @ M_D2G"
   ]
  },
  {
   "cell_type": "code",
   "execution_count": 17,
   "metadata": {},
   "outputs": [
    {
     "name": "stdout",
     "output_type": "stream",
     "text": [
      "[[-0.94114251 -0.33801002  0.         10.94594603]\n",
      " [ 0.33801002 -0.94114251  0.         -1.39993305]\n",
      " [ 0.          0.          1.          0.29563239]\n",
      " [ 0.          0.          0.          1.        ]]\n"
     ]
    }
   ],
   "source": [
    "sim.startSimulation()\n",
    "\n",
    "# Get Objects Handle\n",
    "personHandle = sim.getObject(\"/Rapha\")\n",
    "chairHandle = sim.getObject(\"/Chair\")\n",
    "treeHandle = sim.getObject(\"/Tree\")\n",
    "diningTableHandle = sim.getObject(\"/diningTable\")\n",
    "rackHandle = sim.getObject(\"/Rack\")\n",
    "robotHanle = sim.getObject(\"/Robot\")\n",
    "\n",
    "# Get transformation Matriz from local to global\n",
    "result = getTransformationMatrixObject2Object(chairHandle, robotHanle)\n",
    "print(result)\n",
    "\n",
    "\n",
    "\n",
    "sim.stopSimulation()"
   ]
  },
  {
   "cell_type": "code",
   "execution_count": null,
   "metadata": {},
   "outputs": [],
   "source": []
  }
 ],
 "metadata": {
  "kernelspec": {
   "display_name": "venv",
   "language": "python",
   "name": "python3"
  },
  "language_info": {
   "codemirror_mode": {
    "name": "ipython",
    "version": 3
   },
   "file_extension": ".py",
   "mimetype": "text/x-python",
   "name": "python",
   "nbconvert_exporter": "python",
   "pygments_lexer": "ipython3",
   "version": "3.11.2"
  },
  "orig_nbformat": 4
 },
 "nbformat": 4,
 "nbformat_minor": 2
}
