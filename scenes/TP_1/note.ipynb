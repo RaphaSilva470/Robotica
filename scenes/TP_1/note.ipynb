{
 "cells": [
  {
   "cell_type": "markdown",
   "metadata": {},
   "source": [
    "# Import Modules"
   ]
  },
  {
   "cell_type": "code",
   "execution_count": 1,
   "metadata": {},
   "outputs": [],
   "source": [
    "from coppeliasim_zmqremoteapi_client import RemoteAPIClient"
   ]
  },
  {
   "cell_type": "code",
   "execution_count": 20,
   "metadata": {},
   "outputs": [],
   "source": [
    "import numpy as np\n",
    "import matplotlib.pyplot as plt"
   ]
  },
  {
   "cell_type": "markdown",
   "metadata": {},
   "source": [
    "# Connect to Coppelia"
   ]
  },
  {
   "cell_type": "code",
   "execution_count": 3,
   "metadata": {},
   "outputs": [
    {
     "data": {
      "text/plain": [
       "0"
      ]
     },
     "execution_count": 3,
     "metadata": {},
     "output_type": "execute_result"
    }
   ],
   "source": [
    "client = RemoteAPIClient()\n",
    "sim = client.require('sim')\n",
    "sim.setStepping(True)\n"
   ]
  },
  {
   "cell_type": "markdown",
   "metadata": {},
   "source": [
    "# Codding to Plot"
   ]
  },
  {
   "cell_type": "code",
   "execution_count": 21,
   "metadata": {},
   "outputs": [],
   "source": [
    "# Apenas para visualização de um referencial no plano\n",
    "def plot_frame(Porg, R, c=['r', 'g']):\n",
    "    \n",
    "    axis_size = 3.0    \n",
    "    axes = axis_size*R\n",
    "    \n",
    "    x_axis = np.array(axes[0:2,0])\n",
    "    y_axis = np.array(axes[0:2,1])\n",
    "        \n",
    "    # X\n",
    "    plt.quiver(*Porg[:2], *x_axis, color=c[0], angles='xy', scale_units='xy', scale=1)\n",
    "    \n",
    "    # Y\n",
    "    plt.quiver(*Porg[:2], *y_axis, color=c[1], angles='xy', scale_units='xy', scale=1)"
   ]
  },
  {
   "cell_type": "code",
   "execution_count": 57,
   "metadata": {},
   "outputs": [],
   "source": [
    "def plot3CompostTransformation(middleMatrix, destMatrix):\n",
    "    aorg = np.array([0, 0])\n",
    "    \n",
    "\n",
    "    # Definindo Tbc\n",
    "    Tbc = destMatrix\n",
    "    pb_corg = Tbc[0:3, 3]\n",
    "    Rbc = Tbc[:3,:3]\n",
    "\n",
    "    # Definindo Tab\n",
    "    Tab = middleMatrix\n",
    "    pa_borg = Tab[:3, 3]\n",
    "    Rab = Tab[:3,:3]\n",
    "    \n",
    "    # Definindo Tac\n",
    "    Tac = Tab @ Tbc\n",
    "    \n",
    "    # Plotando os referenciais\n",
    "    plt.figure()\n",
    "\n",
    "    # The rotation matrix contain the axis orientation\n",
    "    # Frame C->B\n",
    "    pa_corg = np.array(Tac[:,3])\n",
    "    ## Vector from the origin B to origin C from the perpective of A\n",
    "    pb_corg_aux = Rab @ pb_corg\n",
    "    Rac = Tac[:3,:3]\n",
    "    ## plot the C axis and the vector from the B axis to C axis\n",
    "    plot_frame(pa_corg, Rac, ['g', 'g'])\n",
    "    plt.quiver(*pa_borg[:2], *pb_corg_aux[:2], color='g', angles='xy', scale_units='xy', scale=1)\n",
    "\n",
    "    # Frame B->A\n",
    "    plot_frame(pa_borg, Rab, ['b', 'b'])\n",
    "    plt.quiver(*aorg, *pa_borg[:2], color='b', angles='xy', scale_units='xy', scale=1)\n",
    "\n",
    "    plt.axis('scaled')\n",
    "    plt.axis((-15, 15, -15, 15))\n",
    "    "
   ]
  },
  {
   "cell_type": "markdown",
   "metadata": {},
   "source": [
    "# Codding to calculate the Transformation Matrix"
   ]
  },
  {
   "cell_type": "code",
   "execution_count": 38,
   "metadata": {},
   "outputs": [],
   "source": [
    "# Function the invert a matrix\n",
    "def invertMatrix(M):\n",
    "    return np.linalg.inv(M)"
   ]
  },
  {
   "cell_type": "code",
   "execution_count": 39,
   "metadata": {},
   "outputs": [],
   "source": [
    "# Get Object Position and Orientation\n",
    "def getPositionAndOrientation(handle):\n",
    "    pos = sim.getObjectPosition(handle)\n",
    "    ori = sim.getObjectOrientation(handle)\n",
    "    return pos, ori"
   ]
  },
  {
   "cell_type": "code",
   "execution_count": 40,
   "metadata": {},
   "outputs": [],
   "source": [
    "# Get Rotation Matrix fixed on Z axis\n",
    "def getRotationMatrixZfixed(pos, teta):\n",
    "    rotationM = np.zeros((3,3))\n",
    "    rotationM[2][2] = 1\n",
    "    rotationM[0][0] = np.cos(teta)\n",
    "    rotationM[0][1] = - np.sin(teta)\n",
    "    rotationM[1][0] = np.sin(teta)\n",
    "    rotationM[1][1] = np.cos(teta)\n",
    "\n",
    "    return rotationM"
   ]
  },
  {
   "cell_type": "code",
   "execution_count": 41,
   "metadata": {},
   "outputs": [],
   "source": [
    "# get the transformation from local axis to global axis\n",
    "\n",
    "def getTransformationMatrixLocal2Global(handle):\n",
    "    pos, ori = getPositionAndOrientation(handle)\n",
    "    rotM = getRotationMatrixZfixed(pos, ori[2])\n",
    "    transM = pos \n",
    "    scale = np.array([0, 0, 0, 1])\n",
    "\n",
    "    # Local to Global\n",
    "    M_L2G = np.column_stack((rotM, transM))\n",
    "    M_L2G = np.row_stack((M_L2G, scale))\n",
    "\n",
    "    return M_L2G\n",
    "\n"
   ]
  },
  {
   "cell_type": "code",
   "execution_count": 44,
   "metadata": {},
   "outputs": [],
   "source": [
    "# Get the tranfortion from object to another object\n",
    "\n",
    "def getTransformationMatrixObject2Object(sourceObject, desObject, printPlot = False):\n",
    "    M_S2G = getTransformationMatrixLocal2Global(sourceObject)\n",
    "    M_G2S = invertMatrix(M_S2G)\n",
    "    M_D2G = getTransformationMatrixLocal2Global(desObject)\n",
    "\n",
    "    if printPlot:\n",
    "        plot3CompostTransformation(M_G2S, M_D2G)\n",
    "\n",
    "    return M_G2S @ M_D2G"
   ]
  },
  {
   "cell_type": "markdown",
   "metadata": {},
   "source": [
    "# Executing the Simulation"
   ]
  },
  {
   "cell_type": "code",
   "execution_count": 58,
   "metadata": {},
   "outputs": [
    {
     "data": {
      "image/png": "[encoded data removed]",
      "text/plain": [
       "<Figure size 640x480 with 1 Axes>"
      ]
     },
     "metadata": {},
     "output_type": "display_data"
    }
   ],
   "source": [
    "sim.startSimulation()\n",
    "\n",
    "# Get Objects Handle\n",
    "personHandle = sim.getObject(\"/Rapha\")\n",
    "chairHandle = sim.getObject(\"/Chair\")\n",
    "treeHandle = sim.getObject(\"/Tree\")\n",
    "diningTableHandle = sim.getObject(\"/diningTable\")\n",
    "rackHandle = sim.getObject(\"/Rack\")\n",
    "robotHanle = sim.getObject(\"/Robot\")\n",
    "\n",
    "# Get transformation Matriz from local to a object reference\n",
    "result = getTransformationMatrixObject2Object(robotHanle, personHandle, printPlot = True)\n",
    "# print(result)\n",
    "\n",
    "sim.stopSimulation()"
   ]
  },
  {
   "cell_type": "code",
   "execution_count": null,
   "metadata": {},
   "outputs": [],
   "source": []
  }
 ],
 "metadata": {
  "kernelspec": {
   "display_name": "venv",
   "language": "python",
   "name": "python3"
  },
  "language_info": {
   "codemirror_mode": {
    "name": "ipython",
    "version": 3
   },
   "file_extension": ".py",
   "mimetype": "text/x-python",
   "name": "python",
   "nbconvert_exporter": "python",
   "pygments_lexer": "ipython3",
   "version": "3.11.2"
  },
  "orig_nbformat": 4
 },
 "nbformat": 4,
 "nbformat_minor": 2
}
