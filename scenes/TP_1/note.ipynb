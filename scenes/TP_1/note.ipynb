{
 "cells": [
  {
   "cell_type": "markdown",
   "metadata": {},
   "source": [
    "# Import Modules"
   ]
  },
  {
   "cell_type": "code",
   "execution_count": 1,
   "metadata": {},
   "outputs": [],
   "source": [
    "from coppeliasim_zmqremoteapi_client import RemoteAPIClient"
   ]
  },
  {
   "cell_type": "code",
   "execution_count": 2,
   "metadata": {},
   "outputs": [],
   "source": [
    "import numpy as np\n",
    "import matplotlib.pyplot as plt"
   ]
  },
  {
   "cell_type": "markdown",
   "metadata": {},
   "source": [
    "# Connect to Coppelia"
   ]
  },
  {
   "cell_type": "code",
   "execution_count": 3,
   "metadata": {},
   "outputs": [
    {
     "data": {
      "text/plain": [
       "0"
      ]
     },
     "execution_count": 3,
     "metadata": {},
     "output_type": "execute_result"
    }
   ],
   "source": [
    "client = RemoteAPIClient()\n",
    "sim = client.require('sim')\n",
    "sim.setStepping(True)\n"
   ]
  },
  {
   "cell_type": "markdown",
   "metadata": {},
   "source": [
    "# Codding to Plot"
   ]
  },
  {
   "cell_type": "code",
   "execution_count": 4,
   "metadata": {},
   "outputs": [],
   "source": [
    "# Apenas para visualização de um referencial no plano\n",
    "def plot_frame(Porg, R, c=['r', 'g']):\n",
    "    \n",
    "    axis_size = 3.0    \n",
    "    axes = axis_size*R\n",
    "    \n",
    "    x_axis = np.array(axes[0:2,0])\n",
    "    y_axis = np.array(axes[0:2,1])\n",
    "        \n",
    "    # X\n",
    "    plt.quiver(*Porg[:2], *x_axis, color=c[0], angles='xy', scale_units='xy', scale=1)\n",
    "    \n",
    "    # Y\n",
    "    plt.quiver(*Porg[:2], *y_axis, color=c[1], angles='xy', scale_units='xy', scale=1)"
   ]
  },
  {
   "cell_type": "code",
   "execution_count": 5,
   "metadata": {},
   "outputs": [],
   "source": [
    "def plot3CompostTransformation(middleMatrix, destMatrix):\n",
    "    aorg = np.array([0, 0])\n",
    "    \n",
    "\n",
    "    # Definindo Tbc\n",
    "    Tbc = destMatrix\n",
    "    pb_corg = Tbc[0:3, 3]\n",
    "    Rbc = Tbc[:3,:3]\n",
    "\n",
    "    # Definindo Tab\n",
    "    Tab = middleMatrix\n",
    "    pa_borg = Tab[:3, 3]\n",
    "    Rab = Tab[:3,:3]\n",
    "    \n",
    "    # Definindo Tac\n",
    "    Tac = Tab @ Tbc\n",
    "    \n",
    "    # Plotando os referenciais\n",
    "    plt.figure()\n",
    "\n",
    "    # The rotation matrix contain the axis orientation\n",
    "    # Frame C->B\n",
    "    pa_corg = np.array(Tac[:,3])\n",
    "    ## Vector from the origin B to origin C from the perpective of A\n",
    "    pb_corg_aux = Rab @ pb_corg\n",
    "    Rac = Tac[:3,:3]\n",
    "    ## plot the C axis and the vector from the B axis to C axis\n",
    "    plot_frame(pa_corg, Rac, ['g', 'g'])\n",
    "    plt.quiver(*pa_borg[:2], *pb_corg_aux[:2], color='g', angles='xy', scale_units='xy', scale=1)\n",
    "\n",
    "    # Frame B->A\n",
    "    plot_frame(pa_borg, Rab, ['b', 'b'])\n",
    "    plt.quiver(*aorg, *pa_borg[:2], color='b', angles='xy', scale_units='xy', scale=1)\n",
    "\n",
    "    plt.axis('scaled')\n",
    "    plt.axis((-15, 15, -15, 15))\n",
    "    "
   ]
  },
  {
   "cell_type": "markdown",
   "metadata": {},
   "source": [
    "# Codding to calculate the Transformation Matrix"
   ]
  },
  {
   "cell_type": "code",
   "execution_count": 6,
   "metadata": {},
   "outputs": [],
   "source": [
    "# Function the invert a matrix\n",
    "def invertMatrix(M):\n",
    "    return np.linalg.inv(M)"
   ]
  },
  {
   "cell_type": "code",
   "execution_count": 7,
   "metadata": {},
   "outputs": [],
   "source": [
    "# Get Object Position and Orientation\n",
    "def getPositionAndOrientation(handle, referenceTo):\n",
    "    pos = sim.getObjectPosition(handle, referenceTo)\n",
    "    ori = sim.getObjectOrientation(handle, referenceTo)\n",
    "    return pos, ori"
   ]
  },
  {
   "cell_type": "code",
   "execution_count": 24,
   "metadata": {},
   "outputs": [],
   "source": [
    "# Get Rotation Matrix fixed on Z axis\n",
    "def getRotationMatrixZfixed(theta):\n",
    "    return np.array([[  np.cos(theta), -np.sin(theta), 0 ],\n",
    "                      [ np.sin(theta),  np.cos(theta), 0 ],\n",
    "                      [ 0            ,  0            , 1 ]])"
   ]
  },
  {
   "cell_type": "code",
   "execution_count": 27,
   "metadata": {},
   "outputs": [],
   "source": [
    "# get the transformation from local axis to global axis\n",
    "\n",
    "def getTransformationMatrix(handle, referenceTo=sim.handle_world):\n",
    "    pos, ori = getPositionAndOrientation(handle, referenceTo)\n",
    "    rotM = getRotationMatrixZfixed(ori[2])\n",
    "    transM = pos \n",
    "    scale = np.array([0, 0, 0, 1])\n",
    "\n",
    "    # Local to Global\n",
    "    M_L2G = np.column_stack((rotM, transM))\n",
    "    M_L2G = np.row_stack((M_L2G, scale))\n",
    "\n",
    "    return M_L2G\n",
    "\n"
   ]
  },
  {
   "cell_type": "code",
   "execution_count": 28,
   "metadata": {},
   "outputs": [],
   "source": [
    "# Get the tranfortion from object to another object\n",
    "\n",
    "def getTransformationMatrixObject2Object(sourceObject, desObject,printPlot = False):\n",
    "    M_S2G = getTransformationMatrix(sourceObject)\n",
    "    M_G2S = invertMatrix(M_S2G)\n",
    "    M_D2G = getTransformationMatrix(desObject)\n",
    "\n",
    "    if printPlot:\n",
    "        plot3CompostTransformation(M_G2S, M_D2G)\n",
    "\n",
    "    return M_G2S @ M_D2G"
   ]
  },
  {
   "cell_type": "markdown",
   "metadata": {},
   "source": [
    "# Exercise 3"
   ]
  },
  {
   "cell_type": "code",
   "execution_count": 89,
   "metadata": {},
   "outputs": [
    {
     "ename": "Exception",
     "evalue": "1308: in sim._getObject: object does not exist, or alias/path is ill formatted.",
     "output_type": "error",
     "traceback": [
      "\u001b[0;31m---------------------------------------------------------------------------\u001b[0m",
      "\u001b[0;31mException\u001b[0m                                 Traceback (most recent call last)",
      "Cell \u001b[0;32mIn[89], line 9\u001b[0m\n\u001b[1;32m      7\u001b[0m diningTableHandle \u001b[38;5;241m=\u001b[39m sim\u001b[38;5;241m.\u001b[39mgetObject(\u001b[38;5;124m\"\u001b[39m\u001b[38;5;124m/diningTable\u001b[39m\u001b[38;5;124m\"\u001b[39m)\n\u001b[1;32m      8\u001b[0m rackHandle \u001b[38;5;241m=\u001b[39m sim\u001b[38;5;241m.\u001b[39mgetObject(\u001b[38;5;124m\"\u001b[39m\u001b[38;5;124m/Rack\u001b[39m\u001b[38;5;124m\"\u001b[39m)\n\u001b[0;32m----> 9\u001b[0m robotHanle \u001b[38;5;241m=\u001b[39m \u001b[43msim\u001b[49m\u001b[38;5;241;43m.\u001b[39;49m\u001b[43mgetObject\u001b[49m\u001b[43m(\u001b[49m\u001b[38;5;124;43m\"\u001b[39;49m\u001b[38;5;124;43m/Robot\u001b[39;49m\u001b[38;5;124;43m\"\u001b[39;49m\u001b[43m)\u001b[49m\n\u001b[1;32m     11\u001b[0m \u001b[38;5;66;03m# Get transformation Matriz from local to a object reference\u001b[39;00m\n\u001b[1;32m     12\u001b[0m result \u001b[38;5;241m=\u001b[39m getTransformationMatrixObject2Object(robotHanle, personHandle, printPlot \u001b[38;5;241m=\u001b[39m \u001b[38;5;28;01mTrue\u001b[39;00m)\n",
      "File \u001b[0;32m~/Documents/Coppelia/venv/lib/python3.11/site-packages/coppeliasim_zmqremoteapi_client/__init__.py:161\u001b[0m, in \u001b[0;36mRemoteAPIClient.getObject.<locals>.<lambda>\u001b[0;34m(func, *a)\u001b[0m\n\u001b[1;32m    159\u001b[0m     \u001b[38;5;28;01mraise\u001b[39;00m \u001b[38;5;167;01mValueError\u001b[39;00m(\u001b[38;5;124m'\u001b[39m\u001b[38;5;124mfound nondict\u001b[39m\u001b[38;5;124m'\u001b[39m)\n\u001b[1;32m    160\u001b[0m \u001b[38;5;28;01mif\u001b[39;00m \u001b[38;5;28mlen\u001b[39m(v) \u001b[38;5;241m==\u001b[39m \u001b[38;5;241m1\u001b[39m \u001b[38;5;129;01mand\u001b[39;00m \u001b[38;5;124m'\u001b[39m\u001b[38;5;124mfunc\u001b[39m\u001b[38;5;124m'\u001b[39m \u001b[38;5;129;01min\u001b[39;00m v:\n\u001b[0;32m--> 161\u001b[0m     \u001b[38;5;28msetattr\u001b[39m(ret, k, \u001b[38;5;28;01mlambda\u001b[39;00m \u001b[38;5;241m*\u001b[39ma, func\u001b[38;5;241m=\u001b[39m\u001b[38;5;124mf\u001b[39m\u001b[38;5;124m'\u001b[39m\u001b[38;5;132;01m{\u001b[39;00mname\u001b[38;5;132;01m}\u001b[39;00m\u001b[38;5;124m.\u001b[39m\u001b[38;5;132;01m{\u001b[39;00mk\u001b[38;5;132;01m}\u001b[39;00m\u001b[38;5;124m'\u001b[39m: \u001b[38;5;28;43mself\u001b[39;49m\u001b[38;5;241;43m.\u001b[39;49m\u001b[43mcall\u001b[49m\u001b[43m(\u001b[49m\u001b[43mfunc\u001b[49m\u001b[43m,\u001b[49m\u001b[43m \u001b[49m\u001b[43ma\u001b[49m\u001b[43m)\u001b[49m)\n\u001b[1;32m    162\u001b[0m \u001b[38;5;28;01melif\u001b[39;00m \u001b[38;5;28mlen\u001b[39m(v) \u001b[38;5;241m==\u001b[39m \u001b[38;5;241m1\u001b[39m \u001b[38;5;129;01mand\u001b[39;00m \u001b[38;5;124m'\u001b[39m\u001b[38;5;124mconst\u001b[39m\u001b[38;5;124m'\u001b[39m \u001b[38;5;129;01min\u001b[39;00m v:\n\u001b[1;32m    163\u001b[0m     \u001b[38;5;28msetattr\u001b[39m(ret, k, v[\u001b[38;5;124m'\u001b[39m\u001b[38;5;124mconst\u001b[39m\u001b[38;5;124m'\u001b[39m])\n",
      "File \u001b[0;32m~/Documents/Coppelia/venv/lib/python3.11/site-packages/coppeliasim_zmqremoteapi_client/__init__.py:149\u001b[0m, in \u001b[0;36mRemoteAPIClient.call\u001b[0;34m(self, func, args)\u001b[0m\n\u001b[1;32m    147\u001b[0m     reply \u001b[38;5;241m=\u001b[39m \u001b[38;5;28mself\u001b[39m\u001b[38;5;241m.\u001b[39m_recv()\n\u001b[1;32m    148\u001b[0m \u001b[38;5;28;01mif\u001b[39;00m \u001b[38;5;124m'\u001b[39m\u001b[38;5;124merr\u001b[39m\u001b[38;5;124m'\u001b[39m \u001b[38;5;129;01min\u001b[39;00m reply:\n\u001b[0;32m--> 149\u001b[0m     \u001b[38;5;28;01mraise\u001b[39;00m \u001b[38;5;167;01mException\u001b[39;00m(reply\u001b[38;5;241m.\u001b[39mget(\u001b[38;5;124m'\u001b[39m\u001b[38;5;124merr\u001b[39m\u001b[38;5;124m'\u001b[39m))  \u001b[38;5;66;03m# __EXCEPTION__\u001b[39;00m\n\u001b[1;32m    150\u001b[0m \u001b[38;5;28;01mreturn\u001b[39;00m \u001b[38;5;28mself\u001b[39m\u001b[38;5;241m.\u001b[39m_process_response(reply)\n",
      "\u001b[0;31mException\u001b[0m: 1308: in sim._getObject: object does not exist, or alias/path is ill formatted."
     ]
    }
   ],
   "source": [
    "sim.startSimulation()\n",
    "\n",
    "# Get Objects Handle\n",
    "personHandle = sim.getObject(\"/Rapha\")\n",
    "chairHandle = sim.getObject(\"/Chair\")\n",
    "treeHandle = sim.getObject(\"/Tree\")\n",
    "diningTableHandle = sim.getObject(\"/diningTable\")\n",
    "rackHandle = sim.getObject(\"/Rack\")\n",
    "robotHanle = sim.getObject(\"/Robot\")\n",
    "\n",
    "# Get transformation Matriz from local to a object reference\n",
    "result = getTransformationMatrixObject2Object(robotHanle, personHandle, printPlot = True)\n",
    "# print(result)\n",
    "\n",
    "sim.stopSimulation()"
   ]
  },
  {
   "cell_type": "markdown",
   "metadata": {},
   "source": [
    "# Exercise 4"
   ]
  },
  {
   "cell_type": "markdown",
   "metadata": {},
   "source": [
    "[0,5 pts] Coloque o robô em outras três posições diferentes da cena e faça os respectivos plots\n",
    "(referenciais e relacionamentos), verificando que a implementação funciona para diferentes\n",
    "casos. Lembre-se de também variar a orientação do robô em relação aos elementos, por\n",
    "exemplo, colocando ele de frente, de lado e de costas."
   ]
  },
  {
   "cell_type": "markdown",
   "metadata": {},
   "source": [
    "## 4.1"
   ]
  },
  {
   "cell_type": "markdown",
   "metadata": {},
   "source": [
    "## 4.2"
   ]
  },
  {
   "cell_type": "markdown",
   "metadata": {},
   "source": [
    "## 4.3"
   ]
  },
  {
   "cell_type": "markdown",
   "metadata": {},
   "source": []
  },
  {
   "cell_type": "markdown",
   "metadata": {},
   "source": [
    "# Exercise 5"
   ]
  },
  {
   "cell_type": "markdown",
   "metadata": {},
   "source": [
    "[1,5 pts] Substitua o robô adicionado inicialmente na cena pelo robô com laser mostrado em\n",
    "aula. No exemplo que vimos, o plot da leitura do laser está sendo feito no referencial local do\n",
    "laser. Defina as matrizes de transformações 𝑅𝐿𝑇 (laser → robô) e 𝑊𝑅𝑇 (robô → mundo), e em\n",
    "seguida modifique o script original para que os pontos agora sejam plotados no referencial\n",
    "global, de acordo com a posição atual do robô (recuperada pela RemoteAPI). Coloque o robô\n",
    "em outras diferentes posições da cena (e.g., três) e faça os plots das leituras do laser."
   ]
  },
  {
   "cell_type": "markdown",
   "metadata": {},
   "source": [
    "## O que fazer"
   ]
  },
  {
   "cell_type": "markdown",
   "metadata": {},
   "source": [
    "- Substituir o robo da cena 3 pelo robo usado durante a aula 03 (done) \n",
    "- Entender como funciona o script para coletar os dados (done) \n",
    "- Se for preciso modificar o script que coleta os dados (done)\n",
    "- Calcular a matriz de transformação do laser para o mundo\n",
    "- Integrar os dados coletados ao meu código \n",
    "- Fazer os plots\n",
    "- Criar funções para fazer isso (maybe)"
   ]
  },
  {
   "cell_type": "markdown",
   "metadata": {},
   "source": [
    "## Import Modules"
   ]
  },
  {
   "cell_type": "code",
   "execution_count": 11,
   "metadata": {},
   "outputs": [],
   "source": [
    "import numpy as np\n",
    "import matplotlib.pyplot as plt\n",
    "import time\n",
    "import math"
   ]
  },
  {
   "cell_type": "markdown",
   "metadata": {},
   "source": [
    "## Define Functions"
   ]
  },
  {
   "cell_type": "markdown",
   "metadata": {},
   "source": [
    "### Get Data from the sensor"
   ]
  },
  {
   "cell_type": "code",
   "execution_count": 12,
   "metadata": {},
   "outputs": [],
   "source": [
    "'''\n",
    "readSensorData - It will try to capture the range and angle data from the simulator.\n",
    "                 The request for the range data is sent in streaming mode to force\n",
    "                 it to sync with the angle data request which acts as a mutex.\n",
    "\n",
    "inputs:\n",
    "    -clientId: simulator client id obtained through a successfull connection with the simulator.\n",
    "    -range_data_signal_id: string containing the range data signal pipe name.\n",
    "    -angle_data_signal_id: string containing the angle data signal pipe name.\n",
    "outputs:\n",
    "    -returns None if no data is recovered.\n",
    "    -returns two arrays, one with data range and the other with their angles, if data was \n",
    "    retrieved successfully.\n",
    "'''\n",
    "def readSensorData(range_data_signal_id=\"hokuyo_range_data\", \n",
    "                    angle_data_signal_id=\"hokuyo_angle_data\"):\n",
    "\n",
    "    # the first call should be non-blocking to avoid getting out-of-sync angle data\n",
    "    # returnCodeRanges, string_range_data = sim.getStringSignal(range_data_signal_id, sim.simx_opmode_streaming)\n",
    "    # returnCodeRanges, string_range_data = sim.getStringSignal(range_data_signal_id)\n",
    "\n",
    "    # print(range_data_signal_id)\n",
    "    resultCodeRanges = sim.getStringSignal(range_data_signal_id)\n",
    "\n",
    "    # the second call should block to avoid out-of-sync scenarios\n",
    "    # between your python script and the simulator's main loop\n",
    "    # (your script may be slower than the simulator's main loop, thus\n",
    "    # slowing down data processing)\n",
    "    # returnCodeAngles, string_angle_data = sim.simxGetStringSignal(angle_data_signal_id, sim.simx_opmode_blocking)\n",
    "    \n",
    "    resultCodeAngles = sim.getStringSignal(angle_data_signal_id)\n",
    "\n",
    "    # check the if both data were obtained correctly\n",
    "    if resultCodeRanges != None and resultCodeAngles != None:\n",
    "        # unpack data from range and sensor messages\n",
    "        raw_range_data = sim.unpackFloatTable(resultCodeRanges)\n",
    "        raw_angle_data = sim.unpackFloatTable(resultCodeAngles)\n",
    "\n",
    "        return raw_range_data, raw_angle_data\n",
    "\n",
    "    # return none in case were nothing was gotten from the simulator\n",
    "    return None, None\n"
   ]
  },
  {
   "cell_type": "code",
   "execution_count": 29,
   "metadata": {},
   "outputs": [],
   "source": [
    "\n",
    "def draw_laser_data(laser_data, max_sensor_range=5, ax = None):\n",
    "    \n",
    "    if (ax == None):\n",
    "        fig = plt.figure(figsize=(6,6), dpi=100)\n",
    "        ax = fig.add_subplot(111, aspect='equal')\n",
    "        \n",
    "    for i in range(len(laser_data)):\n",
    "        ang, dist = laser_data[i]\n",
    "        \n",
    "        # Quando o feixe não acerta nada, retorna o valor máximo (definido na simulação)\n",
    "        # Logo, usar um pequeno limiar do máximo para considerar a leitura\n",
    "        if (max_sensor_range - dist) > 0.1:\n",
    "            x = dist * np.cos(ang)\n",
    "            y = dist * np.sin(ang)\n",
    "            c = 'r'\n",
    "            if ang < 0:    \n",
    "                c = 'b'\n",
    "            ax.plot(x, y, 'o', color=c)\n",
    "\n",
    "    ax.plot(0, 0, 'k>', markersize=10)\n",
    "        \n",
    "    ax.grid()\n",
    "    ax.set_xlim([-max_sensor_range, max_sensor_range])\n",
    "    ax.set_ylim([-max_sensor_range, max_sensor_range])"
   ]
  },
  {
   "cell_type": "code",
   "execution_count": 30,
   "metadata": {},
   "outputs": [
    {
     "name": "stdout",
     "output_type": "stream",
     "text": [
      "[0.0, 8.881784197001252e-16, 0.1500000059604646]\n",
      "[-4.836378138852203e-06, 5.5280768705889455e-05, 2.828016514281492e-16]\n",
      "[[-0.76604372  0.64278847  0.         -1.19447179]\n",
      " [-0.64278847 -0.76604372  0.         -1.87499833]\n",
      " [ 0.          0.          1.          0.73879307]\n",
      " [ 0.          0.          0.          1.        ]]\n"
     ]
    }
   ],
   "source": [
    "from coppeliasim_zmqremoteapi_client import RemoteAPIClient\n",
    "\n",
    "import numpy as np\n",
    "import matplotlib.pyplot as plt\n",
    "import time\n",
    "import math\n",
    "\n",
    "client = RemoteAPIClient()\n",
    "sim = client.require('sim')\n",
    "sim.setStepping(True)\n",
    "\n",
    "\n",
    "sim.startSimulation()\n",
    "\n",
    "# Get Objects Handle\n",
    "# personHandle = sim.getObject(\"/Rapha\")\n",
    "# chairHandle = sim.getObject(\"/Chair\")\n",
    "# treeHandle = sim.getObject(\"/Tree\")\n",
    "# diningTableHandle = sim.getObject(\"/diningTable\")\n",
    "# rackHandle = sim.getObject(\"/Rack\")\n",
    "# robotHanle = sim.getObject(\"/Robot\")\n",
    "\n",
    "sensorData = readSensorData()\n",
    "if sensorData != None:\n",
    "    sensorRanges = sensorData[0]\n",
    "    sensorAngles = sensorData[1]\n",
    "\n",
    "robotHandle = sim.getObject(\"/Pioneer_p3dx\")\n",
    "laserHandle = sim.getObject(\"/Pioneer_p3dx/fastHokuyo\")\n",
    "\n",
    "# Laser Position in relation to the robot\n",
    "print(sim.getObjectPosition(laserHandle, robotHandle ))\n",
    "print(sim.getObjectOrientation(laserHandle, robotHandle))\n",
    "\n",
    "T_rl = getTransformationMatrix(laserHandle, robotHandle)\n",
    "T_rw = getTransformationMatrix(robotHandle)\n",
    "\n",
    "T_wl = T_rw @ T_rl\n",
    "\n",
    "print(T_wl)\n",
    "\n",
    "\n",
    "sim.stopSimulation()"
   ]
  },
  {
   "cell_type": "code",
   "execution_count": 31,
   "metadata": {},
   "outputs": [
    {
     "name": "stdout",
     "output_type": "stream",
     "text": [
      "Connected to remote API server\n",
      "[[-1.57079637  4.9994998 ]\n",
      " [-1.56785512  4.9994998 ]\n",
      " [-1.5648967   4.9994998 ]\n",
      " ...\n",
      " [ 1.5648967   4.9994998 ]\n",
      " [ 1.56785512  4.9994998 ]\n",
      " [ 1.57079637  4.9994998 ]]\n",
      "Pos:  [-1.194471788406364, -1.8749983310699476, 0.4747518112659451]\n",
      "Program ended\n"
     ]
    },
    {
     "data": {
      "image/png": "[encoded data removed]",
      "text/plain": [
       "<Figure size 600x600 with 1 Axes>"
      ]
     },
     "metadata": {},
     "output_type": "display_data"
    }
   ],
   "source": [
    "from coppeliasim_zmqremoteapi_client import RemoteAPIClient\n",
    "\n",
    "import numpy as np\n",
    "import matplotlib.pyplot as plt\n",
    "import time\n",
    "import math\n",
    "\n",
    "client = RemoteAPIClient()\n",
    "sim = client.require('sim')\n",
    "sim.setStepping(True)\n",
    "\n",
    "\n",
    "sim.startSimulation()\n",
    "\n",
    "print ('Connected to remote API server')\n",
    "    \n",
    "# Iniciando a simulação\n",
    "# Deve usar a porta do 'continuous remote API server services' (remoteApiConnections.txt)\n",
    "# e = sim.simxStartSimulation(clientID,sim.simx_opmode_blocking)\n",
    "\n",
    "# Handle para o ROBÔ    \n",
    "robotname = \"/Pioneer_p3dx\"\n",
    "robotHandle = sim.getObject(robotname)     \n",
    "\n",
    "# Handle para as juntas das RODAS\n",
    "l_wheel = sim.getObject(robotname + '_leftMotor')\n",
    "r_wheel = sim.getObject(robotname + '_rightMotor')    \n",
    "\n",
    "# Handle para os dados do LASER\n",
    "laser_range_data = \"hokuyo_range_data\"\n",
    "laser_angle_data = \"hokuyo_angle_data\"\n",
    "\n",
    "# Geralmente a primeira leitura é inválida (atenção ao Operation Mode)\n",
    "# Em loop até garantir que as leituras serão válidas\n",
    "\n",
    "range_data = None\n",
    "while range_data == None:\n",
    "    range_data = sim.getStringSignal(laser_range_data)\n",
    "    sim.step()\n",
    "\n",
    "# Prosseguindo com as leituras\n",
    "raw_range_data, raw_angle_data = readSensorData(laser_range_data, laser_angle_data)\n",
    "laser_data = np.array([raw_angle_data, raw_range_data]).T\n",
    "\n",
    "print(laser_data)\n",
    "draw_laser_data(laser_data)\n",
    "\n",
    "pos = sim.getObjectPosition(robotHandle, sim.handle_world)        \n",
    "print('Pos: ', pos)\n",
    "\n",
    "#raise SystemExit()\n",
    "\n",
    "# Dados do Pioneer\n",
    "L = 0.381   # Metros\n",
    "r = 0.0975  # Metros\n",
    "\n",
    "sim.stopSimulation()\n",
    "    \n",
    "print ('Program ended')"
   ]
  },
  {
   "cell_type": "markdown",
   "metadata": {},
   "source": [
    "## Exercise 6"
   ]
  },
  {
   "cell_type": "code",
   "execution_count": 38,
   "metadata": {},
   "outputs": [],
   "source": [
    "\n",
    "def draw_laser_data_World_Ref(MTrans, laser_data, max_sensor_range=5, ax = None):\n",
    "    \n",
    "    if (ax == None):\n",
    "        fig = plt.figure(figsize=(6,6), dpi=100)\n",
    "        ax = fig.add_subplot(111, aspect='equal')\n",
    "        \n",
    "    for i in range(len(laser_data)):\n",
    "        ang, dist = laser_data[i]\n",
    "        \n",
    "        # Quando o feixe não acerta nada, retorna o valor máximo (definido na simulação)\n",
    "        # Logo, usar um pequeno limiar do máximo para considerar a leitura\n",
    "        if (max_sensor_range - dist) > 0.1:\n",
    "            p = np.zeros((4, 1))\n",
    "            \n",
    "            # Eixo x\n",
    "            p[0] = dist * np.cos(ang)\n",
    "            # Eixo y\n",
    "            p[1] = dist * np.sin(ang)\n",
    "            c = 'r'\n",
    "            if ang < 0:    \n",
    "                c = 'b'\n",
    "\n",
    "            # Eixo Z, como é 2D o valor pode ser zero\n",
    "            # p[2] = 0\n",
    "            # Perspectiva\n",
    "            p[3] = 1\n",
    "\n",
    "            new_point = MTrans @ p\n",
    "\n",
    "            ax.plot(new_point[0], new_point[1], 'o', color=c)\n",
    "\n",
    "    ax.plot(0, 0, 'k>', markersize=10)\n",
    "\n",
    "        \n",
    "    ax.grid()\n",
    "    # ax.set_xlim([-max_sensor_range, max_sensor_range])\n",
    "    # ax.set_ylim([-max_sensor_range, max_sensor_range])"
   ]
  },
  {
   "cell_type": "code",
   "execution_count": 41,
   "metadata": {},
   "outputs": [
    {
     "name": "stdout",
     "output_type": "stream",
     "text": [
      "Connected to remote API server\n",
      "[[ 0.49957983 -0.86626785  0.         -5.32344901]\n",
      " [ 0.86626785  0.49957983  0.          5.69106427]\n",
      " [ 0.          0.          1.          0.59003815]\n",
      " [ 0.          0.          0.          1.        ]]\n",
      "Program ended\n"
     ]
    },
    {
     "data": {
      "image/png": "[encoded data removed]",
      "text/plain": [
       "<Figure size 600x600 with 2 Axes>"
      ]
     },
     "metadata": {},
     "output_type": "display_data"
    }
   ],
   "source": [
    "sim.startSimulation()\n",
    "\n",
    "print ('Connected to remote API server')\n",
    "    \n",
    "    \n",
    "# Iniciando a simulação\n",
    "# Deve usar a porta do 'continuous remote API server services' (remoteApiConnections.txt)\n",
    "# e = sim.simxStartSimulation(clientID,sim.simx_opmode_blocking)\n",
    "\n",
    "# Handle para o ROBÔ    \n",
    "robotname = \"/Pioneer_p3dx\"\n",
    "robotHandle = sim.getObject(robotname)     \n",
    "\n",
    "# Handle para o Laser\n",
    "lasername = \"/Pioneer_p3dx/fastHokuyo\"\n",
    "laserHandle = sim.getObject(lasername)\n",
    "\n",
    "\n",
    "# Handle para as juntas das RODAS\n",
    "l_wheel = sim.getObject(robotname + '_leftMotor')\n",
    "r_wheel = sim.getObject(robotname + '_rightMotor')    \n",
    "\n",
    "print(T_wl)\n",
    "\n",
    "# Handle para os dados do LASER\n",
    "laser_range_data = \"hokuyo_range_data\"\n",
    "laser_angle_data = \"hokuyo_angle_data\"\n",
    "\n",
    "# Geralmente a primeira leitura é inválida (atenção ao Operation Mode)\n",
    "# Em loop até garantir que as leituras serão válidas\n",
    "\n",
    "range_data = None\n",
    "while range_data == None:\n",
    "    range_data = sim.getStringSignal(laser_range_data)\n",
    "    # sim.step() responsável por sincronizar com a emulação\n",
    "    sim.step()\n",
    "\n",
    "# Prosseguindo com as leituras\n",
    "raw_range_data, raw_angle_data = readSensorData(laser_range_data, laser_angle_data)\n",
    "laser_data = np.array([raw_angle_data, raw_range_data]).T\n",
    "\n",
    "#raise SystemExit()\n",
    "\n",
    "# Dados do Pioneer\n",
    "L = 0.381   # Metros\n",
    "r = 0.0975  # Metros\n",
    "\n",
    "###################################################\n",
    "\n",
    "#        Maybe this part is the exercise 6\n",
    "\n",
    "###################################################\n",
    "\n",
    "fig = plt.figure(figsize=(6,6), dpi=100)\n",
    "ax = fig.add_subplot(121, aspect='equal')\n",
    "ax1 = fig.add_subplot(122, aspect='equal')\n",
    "\n",
    "t = 0\n",
    "# Lembrar de habilitar o 'Real-time mode'\n",
    "startTime=time.time()\n",
    "lastTime = startTime\n",
    "while t < 20:\n",
    "    \n",
    "    now = time.time()\n",
    "    dt = now - lastTime\n",
    "\n",
    "    # Fazendo leitura do laser   \n",
    "    raw_range_data, raw_angle_data = readSensorData(laser_range_data, laser_angle_data)\n",
    "    laser_data = np.array([raw_angle_data, raw_range_data]).T\n",
    "\n",
    "    # Matriz de transformação do laser para o mundo\n",
    "    ## Matrix de transformação laser para o robo\n",
    "    T_rl = getTransformationMatrix(laserHandle, robotHandle)\n",
    "    ## Matrix de transformação robo para o mundo\n",
    "    T_rw = getTransformationMatrix(robotHandle)\n",
    "    ## Matrix de transformaçao laser para o mundo\n",
    "    T_wl = T_rw @ T_rl\n",
    "\n",
    "\n",
    "\n",
    "    pos = sim.getObjectPosition(robotHandle, sim.handle_world)        \n",
    "    # print('Pos: ', pos)\n",
    "\n",
    "    ax.plot(pos[0], pos[1], 'o', color='g')\n",
    "\n",
    "    draw_laser_data_World_Ref(T_wl, laser_data, ax = ax)\n",
    "    # draw_laser_data(laser_data, ax = ax1)\n",
    "    \n",
    "    # Velocidade básica (linear, angular)\n",
    "    v = 0\n",
    "    w = np.deg2rad(0)      \n",
    "\n",
    "    frente = int(len(laser_data)/2)\n",
    "    lado_direito = int(len(laser_data)*1/4)\n",
    "    lado_esquerdo = int(len(laser_data)*3/4)\n",
    "    \n",
    "    if laser_data[frente, 1] > 2:\n",
    "        v = .5\n",
    "        w = 0\n",
    "    elif laser_data[lado_direito, 1] > 2:\n",
    "        v = 0\n",
    "        w = np.deg2rad(-30)\n",
    "    elif laser_data[lado_esquerdo, 1] > 2:\n",
    "        v = 0\n",
    "        w = np.deg2rad(30)\n",
    "    \n",
    "    # Isso é o modelo cinemático, estudaremos detalhadamente depois!\n",
    "    wl = v/r - (w*L)/(2*r)\n",
    "    wr = v/r + (w*L)/(2*r)\n",
    "    \n",
    "    # Enviando velocidades\n",
    "    sim.setJointTargetVelocity(l_wheel, wl)\n",
    "    sim.setJointTargetVelocity(r_wheel, wr)        \n",
    "\n",
    "    t = t + dt  \n",
    "    lastTime = now\n",
    "\n",
    "# Parando o robô    \n",
    "sim.setJointTargetVelocity(r_wheel, 0)\n",
    "sim.setJointTargetVelocity(l_wheel, 0)        \n",
    "    \n",
    "sim.stopSimulation()\n",
    "\n",
    "print ('Program ended')"
   ]
  },
  {
   "cell_type": "code",
   "execution_count": null,
   "metadata": {},
   "outputs": [],
   "source": []
  }
 ],
 "metadata": {
  "kernelspec": {
   "display_name": "venv",
   "language": "python",
   "name": "python3"
  },
  "language_info": {
   "codemirror_mode": {
    "name": "ipython",
    "version": 3
   },
   "file_extension": ".py",
   "mimetype": "text/x-python",
   "name": "python",
   "nbconvert_exporter": "python",
   "pygments_lexer": "ipython3",
   "version": "3.11.2"
  },
  "orig_nbformat": 4
 },
 "nbformat": 4,
 "nbformat_minor": 2
}
