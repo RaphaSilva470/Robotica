{
 "cells": [
  {
   "cell_type": "markdown",
   "metadata": {},
   "source": [
    "## Modules Used"
   ]
  },
  {
   "cell_type": "code",
   "execution_count": 121,
   "metadata": {},
   "outputs": [],
   "source": [
    "# Modules used to connect to coppelia\n",
    "from coppeliasim_zmqremoteapi_client import RemoteAPIClient"
   ]
  },
  {
   "cell_type": "code",
   "execution_count": 122,
   "metadata": {},
   "outputs": [],
   "source": [
    "# Other Modules\n",
    "import numpy as np\n",
    "import pandas as pd\n",
    "import matplotlib.pyplot as plt\n",
    "import matplotlib.image as mpimg\n",
    "from tabulate import tabulate\n",
    "import os\n",
    "import networkx as nx\n",
    "from copy import deepcopy\n",
    "from time import sleep"
   ]
  },
  {
   "cell_type": "code",
   "execution_count": 123,
   "metadata": {},
   "outputs": [],
   "source": [
    "# An exemple of how to use the api to connet to coppelia\n",
    "client = RemoteAPIClient()\n",
    "sim = client.require('sim')\n",
    "sim.setStepping(True)\n",
    "\n",
    "sim.startSimulation()\n",
    "\n",
    "sim.stopSimulation()\n",
    "sleep(1)\n"
   ]
  },
  {
   "cell_type": "markdown",
   "metadata": {},
   "source": [
    "## Funções\n"
   ]
  },
  {
   "cell_type": "markdown",
   "metadata": {},
   "source": [
    "### Create Wavefront"
   ]
  },
  {
   "cell_type": "markdown",
   "metadata": {},
   "source": [
    "Abre a imagem que representa o mapa que o robô terá que navegar"
   ]
  },
  {
   "cell_type": "code",
   "execution_count": 124,
   "metadata": {},
   "outputs": [],
   "source": [
    "def openImage(imgPath, threshold = 0.5):\n",
    "    fig = plt.figure(figsize=(8,8), dpi=100)\n",
    "    ax = fig.add_subplot(111, aspect='equal')\n",
    "\n",
    "    # Invertendo os valores para visualização (Branco - 0, Preto - 1)\n",
    "    img = 1 - mpimg.imread(imgPath)\n",
    "\n",
    "    # Apenas para garantir que só teremos esses dois valores\n",
    "    img[img > threshold] = 1\n",
    "    img[img<= threshold] = 0\n",
    "\n",
    "    ax.imshow(img, cmap='Greys', origin='upper')\n",
    "\n",
    "    return img"
   ]
  },
  {
   "cell_type": "markdown",
   "metadata": {},
   "source": [
    "Função que Discretiza o Ambiente"
   ]
  },
  {
   "cell_type": "code",
   "execution_count": 125,
   "metadata": {},
   "outputs": [],
   "source": [
    "# img -> Uma matriz numpy da Imagem\n",
    "# map_dims -> Dimensões do mapa informado em metros (X, Y)\n",
    "# cell_size -> Tamanho da célula do nosso Grid (em metros)\n",
    "def discretizesTheEnvironment(img, map_dims, cell_size, threshold):\n",
    "\n",
    "    # Escala Pixel/Metro\n",
    "    sy, sx = img.shape / map_dims\n",
    "\n",
    "    rows, cols = (map_dims / cell_size).astype(int)\n",
    "    grid = np.zeros((rows, cols))\n",
    "\n",
    "\n",
    "    # Preenchendo o Grid\n",
    "    # Cada célula recebe o somatório dos valores dos Pixels\n",
    "    for r in range(rows):\n",
    "        for c in range(cols):\n",
    "            \n",
    "            # c*cell -> inicio da celula no mapa real (em metros)\n",
    "            # sx -> Escala\n",
    "            # c*cell*sx -> o inicio da celula porem na representação do mapa (pixel)\n",
    "            xi = int(c*cell_size*sx)\n",
    "            xf = int(xi + cell_size*sx)\n",
    "            \n",
    "            yi = int(r*cell_size*sy)\n",
    "            yf = int(yi + cell_size*sy)\n",
    "                        \n",
    "            grid[r, c] = np.sum(img[yi:yf,xi:xf])\n",
    "\n",
    "    # Binarizando as células como Ocupadas (1) ou Não-ocupadas (0)       \n",
    "    grid[grid > threshold] = 1\n",
    "    grid[grid<= threshold] = 0 \n",
    "\n",
    "    fig = plt.figure(figsize=(8,8), dpi=100)\n",
    "    ax = fig.add_subplot(111, aspect='equal')\n",
    "\n",
    "    # Plotando Mapa e Células\n",
    "    obj = ax.imshow(img, cmap='Greys', extent=(0, map_dims[1], 0, map_dims[0]), origin='upper')\n",
    "    obj = ax.imshow(grid, cmap='Reds', extent=(0, map_dims[1], 0, map_dims[0]), alpha=.6)\n",
    "\n",
    "    # Plotando as linhas do grid para facilitar a visualização\n",
    "    ax.grid(which='major', axis='both', linestyle='-', color='r', linewidth=1)\n",
    "    ax.set_xticks(np.arange(0, map_dims[1]+1, cell_size))\n",
    "    ax.set_yticks(np.arange(0, map_dims[0]+1, cell_size))\n",
    "\n",
    "    return grid\n"
   ]
  },
  {
   "cell_type": "markdown",
   "metadata": {},
   "source": [
    "Creating the wavefront"
   ]
  },
  {
   "cell_type": "code",
   "execution_count": 126,
   "metadata": {},
   "outputs": [],
   "source": [
    "def initWavefront(wave):\n",
    "    nRows, nCols = wave.shape\n",
    "\n",
    "    for r in range(nRows):\n",
    "        for c in range(nCols):\n",
    "            # Lugares que tem obstáculo coloca como infinito\n",
    "            wave[r][c] = np.Inf if wave[r][c] == 1 else -1 \n"
   ]
  },
  {
   "cell_type": "markdown",
   "metadata": {},
   "source": [
    "Função que cria o wavefront dado um objetivo"
   ]
  },
  {
   "cell_type": "code",
   "execution_count": 127,
   "metadata": {},
   "outputs": [],
   "source": [
    "def cellNeighbors(M, cell:tuple, queue:list, pos:list):\n",
    "    x, y = cell\n",
    "    actualCost = M[x][y]\n",
    "\n",
    "    nRows, nCols = M.shape\n",
    "\n",
    "    for p in pos:\n",
    "        dx, dy = p\n",
    "\n",
    "        # Verifica os limites\n",
    "        if (x + dx < 0 or y + dy < 0): continue\n",
    "        if (x + dx >= nRows or y + dy >= nCols): continue\n",
    "        \n",
    "        # Pega o valor da celula vizinha\n",
    "        neighborC = M[x + dx][y + dy]\n",
    "        \n",
    "        # Se vizinho é um obstáculo\n",
    "        if neighborC == np.Inf: continue\n",
    "        \n",
    "        # Se o vizinho nunca foi explorado anteriormente\n",
    "        # Coloca ele na fila (queue)\n",
    "        if neighborC == -1:\n",
    "            M[x + dx][y + dy] = actualCost + 1\n",
    "            queue.append((x + dx, y + dy))\n",
    "        \n",
    "        if neighborC > actualCost:\n",
    "            M[x + dx][y + dy] = actualCost + 1\n"
   ]
  },
  {
   "cell_type": "code",
   "execution_count": 128,
   "metadata": {},
   "outputs": [],
   "source": [
    "def waveFront(M, goal, pos):\n",
    "    M[goal[0]][goal[1]] = 0\n",
    "    queue = [goal]\n",
    "    \n",
    "    while len(queue) != 0:\n",
    "        cell = queue.pop(0)\n",
    "        cellNeighbors(M, cell, queue, pos)\n",
    "    "
   ]
  },
  {
   "cell_type": "markdown",
   "metadata": {},
   "source": [
    "### Função para converter meters to wavefront cells and vice versa"
   ]
  },
  {
   "cell_type": "markdown",
   "metadata": {},
   "source": [
    "Eixos e Origem da utilizados no Wavefront"
   ]
  },
  {
   "cell_type": "markdown",
   "metadata": {},
   "source": [
    "![image-2.png](attachment:image-2.png)\n"
   ]
  },
  {
   "cell_type": "markdown",
   "metadata": {},
   "source": [
    "Eixos e Origem (deslocada para o canto do mapa) do Mapa do Coppelia"
   ]
  },
  {
   "cell_type": "markdown",
   "metadata": {},
   "source": [
    "![image.png](attachment:image.png)"
   ]
  },
  {
   "cell_type": "markdown",
   "metadata": {},
   "source": [
    "Como os eixos e origem das duas representaçãoes não são o mesmo\n",
    "É necessário ter uma função que faça o mapeamento de uma representação para outra\n",
    "\n",
    "Eixos: Os eixos das duas representações são invertidos comparando um com o outro\n",
    "Origem: Está localizada em pontos diferentes"
   ]
  },
  {
   "cell_type": "code",
   "execution_count": 129,
   "metadata": {},
   "outputs": [],
   "source": [
    "# Converte da representação em metros dado pela simulação\n",
    "# Para a representação em celulas usado no wavefront\n",
    "def convertMetersToCells(x, y, cellSize):\n",
    "    \n",
    "    obj_position = np.array([x, y], dtype=int)\n",
    "\n",
    "    teta = np.deg2rad(-90)\n",
    "    \n",
    "    R = np.array([\n",
    "        [np.cos(teta), np.sin(teta)], \n",
    "        [-np.sin(teta), np.cos(teta)]\n",
    "        ])\n",
    "    \n",
    "    # Como se estivessemos rotacionando a origem do coppelia\n",
    "    # Fazendo com que os eixos do coppelia estejam na mesma\n",
    "    # Orientação dos Eixos da representação em wavefront\n",
    "    obj_position = R @ obj_position\n",
    "\n",
    "    # Como se estivessemos tranladando a origem do coppelia\n",
    "    # Movendo o do centro para a borda superior direita\n",
    "    obj_position += map_dims[0] // 2\n",
    "\n",
    "    # Calcula qual seria a célula que o robô estaria\n",
    "    obj_position /= cellSize\n",
    "\n",
    "    return obj_position.astype(int)"
   ]
  },
  {
   "cell_type": "markdown",
   "metadata": {},
   "source": [
    "Converte os pontos da representação em célula para o Mapa do Coppelia"
   ]
  },
  {
   "cell_type": "code",
   "execution_count": 130,
   "metadata": {},
   "outputs": [],
   "source": [
    "# Converte da representação em metros dado pela simulação\n",
    "# Para a representação em celulas usado no wavefront\n",
    "def convertCelltoMeters(x, y, cellSize):\n",
    "\n",
    "    obj_position = np.array([x, y], dtype=float)\n",
    "    \n",
    "    # Calcula qual seria a célula que o robô estaria\n",
    "    obj_position *= cellSize\n",
    "\n",
    "    # Como se estivessemos tranladando a origem do coppelia\n",
    "    # Movendo o do centro para a borda superior direita\n",
    "    obj_position -= map_dims[0] // 2 \n",
    "\n",
    "    teta = np.deg2rad(90)\n",
    "    \n",
    "    R = np.array([\n",
    "        [np.cos(teta), np.sin(teta)], \n",
    "        [-np.sin(teta), np.cos(teta)]\n",
    "        ])\n",
    "    \n",
    "    print(obj_position)\n",
    "\n",
    "    # Como se estivessemos rotacionando a origem do coppelia\n",
    "    # Fazendo com que os eixos do coppelia estejam na mesma\n",
    "    # Orientação dos Eixos da representação em wavefront\n",
    "    obj_position = R @ obj_position\n",
    "\n",
    "    return obj_position"
   ]
  },
  {
   "cell_type": "markdown",
   "metadata": {},
   "source": [
    "### Função que realiza o controle\n",
    "- Input -> Recebe como input uma posição\n",
    "- Output -> Leva o robo até a posição"
   ]
  },
  {
   "cell_type": "code",
   "execution_count": 131,
   "metadata": {},
   "outputs": [],
   "source": [
    "def controller(pgoal_C, cellSize):\n",
    "\n",
    "    pgoal = convertCelltoMeters(pgoal_C[0], pgoal_C[1], cellSize)\n",
    "\n",
    "    pgoal = pgoal.tolist()\n",
    "    print(pgoal)\n",
    "\n",
    "    # Frame que representa o Goal\n",
    "    goalFrame = sim.getObject('/nextStep')     \n",
    "    sim.setObjectPosition(goalFrame, [pgoal[0], pgoal[1], 0])\n",
    "    sim.setObjectOrientation(goalFrame, [0, 0, 0])\n",
    "    \n",
    "    rho = np.inf\n",
    "    # while rho > .05:\n",
    "    while rho > 0.5:\n",
    "        #Posição e Orientação do Robô\n",
    "        robotPos = sim.getObjectPosition(robotHandle)\n",
    "        robotOri = sim.getObjectOrientation(robotHandle)\n",
    "        robotConfig = np.array([robotPos[0], robotPos[1], robotOri[2]])        \n",
    "        \n",
    "        dx, dy = pgoal - robotConfig[:2]\n",
    "        \n",
    "        # Apenas para interromper o loop\n",
    "        rho = np.sqrt(dx**2 + dy**2)\n",
    "                \n",
    "        kr = 1\n",
    "        kt = 2\n",
    "        \n",
    "        v = kr*(dx*np.cos(robotConfig[2]) + dy*np.sin(robotConfig[2]))\n",
    "        w = kt*(np.arctan2(dy,dx) - robotConfig[2])\n",
    "                \n",
    "        # Limit v,w to +/- max\n",
    "        v = max(min(v, maxv), -maxv)\n",
    "        w = max(min(w, maxw), -maxw)        \n",
    "        \n",
    "        vr = ((2.0*v) + (w*L))/(2.0*r)\n",
    "        vl = ((2.0*v) - (w*L))/(2.0*r)\n",
    "\n",
    "        # Enviando velocidades\n",
    "        sim.setJointTargetVelocity(robotRightMotorHandle, vr)\n",
    "        sim.setJointTargetVelocity(robotLeftMotorHandle, vl) \n",
    "        sim.step()   \n",
    "\n",
    "    # Para os motores\n",
    "    sim.setJointTargetVelocity(robotRightMotorHandle, 0)\n",
    "    sim.setJointTargetVelocity(robotLeftMotorHandle, 0)"
   ]
  },
  {
   "cell_type": "markdown",
   "metadata": {},
   "source": [
    "### Planning the path"
   ]
  },
  {
   "cell_type": "code",
   "execution_count": 132,
   "metadata": {},
   "outputs": [],
   "source": [
    "def nextPos(M, actualPos:tuple, pos: list):\n",
    "    x, y = actualPos\n",
    "    nRows, nCols = M.shape\n",
    "\n",
    "    neighborsCost = []\n",
    "\n",
    "    for p in pos:\n",
    "        dx, dy = p\n",
    "\n",
    "        # Verifica os limites\n",
    "        if (x + dx < 0 or y + dy < 0): continue\n",
    "        if (x + dx >= nRows or y + dy >= nCols): continue\n",
    "        \n",
    "        # Pega o valor da celula vizinha\n",
    "        neighborC = M[x + dx][y + dy]\n",
    "        \n",
    "        # Se vizinho é um obstáculo\n",
    "        if neighborC == np.Inf: continue\n",
    "        \n",
    "        # Adiciona o custo e posição desse vizinho no vetor\n",
    "        neighborsCost.append((neighborC, (x+dx, y+dy)))\n",
    "\n",
    "    # Acha o vizinho com custo minimo\n",
    "    _, neighborPos = min(neighborsCost)\n",
    "\n",
    "    return neighborPos\n",
    "    \n"
   ]
  },
  {
   "cell_type": "code",
   "execution_count": 133,
   "metadata": {},
   "outputs": [],
   "source": [
    "def waveFrontPathPlanning(wave, start_point:tuple, pos:list, cellSize): \n",
    "    if wave[start_point[0]][start_point[1]] == -1: return \"Impossible\"\n",
    "    if wave[start_point[0]][start_point[1]] == np.inf: return \"Impossible\"\n",
    "    \n",
    "    actualPos = start_point\n",
    "    # actualPos = plotPoint(wave, actualPos)\n",
    "    while(wave[actualPos[0]][actualPos[1]] != 0):\n",
    "        # Desenha o Caminho que o robo vai fazer\n",
    "        plt.annotate('°', xy=(actualPos[1], actualPos[0]+0.35), \n",
    "                    ha='center', va='center', color='white') \n",
    "        actualPos = nextPos(wave, actualPos, pos)\n",
    "        # actualPos = plotPoint(wave, actualPos)\n",
    "\n",
    "        # Mobvimenta o robô\n",
    "        controller(actualPos, cellSize)\n"
   ]
  },
  {
   "cell_type": "markdown",
   "metadata": {},
   "source": [
    "## Variaveis"
   ]
  },
  {
   "cell_type": "markdown",
   "metadata": {},
   "source": [
    "### Variáveis para Criar o Wavefront"
   ]
  },
  {
   "cell_type": "markdown",
   "metadata": {},
   "source": [
    "Definindo as Variáveis Necessárias para Criar o WaveFront"
   ]
  },
  {
   "cell_type": "code",
   "execution_count": 134,
   "metadata": {},
   "outputs": [],
   "source": [
    "# Caminho para a imagem que representa o mapa\n",
    "imgPath = 'mapas/cave.png'\n",
    "\n",
    "# Limiar que decide se um pixel possui obstáculo ou não\n",
    "threshold = 0.5\n",
    "\n",
    "# Dimensões do mapa informado em metros (X, Y)\n",
    "# Isso vai depender do tamanho da cena no coppelia\n",
    "map_dims = np.array([40, 40]) # Cave \n",
    "\n",
    "# Tamanho da célula do nosso Grid (em metros)\n",
    "cell_size = 1 # Extremamente Importante esse valor\n",
    "\n",
    "# Esse vetor de posição considera em quais visinhos o robô pode ir \n",
    "# Leva em consideração os 8 vizinhos\n",
    "# pos = [(1,1), (1,0), (1,-1), (0,-1), (0, 1), (-1,-1), (-1, 0), (-1, 1)]\n",
    "# Leva em consideração 4 vizinhos (cima, baixo, direita e esqueda)\n",
    "pos = [(1, 0), (-1, 0), (0, 1), (0, -1)]"
   ]
  },
  {
   "cell_type": "markdown",
   "metadata": {},
   "source": [
    "Calcula qual célula o robô tem que ir\n",
    "\n",
    "Dado que a sua posição no Coppelia"
   ]
  },
  {
   "cell_type": "code",
   "execution_count": 135,
   "metadata": {},
   "outputs": [
    {
     "name": "stdout",
     "output_type": "stream",
     "text": [
      "goal:  (4, 33)\n"
     ]
    }
   ],
   "source": [
    "# An exemple of how to use the api to connet to coppelia\n",
    "client = RemoteAPIClient()\n",
    "sim = client.require('sim')\n",
    "sim.setStepping(True)\n",
    "\n",
    "sim.startSimulation()\n",
    "\n",
    "robotname = '/Pioneer_p3dx'\n",
    "robotHandle = sim.getObject(robotname)\n",
    "\n",
    "goalHandle = sim.getObject('/Goal')\n",
    "\n",
    "goalPos = sim.getObjectPosition(goalHandle)\n",
    "x, y = convertMetersToCells(goalPos[0], goalPos[1], cell_size)\n",
    "# O ponto de destino do robô\n",
    "goal = (x, y)\n",
    "\n",
    "print('goal: ', goal)\n",
    "\n",
    "sim.stopSimulation()\n",
    "sleep(1)\n"
   ]
  },
  {
   "cell_type": "markdown",
   "metadata": {},
   "source": [
    "### Variaveis do Robô"
   ]
  },
  {
   "cell_type": "code",
   "execution_count": 136,
   "metadata": {},
   "outputs": [],
   "source": [
    "robotname = '/Pioneer_p3dx'\n",
    "robotHandle = sim.getObject(robotname)\n",
    "\n",
    "# Handle para as juntas das RODAS\n",
    "robotLeftMotorHandle = sim.getObject(robotname + '_leftMotor')\n",
    "robotRightMotorHandle = sim.getObject(robotname + '_rightMotor')    \n",
    "\n",
    "# Específico do robô\n",
    "# https://www.generationrobots.com/media/Pioneer3DX-P3DX-RevA.pdf\n",
    "L = 0.381\n",
    "r = 0.0975\n",
    "maxv = 1.0\n",
    "maxw = np.deg2rad(45)"
   ]
  },
  {
   "cell_type": "markdown",
   "metadata": {},
   "source": [
    "### Variávies para fazer o Planejamento do Caminho"
   ]
  },
  {
   "cell_type": "markdown",
   "metadata": {},
   "source": [
    "Variáveis para controlar necessárias para calcular o caminho"
   ]
  },
  {
   "cell_type": "markdown",
   "metadata": {},
   "source": [
    "Pega a posição do robô e calcula a posição dele no waveFront"
   ]
  },
  {
   "cell_type": "code",
   "execution_count": 137,
   "metadata": {},
   "outputs": [
    {
     "name": "stdout",
     "output_type": "stream",
     "text": [
      "stat:  (37, 18)\n"
     ]
    }
   ],
   "source": [
    "# An exemple of how to use the api to connet to coppelia\n",
    "client = RemoteAPIClient()\n",
    "sim = client.require('sim')\n",
    "sim.setStepping(True)\n",
    "\n",
    "sim.startSimulation()\n",
    "\n",
    "robotname = '/Pioneer_p3dx'\n",
    "robotHandle = sim.getObject(robotname)\n",
    "\n",
    "robotPos = sim.getObjectPosition(robotHandle)\n",
    "x, y = convertMetersToCells(robotPos[0], robotPos[1], cell_size)\n",
    "# Posição Inicial do robô\n",
    "start = (x, y)\n",
    "\n",
    "print('stat: ', start)\n",
    "\n",
    "sim.stopSimulation()\n",
    "sleep(1)"
   ]
  },
  {
   "cell_type": "markdown",
   "metadata": {},
   "source": [
    "#### Chama as funções que cria o Wavefront"
   ]
  },
  {
   "cell_type": "code",
   "execution_count": 138,
   "metadata": {},
   "outputs": [
    {
     "data": {
      "image/png": "[encoded data removed]",
      "text/plain": [
       "<Figure size 800x800 with 1 Axes>"
      ]
     },
     "metadata": {},
     "output_type": "display_data"
    },
    {
     "data": {
      "image/png": "[encoded data removed]",
      "text/plain": [
       "<Figure size 800x800 with 1 Axes>"
      ]
     },
     "metadata": {},
     "output_type": "display_data"
    },
    {
     "data": {
      "image/png": "[encoded data removed]",
      "text/plain": [
       "<Figure size 640x480 with 1 Axes>"
      ]
     },
     "metadata": {},
     "output_type": "display_data"
    }
   ],
   "source": [
    "# Abre a imagem e retorna uma matriz numpy dela\n",
    "img = openImage(imgPath, threshold)\n",
    "\n",
    "# Cria uma matriz onde será construido o wavefront\n",
    "# E delemita onde tem objetos\n",
    "wave = discretizesTheEnvironment(img, map_dims, cell_size, threshold)\n",
    "plt.show()\n",
    "\n",
    "# Posições onde tem objetos possuem valor igual a infinito\n",
    "# Demais posições tem valores -1\n",
    "initWavefront(wave)\n",
    "\n",
    "# Calcula o wavefront\n",
    "waveFront(wave, goal, pos)\n",
    "\n",
    "# Plota como ficou a wavefront\n",
    "plt.imshow( wave ) \n",
    "\n",
    "# Mostra a onde está o goal\n",
    "plt.annotate('*', xy=(goal[1]-0.25, goal[0]+0.5), \n",
    "                    ha='center', va='center', color='white') \n",
    "plt.show()"
   ]
  },
  {
   "cell_type": "markdown",
   "metadata": {},
   "source": [
    "### Posição do Robô"
   ]
  },
  {
   "cell_type": "markdown",
   "metadata": {},
   "source": [
    "### Variávies para fazer o Planejamento do Caminho"
   ]
  },
  {
   "cell_type": "markdown",
   "metadata": {},
   "source": [
    "Variáveis para controlar necessárias para calcular o caminho"
   ]
  },
  {
   "cell_type": "markdown",
   "metadata": {},
   "source": [
    "Pega a posição do robô e calcula a posição dele no waveFront"
   ]
  },
  {
   "cell_type": "code",
   "execution_count": 139,
   "metadata": {},
   "outputs": [
    {
     "data": {
      "image/png": "[encoded data removed]",
      "text/plain": [
       "<Figure size 640x480 with 1 Axes>"
      ]
     },
     "metadata": {},
     "output_type": "display_data"
    }
   ],
   "source": [
    "# Plota como ficou a wavefront\n",
    "plt.imshow( wave ) \n",
    "\n",
    "# Mostra a onde está o goal\n",
    "plt.annotate('S', xy=(start[1]-0.25, start[0]+0.5), \n",
    "                    ha='center', va='center', color='white') \n",
    "plt.show()\n"
   ]
  },
  {
   "cell_type": "markdown",
   "metadata": {},
   "source": [
    "### Faz o robô se mover"
   ]
  },
  {
   "cell_type": "code",
   "execution_count": 140,
   "metadata": {},
   "outputs": [
    {
     "name": "stdout",
     "output_type": "stream",
     "text": [
      "[16. -2.]\n",
      "[-1.9999999999999991, -16.0]\n",
      "[15. -2.]\n",
      "[-1.9999999999999991, -15.0]\n",
      "[14. -2.]\n",
      "[-1.9999999999999991, -14.0]\n",
      "[13. -2.]\n",
      "[-1.9999999999999991, -13.0]\n",
      "[12. -2.]\n",
      "[-1.9999999999999993, -12.0]\n",
      "[11. -2.]\n",
      "[-1.9999999999999993, -11.0]\n",
      "[11. -3.]\n",
      "[-2.999999999999999, -11.0]\n",
      "[11. -4.]\n",
      "[-3.999999999999999, -11.0]\n",
      "[10. -4.]\n",
      "[-3.9999999999999996, -10.0]\n",
      "[ 9. -4.]\n",
      "[-3.9999999999999996, -9.0]\n",
      "[ 8. -4.]\n",
      "[-3.9999999999999996, -8.0]\n",
      "[ 7. -4.]\n",
      "[-3.9999999999999996, -7.0]\n",
      "[ 6. -4.]\n",
      "[-3.9999999999999996, -6.0]\n",
      "[ 5. -4.]\n",
      "[-3.9999999999999996, -5.0]\n",
      "[ 4. -4.]\n",
      "[-3.9999999999999996, -4.0]\n",
      "[ 3. -4.]\n",
      "[-4.0, -3.0000000000000004]\n",
      "[ 2. -4.]\n",
      "[-4.0, -2.0000000000000004]\n",
      "[ 1. -4.]\n",
      "[-4.0, -1.0000000000000002]\n",
      "[ 0. -4.]\n",
      "[-4.0, -2.4492935982947064e-16]\n",
      "[-1. -4.]\n",
      "[-4.0, 0.9999999999999998]\n",
      "[-2. -4.]\n",
      "[-4.0, 1.9999999999999998]\n",
      "[-3. -4.]\n",
      "[-4.0, 2.9999999999999996]\n",
      "[-4. -4.]\n",
      "[-4.0, 3.9999999999999996]\n",
      "[-5. -4.]\n",
      "[-4.0, 5.0]\n",
      "[-6. -4.]\n",
      "[-4.0, 6.0]\n",
      "[-7. -4.]\n",
      "[-4.0, 7.0]\n",
      "[-8. -4.]\n",
      "[-4.000000000000001, 8.0]\n",
      "[-9. -4.]\n",
      "[-4.000000000000001, 9.0]\n",
      "[-9. -3.]\n",
      "[-3.0000000000000004, 9.0]\n",
      "[-9. -2.]\n",
      "[-2.0000000000000004, 9.0]\n",
      "[-9. -1.]\n",
      "[-1.0000000000000004, 9.0]\n",
      "[-9.  0.]\n",
      "[-5.51091059616309e-16, 9.0]\n",
      "[-9.  1.]\n",
      "[0.9999999999999994, 9.0]\n",
      "[-9.  2.]\n",
      "[1.9999999999999996, 9.0]\n",
      "[-9.  3.]\n",
      "[2.9999999999999996, 9.0]\n",
      "[-9.  4.]\n",
      "[3.9999999999999996, 9.0]\n",
      "[-10.   4.]\n",
      "[3.9999999999999996, 10.0]\n",
      "[-11.   4.]\n",
      "[3.999999999999999, 11.0]\n",
      "[-12.   4.]\n",
      "[3.999999999999999, 12.0]\n",
      "[-13.   4.]\n",
      "[3.999999999999999, 13.0]\n",
      "[-14.   4.]\n",
      "[3.999999999999999, 14.0]\n",
      "[-15.   4.]\n",
      "[3.999999999999999, 15.0]\n",
      "[-16.   4.]\n",
      "[3.999999999999999, 16.0]\n",
      "[-16.   5.]\n",
      "[4.999999999999999, 16.0]\n",
      "[-16.   6.]\n",
      "[5.999999999999999, 16.0]\n",
      "[-16.   7.]\n",
      "[6.999999999999999, 16.0]\n",
      "[-16.   8.]\n",
      "[7.999999999999999, 16.0]\n",
      "[-16.   9.]\n",
      "[8.999999999999998, 16.0]\n",
      "[-16.  10.]\n",
      "[9.999999999999998, 16.0]\n",
      "[-16.  11.]\n",
      "[10.999999999999998, 16.0]\n",
      "[-16.  12.]\n",
      "[11.999999999999998, 16.0]\n",
      "[-16.  13.]\n",
      "[12.999999999999998, 16.0]\n"
     ]
    },
    {
     "data": {
      "image/png": "[encoded data removed]",
      "text/plain": [
       "<Figure size 640x480 with 1 Axes>"
      ]
     },
     "metadata": {},
     "output_type": "display_data"
    }
   ],
   "source": [
    "# # Escala Pixel/Metro\n",
    "# sy, sx = img.shape / map_dims\n",
    "\n",
    "# An exemple of how to use the api to connet to coppelia\n",
    "client = RemoteAPIClient()\n",
    "sim = client.require('sim')\n",
    "sim.setStepping(True)\n",
    "\n",
    "sim.startSimulation()\n",
    "\n",
    "plt.imshow( wave ) \n",
    "# Mostra a onde está o goal\n",
    "plt.annotate('S', xy=(start[1]-0.25, start[0]-0.25), \n",
    "                    ha='center', va='center', color='white') \n",
    "\n",
    "waveFrontPathPlanning(wave, start, pos, cell_size)\n",
    "\n",
    "sim.stopSimulation()\n"
   ]
  }
 ],
 "metadata": {
  "kernelspec": {
   "display_name": "venv",
   "language": "python",
   "name": "python3"
  },
  "language_info": {
   "codemirror_mode": {
    "name": "ipython",
    "version": 3
   },
   "file_extension": ".py",
   "mimetype": "text/x-python",
   "name": "python",
   "nbconvert_exporter": "python",
   "pygments_lexer": "ipython3",
   "version": "3.11.2"
  }
 },
 "nbformat": 4,
 "nbformat_minor": 2
}
