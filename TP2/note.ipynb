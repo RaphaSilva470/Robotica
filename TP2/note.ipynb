{
 "cells": [
  {
   "cell_type": "markdown",
   "metadata": {},
   "source": [
    "## Modules Used"
   ]
  },
  {
   "cell_type": "code",
   "execution_count": 9,
   "metadata": {},
   "outputs": [],
   "source": [
    "# Modules used to connect to coppelia\n",
    "from coppeliasim_zmqremoteapi_client import RemoteAPIClient"
   ]
  },
  {
   "cell_type": "code",
   "execution_count": 10,
   "metadata": {},
   "outputs": [],
   "source": [
    "# Other Modules\n",
    "import numpy as np\n",
    "import pandas as pd\n",
    "import matplotlib.pyplot as plt\n",
    "import matplotlib.image as mpimg\n",
    "from tabulate import tabulate\n",
    "import os\n",
    "import networkx as nx\n",
    "from copy import deepcopy\n",
    "from time import sleep"
   ]
  },
  {
   "cell_type": "code",
   "execution_count": 11,
   "metadata": {},
   "outputs": [],
   "source": [
    "# An exemple of how to use the api to connet to coppelia\n",
    "client = RemoteAPIClient()\n",
    "sim = client.require('sim')\n",
    "sim.setStepping(True)\n",
    "\n",
    "sim.startSimulation()\n",
    "\n",
    "sim.stopSimulation()\n",
    "sleep(1)\n"
   ]
  },
  {
   "cell_type": "markdown",
   "metadata": {},
   "source": [
    "#### Função que realiza o controle\n",
    "- Input -> Recebe como input uma posição\n",
    "- Output -> Leva o robo até a posição"
   ]
  },
  {
   "cell_type": "code",
   "execution_count": 12,
   "metadata": {},
   "outputs": [],
   "source": [
    "robotname = '/Pioneer_p3dx'\n",
    "robotHandle = sim.getObject(robotname)\n",
    "\n",
    "# Handle para as juntas das RODAS\n",
    "robotLeftMotorHandle = sim.getObject(robotname + '_leftMotor')\n",
    "robotRightMotorHandle = sim.getObject(robotname + '_rightMotor')    \n",
    "\n",
    "# Específico do robô\n",
    "# https://www.generationrobots.com/media/Pioneer3DX-P3DX-RevA.pdf\n",
    "L = 0.381\n",
    "r = 0.0975\n",
    "maxv = 1.0\n",
    "maxw = np.deg2rad(45)"
   ]
  },
  {
   "cell_type": "code",
   "execution_count": 13,
   "metadata": {},
   "outputs": [],
   "source": [
    "def controller(pgoal):\n",
    "    # Frame que representa o Goal\n",
    "    goalFrame = sim.getObject('/Goal')     \n",
    "    sim.setObjectPosition(goalFrame, [pgoal[0], pgoal[1], 0])\n",
    "    sim.setObjectOrientation(goalFrame, [0, 0, 0])\n",
    "    \n",
    "    rho = np.inf\n",
    "    while rho > .05:\n",
    "        #Posição e Orientação do Robô\n",
    "        robotPos = sim.getObjectPosition(robotHandle)\n",
    "        robotOri = sim.getObjectOrientation(robotHandle)\n",
    "        robotConfig = np.array([robotPos[0], robotPos[1], robotOri[2]])        \n",
    "        \n",
    "        dx, dy = pgoal - robotConfig[:2]\n",
    "        \n",
    "        # Apenas para interromper o loop\n",
    "        rho = np.sqrt(dx**2 + dy**2)\n",
    "                \n",
    "        kr = 1\n",
    "        kt = 2\n",
    "        \n",
    "        v = kr*(dx*np.cos(robotConfig[2]) + dy*np.sin(robotConfig[2]))\n",
    "        w = kt*(np.arctan2(dy,dx) - robotConfig[2])\n",
    "                \n",
    "        # Limit v,w to +/- max\n",
    "        v = max(min(v, maxv), -maxv)\n",
    "        w = max(min(w, maxw), -maxw)        \n",
    "        \n",
    "        vr = ((2.0*v) + (w*L))/(2.0*r)\n",
    "        vl = ((2.0*v) - (w*L))/(2.0*r)\n",
    "\n",
    "        # Enviando velocidades\n",
    "        sim.setJointTargetVelocity(robotRightMotorHandle, vr)\n",
    "        sim.setJointTargetVelocity(robotLeftMotorHandle, vl)    \n",
    "\n",
    "    # Para os motores\n",
    "    sim.setJointTargetVelocity(robotRightMotorHandle, 0)\n",
    "    sim.setJointTargetVelocity(robotLeftMotorHandle, 0)"
   ]
  },
  {
   "cell_type": "markdown",
   "metadata": {},
   "source": [
    "### Integrando o Controle com o Planejamento"
   ]
  },
  {
   "cell_type": "markdown",
   "metadata": {},
   "source": [
    "#### Controle"
   ]
  },
  {
   "cell_type": "markdown",
   "metadata": {},
   "source": [
    "Informações do Robô"
   ]
  },
  {
   "cell_type": "code",
   "execution_count": 14,
   "metadata": {},
   "outputs": [],
   "source": [
    "robotname = '/Pioneer_p3dx'\n",
    "robotHandle = sim.getObject(robotname)\n",
    "\n",
    "# Handle para as juntas das RODAS\n",
    "robotLeftMotorHandle = sim.getObject(robotname + '_leftMotor')\n",
    "robotRightMotorHandle = sim.getObject(robotname + '_rightMotor')    \n",
    "\n",
    "# Específico do robô\n",
    "# https://www.generationrobots.com/media/Pioneer3DX-P3DX-RevA.pdf\n",
    "L = 0.381\n",
    "r = 0.0975\n",
    "maxv = 1.0\n",
    "maxw = np.deg2rad(45)"
   ]
  },
  {
   "cell_type": "markdown",
   "metadata": {},
   "source": [
    "Função de Controle"
   ]
  },
  {
   "cell_type": "code",
   "execution_count": 15,
   "metadata": {},
   "outputs": [],
   "source": [
    "def controller(pgoal):\n",
    "    # Frame que representa o Goal\n",
    "    goalFrame = sim.getObject('/Goal')     \n",
    "    sim.setObjectPosition(goalFrame, [pgoal[0], pgoal[1], 0])\n",
    "    sim.setObjectOrientation(goalFrame, [0, 0, 0])\n",
    "    \n",
    "    rho = np.inf\n",
    "    while rho > .05:\n",
    "        #Posição e Orientação do Robô\n",
    "        robotPos = sim.getObjectPosition(robotHandle)\n",
    "        robotOri = sim.getObjectOrientation(robotHandle)\n",
    "        robotConfig = np.array([robotPos[0], robotPos[1], robotOri[2]])        \n",
    "        \n",
    "        dx, dy = pgoal - robotConfig[:2]\n",
    "        \n",
    "        # Apenas para interromper o loop\n",
    "        rho = np.sqrt(dx**2 + dy**2)\n",
    "                \n",
    "        kr = 1\n",
    "        kt = 2\n",
    "        \n",
    "        v = kr*(dx*np.cos(robotConfig[2]) + dy*np.sin(robotConfig[2]))\n",
    "        w = kt*(np.arctan2(dy,dx) - robotConfig[2])\n",
    "                \n",
    "        # Limit v,w to +/- max\n",
    "        v = max(min(v, maxv), -maxv)\n",
    "        w = max(min(w, maxw), -maxw)        \n",
    "        \n",
    "        vr = ((2.0*v) + (w*L))/(2.0*r)\n",
    "        vl = ((2.0*v) - (w*L))/(2.0*r)\n",
    "\n",
    "        # Enviando velocidades\n",
    "        sim.setJointTargetVelocity(robotRightMotorHandle, vr)\n",
    "        sim.setJointTargetVelocity(robotLeftMotorHandle, vl)    \n",
    "\n",
    "    # Para os motores\n",
    "    sim.setJointTargetVelocity(robotRightMotorHandle, 0)\n",
    "    sim.setJointTargetVelocity(robotLeftMotorHandle, 0)"
   ]
  },
  {
   "cell_type": "markdown",
   "metadata": {},
   "source": [
    "#### Planejamento de Caminho"
   ]
  },
  {
   "cell_type": "markdown",
   "metadata": {},
   "source": [
    "Abre a imagem que representa o mapa que o robô terá que navegar"
   ]
  },
  {
   "cell_type": "code",
   "execution_count": 16,
   "metadata": {},
   "outputs": [],
   "source": [
    "def openImage(imgPath, threshold = 0.5):\n",
    "    fig = plt.figure(figsize=(8,8), dpi=100)\n",
    "    ax = fig.add_subplot(111, aspect='equal')\n",
    "\n",
    "    # Invertendo os valores para visualização (Branco - 0, Preto - 1)\n",
    "    img = 1 - mpimg.imread(imgPath)\n",
    "\n",
    "    # Apenas para garantir que só teremos esses dois valores\n",
    "    img[img > threshold] = 1\n",
    "    img[img<= threshold] = 0\n",
    "\n",
    "    ax.imshow(img, cmap='Greys', origin='upper')\n",
    "\n",
    "    return img"
   ]
  },
  {
   "cell_type": "markdown",
   "metadata": {},
   "source": [
    "Função que Discretiza o Ambiente"
   ]
  },
  {
   "cell_type": "code",
   "execution_count": 17,
   "metadata": {},
   "outputs": [],
   "source": [
    "# img -> Uma matriz numpy da Imagem\n",
    "# map_dims -> Dimensões do mapa informado em metros (X, Y)\n",
    "# cell_size -> Tamanho da célula do nosso Grid (em metros)\n",
    "def discretizesTheEnvironment(img, map_dims, cell_size, threshold):\n",
    "\n",
    "    # Escala Pixel/Metro\n",
    "    sy, sx = img.shape / map_dims\n",
    "\n",
    "    rows, cols = (map_dims / cell_size).astype(int)\n",
    "    grid = np.zeros((rows, cols))\n",
    "\n",
    "\n",
    "    # Preenchendo o Grid\n",
    "    # Cada célula recebe o somatório dos valores dos Pixels\n",
    "    for r in range(rows):\n",
    "        for c in range(cols):\n",
    "            \n",
    "            # c*cell -> inicio da celula no mapa real (em metros)\n",
    "            # sx -> Escala\n",
    "            # c*cell*sx -> o inicio da celula porem na representação do mapa (pixel)\n",
    "            xi = int(c*cell_size*sx)\n",
    "            xf = int(xi + cell_size*sx)\n",
    "            \n",
    "            yi = int(r*cell_size*sy)\n",
    "            yf = int(yi + cell_size*sy)\n",
    "                        \n",
    "            grid[r, c] = np.sum(img[yi:yf,xi:xf])\n",
    "\n",
    "    # Binarizando as células como Ocupadas (1) ou Não-ocupadas (0)       \n",
    "    grid[grid > threshold] = 1\n",
    "    grid[grid<= threshold] = 0 \n",
    "\n",
    "    fig = plt.figure(figsize=(8,8), dpi=100)\n",
    "    ax = fig.add_subplot(111, aspect='equal')\n",
    "\n",
    "    # Plotando Mapa e Células\n",
    "    obj = ax.imshow(img, cmap='Greys', extent=(0, map_dims[1], 0, map_dims[0]), origin='upper')\n",
    "    obj = ax.imshow(grid, cmap='Reds', extent=(0, map_dims[1], 0, map_dims[0]), alpha=.6)\n",
    "\n",
    "    # Plotando as linhas do grid para facilitar a visualização\n",
    "    ax.grid(which='major', axis='both', linestyle='-', color='r', linewidth=1)\n",
    "    ax.set_xticks(np.arange(0, map_dims[1]+1, cell_size))\n",
    "    ax.set_yticks(np.arange(0, map_dims[0]+1, cell_size))\n",
    "\n",
    "    return grid\n"
   ]
  },
  {
   "cell_type": "markdown",
   "metadata": {},
   "source": [
    "Creating the wavefront"
   ]
  },
  {
   "cell_type": "code",
   "execution_count": 18,
   "metadata": {},
   "outputs": [],
   "source": [
    "def initWavefront(wave):\n",
    "    nRows, nCols = wave.shape\n",
    "\n",
    "    for r in range(nRows):\n",
    "        for c in range(nCols):\n",
    "            # Lugares que tem obstáculo coloca como infinito\n",
    "            wave[r][c] = np.Inf if wave[r][c] == 1 else -1 \n"
   ]
  },
  {
   "cell_type": "markdown",
   "metadata": {},
   "source": [
    "Função que cria o wavefront dado um objetivo"
   ]
  },
  {
   "cell_type": "code",
   "execution_count": 19,
   "metadata": {},
   "outputs": [],
   "source": [
    "def cellNeighbors(M, cell:tuple, queue:list, pos:list):\n",
    "    x, y = cell\n",
    "    actualCost = M[x][y]\n",
    "\n",
    "    nRows, nCols = M.shape\n",
    "\n",
    "    for p in pos:\n",
    "        dx, dy = p\n",
    "\n",
    "        # Verifica os limites\n",
    "        if (x + dx < 0 or y + dy < 0): continue\n",
    "        if (x + dx >= nRows or y + dy >= nCols): continue\n",
    "        \n",
    "        # Pega o valor da celula vizinha\n",
    "        neighborC = M[x + dx][y + dy]\n",
    "        \n",
    "        # Se vizinho é um obstáculo\n",
    "        if neighborC == np.Inf: continue\n",
    "        \n",
    "        # Se o vizinho nunca foi explorado anteriormente\n",
    "        # Coloca ele na fila (queue)\n",
    "        if neighborC == -1:\n",
    "            M[x + dx][y + dy] = actualCost + 1\n",
    "            queue.append((x + dx, y + dy))\n",
    "        \n",
    "        if neighborC > actualCost:\n",
    "            M[x + dx][y + dy] = actualCost + 1\n"
   ]
  },
  {
   "cell_type": "code",
   "execution_count": 20,
   "metadata": {},
   "outputs": [],
   "source": [
    "def waveFront(M, goal, pos):\n",
    "    M[goal[0]][goal[1]] = 0\n",
    "    queue = [goal]\n",
    "    \n",
    "    while len(queue) != 0:\n",
    "        cell = queue.pop(0)\n",
    "        cellNeighbors(M, cell, queue, pos)\n",
    "    "
   ]
  },
  {
   "cell_type": "markdown",
   "metadata": {},
   "source": [
    "### Planning the path"
   ]
  },
  {
   "cell_type": "code",
   "execution_count": 21,
   "metadata": {},
   "outputs": [],
   "source": [
    "def nextPos(M, actualPos:tuple, pos: list):\n",
    "    x, y = actualPos\n",
    "    nRows, nCols = M.shape\n",
    "\n",
    "    neighborsCost = []\n",
    "\n",
    "    for p in pos:\n",
    "        dx, dy = p\n",
    "\n",
    "        # Verifica os limites\n",
    "        if (x + dx < 0 or y + dy < 0): continue\n",
    "        if (x + dx >= nRows or y + dy >= nCols): continue\n",
    "        \n",
    "        # Pega o valor da celula vizinha\n",
    "        neighborC = M[x + dx][y + dy]\n",
    "        \n",
    "        # Se vizinho é um obstáculo\n",
    "        if neighborC == np.Inf: continue\n",
    "        \n",
    "        # Adiciona o custo e posição desse vizinho no vetor\n",
    "        neighborsCost.append((neighborC, (x+dx, y+dy)))\n",
    "\n",
    "    # Acha o vizinho com custo minimo\n",
    "    _, neighborPos = min(neighborsCost)\n",
    "\n",
    "    return neighborPos\n",
    "    \n"
   ]
  },
  {
   "cell_type": "code",
   "execution_count": 22,
   "metadata": {},
   "outputs": [],
   "source": [
    "def waveFrontPathPlanning(wave, start_point:tuple, pos:list):\n",
    "    count = 0\n",
    "    \n",
    "    actualPos = start_point\n",
    "    # actualPos = plotPoint(wave, actualPos)\n",
    "    while(wave[actualPos[0]][actualPos[1]] != 0):\n",
    "        # Desenha o Caminho que o robo vai fazer\n",
    "        plt.annotate('°', xy=(actualPos[1], actualPos[0]+0.35), \n",
    "                    ha='center', va='center', color='white') \n",
    "        actualPos = nextPos(wave, actualPos, pos)\n",
    "        # actualPos = plotPoint(wave, actualPos)\n",
    "        count += 1\n",
    "    \n",
    "    print(count)"
   ]
  },
  {
   "cell_type": "markdown",
   "metadata": {},
   "source": [
    "Chamando as funções"
   ]
  },
  {
   "cell_type": "markdown",
   "metadata": {},
   "source": [
    "Definindo as Variáveis"
   ]
  },
  {
   "cell_type": "code",
   "execution_count": 23,
   "metadata": {},
   "outputs": [],
   "source": [
    "# Caminho para a imagem que representa o mapa\n",
    "imgPath = 'mapas/cave.png'\n",
    "\n",
    "# Limiar que decide se um pixel possui obstáculo ou não\n",
    "threshold = 0.5\n",
    "\n",
    "# Dimensões do mapa informado em metros (X, Y)\n",
    "# Isso vai depender do tamanho da cena no coppelia\n",
    "map_dims = np.array([25, 25]) # Cave \n",
    "\n",
    "# Tamanho da célula do nosso Grid (em metros)\n",
    "cell_size = 1 # Extremamente Importante esse valor\n",
    "\n",
    "# O ponto de destino do robô\n",
    "goal = (11, 5)\n",
    "\n",
    "# Posição Inicial do robô\n",
    "start = (0, 11)\n",
    "\n",
    "# Esse vetor de posição considera em quais visinhos o robô pode ir \n",
    "# Leva em consideração os 8 vizinhos\n",
    "# pos = [(1,1), (1,0), (1,-1), (0,-1), (0, 1), (-1,-1), (-1, 0), (-1, 1)]\n",
    "\n",
    "# Leva em consideração 4 vizinhos (cima, baixo, direita e esqueda)\n",
    "pos = [(1, 0), (-1, 0), (0, 1), (0, -1)]"
   ]
  },
  {
   "cell_type": "code",
   "execution_count": 24,
   "metadata": {},
   "outputs": [
    {
     "data": {
      "image/png": "[encoded data removed]",
      "text/plain": [
       "<Figure size 800x800 with 1 Axes>"
      ]
     },
     "metadata": {},
     "output_type": "display_data"
    },
    {
     "data": {
      "image/png": "[encoded data removed]",
      "text/plain": [
       "<Figure size 800x800 with 1 Axes>"
      ]
     },
     "metadata": {},
     "output_type": "display_data"
    },
    {
     "data": {
      "image/png": "[encoded data removed]",
      "text/plain": [
       "<Figure size 640x480 with 1 Axes>"
      ]
     },
     "metadata": {},
     "output_type": "display_data"
    },
    {
     "name": "stdout",
     "output_type": "stream",
     "text": [
      "17\n"
     ]
    },
    {
     "data": {
      "image/png": "[encoded data removed]",
      "text/plain": [
       "<Figure size 640x480 with 1 Axes>"
      ]
     },
     "metadata": {},
     "output_type": "display_data"
    }
   ],
   "source": [
    "# Abre a imagem e retorna uma matriz numpy dela\n",
    "img = openImage(imgPath, threshold)\n",
    "\n",
    "# Cria uma matriz onde será construido o wavefront\n",
    "# E delemita onde tem objetos\n",
    "wave = discretizesTheEnvironment(img, map_dims, cell_size, threshold)\n",
    "plt.show()\n",
    "\n",
    "# Posições onde tem objetos possuem valor igual a infinito\n",
    "# Demais posições tem valores -1\n",
    "initWavefront(wave)\n",
    "\n",
    "# Calcula o wavefront\n",
    "waveFront(wave, goal, pos)\n",
    "\n",
    "# Plota como ficou a wavefront\n",
    "plt.imshow( wave ) \n",
    "\n",
    "# Mostra a onde está o goal\n",
    "plt.annotate('G', xy=(goal[1]-0.25, goal[0]-0.25), \n",
    "                    ha='center', va='center', color='white') \n",
    "plt.show()\n",
    "\n",
    "\n",
    "plt.imshow( wave ) \n",
    "waveFrontPathPlanning(wave, start, pos)\n",
    "\n"
   ]
  },
  {
   "cell_type": "code",
   "execution_count": 25,
   "metadata": {},
   "outputs": [],
   "source": [
    "# Converte da representação em metros dado pela simulação\n",
    "# Para a representação em celulas usado no wavefront\n",
    "def convertMetersToCells(x, y):\n",
    "    x_cell = int((x + 5) / 2)\n",
    "    y_cell = int((y + 5) / 2)\n",
    "\n",
    "    return x_cell, y_cell"
   ]
  },
  {
   "cell_type": "code",
   "execution_count": 26,
   "metadata": {},
   "outputs": [
    {
     "name": "stdout",
     "output_type": "stream",
     "text": [
      "0 3\n"
     ]
    }
   ],
   "source": [
    "# Escala Pixel/Metro\n",
    "sy, sx = img.shape / map_dims\n",
    "\n",
    "# An exemple of how to use the api to connet to coppelia\n",
    "client = RemoteAPIClient()\n",
    "sim = client.require('sim')\n",
    "sim.setStepping(True)\n",
    "\n",
    "sim.startSimulation()\n",
    "\n",
    "robotname = '/Pioneer_p3dx'\n",
    "robotHandle = sim.getObject(robotname)\n",
    "\n",
    "robotPos = sim.getObjectPosition(robotHandle)\n",
    "x, y = convertMetersToCells(robotPos[0], robotPos[1])\n",
    "print(x, y)\n",
    "\n",
    "# # Nao preciso saber a onde o robo está em pixels\n",
    "# # Pois o wavefront já foi convertida para \"metros\"\n",
    "# print('posição x em pixel: ', pos[0] * sx / cell_size)\n",
    "# print('posicao y em pixel: ', pos[1]* sy / cell_size)\n",
    "\n",
    "sim.stopSimulation()\n",
    "sleep(1)\n",
    "\n"
   ]
  }
 ],
 "metadata": {
  "kernelspec": {
   "display_name": "venv",
   "language": "python",
   "name": "python3"
  },
  "language_info": {
   "codemirror_mode": {
    "name": "ipython",
    "version": 3
   },
   "file_extension": ".py",
   "mimetype": "text/x-python",
   "name": "python",
   "nbconvert_exporter": "python",
   "pygments_lexer": "ipython3",
   "version": "3.11.2"
  }
 },
 "nbformat": 4,
 "nbformat_minor": 2
}
