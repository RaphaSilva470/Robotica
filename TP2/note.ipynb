{
 "cells": [
  {
   "cell_type": "markdown",
   "metadata": {},
   "source": [
    "## Modules Used"
   ]
  },
  {
   "cell_type": "markdown",
   "metadata": {},
   "source": [
    "Modulo responsável pela comunicação com o CoppeliaSim"
   ]
  },
  {
   "cell_type": "code",
   "execution_count": 420,
   "metadata": {},
   "outputs": [],
   "source": [
    "# Modules used to connect to coppelia\n",
    "from coppeliasim_zmqremoteapi_client import RemoteAPIClient"
   ]
  },
  {
   "cell_type": "markdown",
   "metadata": {},
   "source": [
    "Modulos Usados para Nesse trabalho prático"
   ]
  },
  {
   "cell_type": "code",
   "execution_count": 421,
   "metadata": {},
   "outputs": [],
   "source": [
    "# Other Modules\n",
    "import numpy as np\n",
    "import matplotlib.pyplot as plt\n",
    "import matplotlib.image as mpimg\n",
    "import os\n",
    "import networkx as nx\n",
    "from copy import deepcopy\n",
    "from time import sleep, time"
   ]
  },
  {
   "cell_type": "markdown",
   "metadata": {},
   "source": [
    "## Exemplo"
   ]
  },
  {
   "cell_type": "markdown",
   "metadata": {},
   "source": [
    "Exemplo de como se conectar no Coppelia"
   ]
  },
  {
   "cell_type": "code",
   "execution_count": 422,
   "metadata": {},
   "outputs": [],
   "source": [
    "# An exemple of how to use the api to connet to coppelia\n",
    "client = RemoteAPIClient()\n",
    "sim = client.require('sim')\n",
    "sim.setStepping(True)\n",
    "\n",
    "sim.startSimulation()\n",
    "\n",
    "sim.stopSimulation()\n",
    "sleep(1)\n"
   ]
  },
  {
   "cell_type": "markdown",
   "metadata": {},
   "source": [
    "## Pega o mapa da cena"
   ]
  },
  {
   "cell_type": "markdown",
   "metadata": {},
   "source": [
    "Trecho do Código responsável por gerar um mapa da cena do Coppelia"
   ]
  },
  {
   "cell_type": "markdown",
   "metadata": {},
   "source": [
    "Para isso seja possivel é necessário criar os seguintes passos\n",
    "- Criar Vision Sensor ortogonal\n",
    "- Posicionar e Editar alguns parametros do Vision Sensor para que ele veja o mapa inteiro mas ao mesmo tempo não veja o chão\n",
    "- Habilitar nas configurações do Vision Sensor a possibilidade de interação com uma API remota"
   ]
  },
  {
   "cell_type": "code",
   "execution_count": 1,
   "metadata": {},
   "outputs": [
    {
     "ename": "NameError",
     "evalue": "name 'RemoteAPIClient' is not defined",
     "output_type": "error",
     "traceback": [
      "\u001b[0;31m---------------------------------------------------------------------------\u001b[0m",
      "\u001b[0;31mNameError\u001b[0m                                 Traceback (most recent call last)",
      "Cell \u001b[0;32mIn[1], line 2\u001b[0m\n\u001b[1;32m      1\u001b[0m \u001b[38;5;66;03m# An exemple of how to use the api to connet to coppelia\u001b[39;00m\n\u001b[0;32m----> 2\u001b[0m client \u001b[38;5;241m=\u001b[39m \u001b[43mRemoteAPIClient\u001b[49m()\n\u001b[1;32m      3\u001b[0m sim \u001b[38;5;241m=\u001b[39m client\u001b[38;5;241m.\u001b[39mrequire(\u001b[38;5;124m'\u001b[39m\u001b[38;5;124msim\u001b[39m\u001b[38;5;124m'\u001b[39m)\n\u001b[1;32m      4\u001b[0m sim\u001b[38;5;241m.\u001b[39msetStepping(\u001b[38;5;28;01mTrue\u001b[39;00m)\n",
      "\u001b[0;31mNameError\u001b[0m: name 'RemoteAPIClient' is not defined"
     ]
    }
   ],
   "source": [
    "# An exemple of how to use the api to connet to coppelia\n",
    "client = RemoteAPIClient()\n",
    "sim = client.require('sim')\n",
    "sim.setStepping(True)\n",
    "\n",
    "sim.startSimulation()\n",
    "\n",
    "visionSensorHandle = sim.getObjectHandle('/Vision_sensor')\n",
    "\n",
    "sleep(3)\n",
    "\n",
    "# Função necessário para poder interagir com Vision sensor\n",
    "sim.handleVisionSensor(visionSensorHandle)\n",
    "imageBytes, resolution = sim.getVisionSensorImg(visionSensorHandle, 0)\n",
    "\n",
    "sim.saveImage(imageBytes, resolution, 0, 'foo.png', -1)\n",
    "\n",
    "sim.stopSimulation()\n",
    "sleep(1)\n"
   ]
  },
  {
   "cell_type": "markdown",
   "metadata": {},
   "source": [
    "## Funções\n"
   ]
  },
  {
   "cell_type": "markdown",
   "metadata": {},
   "source": [
    "### Create Wavefront"
   ]
  },
  {
   "cell_type": "markdown",
   "metadata": {},
   "source": [
    "Abre a imagem que representa o mapa que o robô terá que navegar\n",
    "\n",
    "E retorna uma matriz numpy"
   ]
  },
  {
   "cell_type": "code",
   "execution_count": 424,
   "metadata": {},
   "outputs": [],
   "source": [
    "def openImage(imgPath, threshold = 0.5):\n",
    "    fig = plt.figure(figsize=(8,8), dpi=100)\n",
    "    ax = fig.add_subplot(111, aspect='equal')\n",
    "\n",
    "    # Invertendo os valores para visualização (Branco - 0, Preto - 1)\n",
    "    img = 1 - mpimg.imread(imgPath)\n",
    "\n",
    "    # Apenas para garantir que só teremos esses dois valores\n",
    "    img[img > threshold] = 1\n",
    "    img[img<= threshold] = 0\n",
    "\n",
    "    ax.imshow(img, cmap='Greys', origin='upper')\n",
    "\n",
    "    return img"
   ]
  },
  {
   "cell_type": "markdown",
   "metadata": {},
   "source": [
    "Função que Discretiza o Ambiente"
   ]
  },
  {
   "cell_type": "code",
   "execution_count": 425,
   "metadata": {},
   "outputs": [],
   "source": [
    "# img -> Uma matriz numpy da Imagem\n",
    "# map_dims -> Dimensões do mapa informado em metros (X, Y)\n",
    "# cell_size -> Tamanho da célula do nosso Grid (em metros)\n",
    "def discretizesTheEnvironment(img, map_dims, cell_size, threshold):\n",
    "\n",
    "    # Escala Pixel/Metro\n",
    "    sy, sx = img.shape / map_dims\n",
    "\n",
    "    rows, cols = (map_dims / cell_size).astype(int)\n",
    "    grid = np.zeros((rows, cols))\n",
    "\n",
    "\n",
    "    # Preenchendo o Grid\n",
    "    # Cada célula recebe o somatório dos valores dos Pixels\n",
    "    for r in range(rows):\n",
    "        for c in range(cols):\n",
    "            \n",
    "            # c*cell -> inicio da celula no mapa real (em metros)\n",
    "            # sx -> Escala\n",
    "            # c*cell*sx -> o inicio da celula porem na representação do mapa (pixel)\n",
    "            xi = int(c*cell_size*sx)\n",
    "            xf = int(xi + cell_size*sx)\n",
    "            \n",
    "            yi = int(r*cell_size*sy)\n",
    "            yf = int(yi + cell_size*sy)\n",
    "                        \n",
    "            grid[r, c] = np.sum(img[yi:yf,xi:xf])\n",
    "\n",
    "    # Binarizando as células como Ocupadas (1) ou Não-ocupadas (0)       \n",
    "    grid[grid > threshold] = 1\n",
    "    grid[grid<= threshold] = 0 \n",
    "\n",
    "    \n",
    "    \n",
    "    # # Esse vetor de posição considera em quais visinhos o robô pode ir \n",
    "    # # Leva em consideração os 8 vizinhos\n",
    "    # pos = [(1,1), (1,0), (1,-1), (0,-1), (0, 1), (-1,-1), (-1, 0), (-1, 1)]\n",
    "    # # Leva em consideração 4 vizinhos (cima, baixo, direita e esqueda)\n",
    "    # # pos = [(1, 0), (-1, 0), (0, 1), (0, -1)]\n",
    "    \n",
    "    \n",
    "    # newGrid = deepcopy(grid)\n",
    "\n",
    "    # # Comportamento Desejado: Aumenta os obstaculos de acordo com o tamanho do robô\n",
    "    # # Comportamento Atual: Expande os obstaculos em uma célula\n",
    "    # gridR, gridC = grid.shape\n",
    "    # for r in range(gridR):\n",
    "    #     for c in range(gridC):\n",
    "    #         # Se tem obstáculo no grid\n",
    "    #         if grid[r][c] == 1:\n",
    "    #             for dx, dy in pos:\n",
    "    #                 isXPositionValid = (r+dx >= 0 and r+dx < gridR)\n",
    "    #                 isYPositionValid = (c+dy >= 0 and c+dy < gridC)\n",
    "    #                 if (isXPositionValid and isYPositionValid):\n",
    "    #                     newGrid[r+dx][c+dy] = 1\n",
    "    \n",
    "    # grid = newGrid\n",
    "                \n",
    "\n",
    "\n",
    "    fig = plt.figure(figsize=(8,8), dpi=100)\n",
    "    ax = fig.add_subplot(111, aspect='equal')\n",
    "\n",
    "    # Plotando Mapa e Células\n",
    "    obj = ax.imshow(img, cmap='Greys', extent=(0, map_dims[1], 0, map_dims[0]), origin='upper')\n",
    "    obj = ax.imshow(grid, cmap='Reds', extent=(0, map_dims[1], 0, map_dims[0]), alpha=.6)\n",
    "\n",
    "    # Plotando as linhas do grid para facilitar a visualização\n",
    "    ax.grid(which='major', axis='both', linestyle='-', color='r', linewidth=1)\n",
    "    ax.set_xticks(np.arange(0, map_dims[1]+1, cell_size))\n",
    "    ax.set_yticks(np.arange(0, map_dims[0]+1, cell_size))\n",
    "\n",
    "    return grid\n"
   ]
  },
  {
   "cell_type": "markdown",
   "metadata": {},
   "source": [
    "### Creating the wavefront"
   ]
  },
  {
   "cell_type": "markdown",
   "metadata": {},
   "source": [
    "#### Inicializa os valores da matriz que representa a wavefront\n",
    "- Colocando como infinito células que possuem obstáculo\n",
    "- E menos -1 as demais posições"
   ]
  },
  {
   "cell_type": "code",
   "execution_count": 426,
   "metadata": {},
   "outputs": [],
   "source": [
    "def initWavefront(wave):\n",
    "    nRows, nCols = wave.shape\n",
    "\n",
    "    for r in range(nRows):\n",
    "        for c in range(nCols):\n",
    "            # Lugares que tem obstáculo coloca como infinito\n",
    "            wave[r][c] = np.Inf if wave[r][c] == 1 else -1 \n"
   ]
  },
  {
   "cell_type": "markdown",
   "metadata": {},
   "source": [
    "#### Função que cria o wavefront dado um objetivo"
   ]
  },
  {
   "cell_type": "markdown",
   "metadata": {},
   "source": [
    "Calcula os valores das células vizinhas"
   ]
  },
  {
   "cell_type": "code",
   "execution_count": 2,
   "metadata": {},
   "outputs": [],
   "source": [
    "def cellNeighbors(M, cell:tuple, queue:list, pos:list):\n",
    "    x, y = cell\n",
    "    actualCost = M[x][y]\n",
    "\n",
    "    nRows, nCols = M.shape\n",
    "\n",
    "    # O vetor pos representa os possivies movimentos que o Robô pode fazer\n",
    "    # Por exemplo se ele pode andar para as celulas vizinhas que então na diagonal\n",
    "    for p in pos:\n",
    "        dx, dy = p\n",
    "\n",
    "        # Verifica os limites\n",
    "        if (x + dx < 0 or y + dy < 0): continue\n",
    "        if (x + dx >= nRows or y + dy >= nCols): continue\n",
    "        \n",
    "        # Pega o valor da celula vizinha\n",
    "        neighborC = M[x + dx][y + dy]\n",
    "        \n",
    "        # Se vizinho é um obstáculo\n",
    "        if neighborC == np.Inf: continue\n",
    "        \n",
    "        # Se o vizinho nunca foi explorado anteriormente\n",
    "        # Coloca ele na fila (queue)\n",
    "        if neighborC == -1:\n",
    "            M[x + dx][y + dy] = actualCost + 1\n",
    "            queue.append((x + dx, y + dy))\n",
    "        \n",
    "        if neighborC > actualCost:\n",
    "            M[x + dx][y + dy] = actualCost + 1\n"
   ]
  },
  {
   "cell_type": "markdown",
   "metadata": {},
   "source": [
    "Cria o wave front"
   ]
  },
  {
   "cell_type": "code",
   "execution_count": 4,
   "metadata": {},
   "outputs": [],
   "source": [
    "# M -> é a matriz que representa o wavefront\n",
    "# goal -> é o objetivo e o valor da sua célula será 0, o menor valor para uma célula viavel\n",
    "# pos -> O vetor pos representa os possivies movimentos que o Robô pode fazer\n",
    "def waveFront(M, goal, pos):\n",
    "    M[goal[0]][goal[1]] = 0\n",
    "    \n",
    "    # Uma fila para registrar quais células devem ser processadas\n",
    "    # Uma célula entra na fila só na primeira vez que seu valor é calculado\n",
    "    queue = [goal]\n",
    "    \n",
    "    while len(queue) != 0:\n",
    "        cell = queue.pop(0)\n",
    "        cellNeighbors(M, cell, queue, pos)\n",
    "    "
   ]
  },
  {
   "cell_type": "markdown",
   "metadata": {},
   "source": [
    "### Função para converter meters to wavefront cells and vice versa"
   ]
  },
  {
   "cell_type": "markdown",
   "metadata": {},
   "source": [
    "Eixos e Origem da utilizados no Wavefront são diferentes dos utilizados no CoppeliaSim"
   ]
  },
  {
   "cell_type": "markdown",
   "metadata": {},
   "source": [
    "![image](axis.png)\n"
   ]
  },
  {
   "cell_type": "markdown",
   "metadata": {},
   "source": [
    "Como os eixos e origem das duas representaçãoes não são o mesmo\n",
    "\n",
    "É necessário ter uma função que faça o mapeamento de uma representação para outra\n",
    "\n",
    "Com os eixos das duas representações são invertidos comparando um com o outro basta realizar uma rotação"
   ]
  },
  {
   "cell_type": "code",
   "execution_count": 429,
   "metadata": {},
   "outputs": [],
   "source": [
    "# Converte da representação em metros dado pela simulação\n",
    "# Para a representação em celulas usado no wavefront\n",
    "def convertMetersToCells(x, y, cellSize):\n",
    "    \n",
    "    obj_position = np.array([x, y], dtype=int)\n",
    "\n",
    "    teta = np.deg2rad(-90)\n",
    "    \n",
    "    R = np.array([\n",
    "        [np.cos(teta), np.sin(teta)], \n",
    "        [-np.sin(teta), np.cos(teta)]\n",
    "        ])\n",
    "    \n",
    "    # Como se estivessemos rotacionando a origem do coppelia\n",
    "    # Fazendo com que os eixos do coppelia estejam na mesma\n",
    "    # Orientação dos Eixos da representação em wavefront\n",
    "    obj_position = R @ obj_position\n",
    "\n",
    "    # Como se estivessemos tranladando a origem do coppelia\n",
    "    # Movendo o do centro para a borda superior direita\n",
    "    obj_position += map_dims[0] // 2\n",
    "\n",
    "    # Calcula qual seria a célula que o robô estaria\n",
    "    obj_position /= cellSize\n",
    "\n",
    "    return obj_position.astype(int)"
   ]
  },
  {
   "cell_type": "markdown",
   "metadata": {},
   "source": [
    "Converte os pontos da representação em célula para o Mapa do Coppelia"
   ]
  },
  {
   "cell_type": "code",
   "execution_count": 430,
   "metadata": {},
   "outputs": [],
   "source": [
    "# Converte da representação em metros dado pela simulação\n",
    "# Para a representação em celulas usado no wavefront\n",
    "def convertCelltoMeters(x, y, cellSize):\n",
    "\n",
    "    obj_position = np.array([x, y], dtype=float)\n",
    "    \n",
    "    # Calcula qual seria a célula que o robô estaria\n",
    "    obj_position *= cellSize\n",
    "\n",
    "    # Como se estivessemos tranladando a origem do coppelia\n",
    "    # Movendo o do centro para a borda superior direita\n",
    "    obj_position -= map_dims[0] // 2 \n",
    "\n",
    "    teta = np.deg2rad(90)\n",
    "    \n",
    "    R = np.array([\n",
    "        [np.cos(teta), np.sin(teta)], \n",
    "        [-np.sin(teta), np.cos(teta)]\n",
    "        ])\n",
    "    \n",
    "    print(obj_position)\n",
    "\n",
    "    # Como se estivessemos rotacionando a origem do coppelia\n",
    "    # Fazendo com que os eixos do coppelia estejam na mesma\n",
    "    # Orientação dos Eixos da representação em wavefront\n",
    "    obj_position = R @ obj_position\n",
    "\n",
    "    return obj_position"
   ]
  },
  {
   "cell_type": "markdown",
   "metadata": {},
   "source": [
    "### Função que realiza o controle\n",
    "- Input -> Recebe como input uma posição\n",
    "- Output -> Leva o robo até a posição"
   ]
  },
  {
   "cell_type": "code",
   "execution_count": 431,
   "metadata": {},
   "outputs": [],
   "source": [
    "def controller(pgoal_C, cellSize):\n",
    "\n",
    "    pgoal = convertCelltoMeters(pgoal_C[0], pgoal_C[1], cellSize)\n",
    "\n",
    "    pgoal = pgoal.tolist()\n",
    "    # for i in range(len(pgoal)):\n",
    "    #     pgoal[i] -= cellSize/2\n",
    "    pgoal[1] -= cellSize\n",
    "\n",
    "    # Frame que representa o proximo posição do robô\n",
    "    goalFrame = sim.getObject('/nextStep')     \n",
    "    sim.setObjectPosition(goalFrame, [pgoal[0], pgoal[1], 0])\n",
    "    sim.setObjectOrientation(goalFrame, [0, 0, 0])\n",
    "    \n",
    "    # Variavel Utilizada para calcular o fator derivativo\n",
    "    lastTime = time()\n",
    "    lastError = [0,0]\n",
    "\n",
    "    rho = np.inf\n",
    "    # while rho > .05:\n",
    "    while rho > 1:\n",
    "        #Posição e Orientação do Robô\n",
    "        robotPos = sim.getObjectPosition(robotHandle)\n",
    "        robotOri = sim.getObjectOrientation(robotHandle)\n",
    "        robotConfig = np.array([robotPos[0], robotPos[1], robotOri[2]])        \n",
    "\n",
    "        ###########################  Parte do Código responsável pelo controle ############################\n",
    "        \n",
    "        # Calcula o delta time\n",
    "        now = time()\n",
    "        dt = now - lastTime\n",
    "\n",
    "        # Erro: Diferença entre a posição objetivo e a posição atual\n",
    "        dx, dy = pgoal - robotConfig[:2] \n",
    "\n",
    "        # Erro_diferencial: Diferença do erro atual em relação ao erro anterior\n",
    "        dx_D = (dx - lastError[0]) / dt\n",
    "        dy_D = (dy - lastError[1]) / dt\n",
    "        \n",
    "        # Apenas para interromper o loop\n",
    "        rho = np.sqrt(dx**2 + dy**2)\n",
    "\n",
    "        # Variáveis de proporcionalidade  \n",
    "        KPr = 1\n",
    "        KPt = 2\n",
    "\n",
    "        # Variáveis derivativas\n",
    "        KDr = 2\n",
    "        KDt = 0.5\n",
    "\n",
    "        # Calcula as velocidades\n",
    "        # Velocidade Linear Proporcional\n",
    "        uPr = dx*np.cos(robotConfig[2]) + dy*np.sin(robotConfig[2])\n",
    "        uPr *= KPr\n",
    "\n",
    "        # Velocidade Linear Derivada\n",
    "        uDr = dx_D*np.cos(robotConfig[2]) + dy_D*np.sin(robotConfig[2])\n",
    "        uDr *= KDr\n",
    "\n",
    "        # Velocidade Angular Proporcional \n",
    "        uPt = (np.arctan2(dy,dx) - robotConfig[2])\n",
    "        uPt *= KPt\n",
    "\n",
    "        # Velocidade Angular Derivada\n",
    "        uKt = np.arctan2(dy_D,dx_D) - robotConfig[2]\n",
    "        uKt *= KDt\n",
    "        \n",
    "        # v -> velocidade Linear\n",
    "        # w -> Velocidade Angular\n",
    "        v = uPr + uDr\n",
    "        w = uPt #+ uKt\n",
    "\n",
    "        # Limit v,w to +/- max\n",
    "        v = max(min(v, maxv), -maxv)\n",
    "        w = max(min(w, maxw), -maxw) \n",
    "               \n",
    "        # Objetivo: quero que o robô ajuste primeiro a sua posição em relação ao objetivo \n",
    "        # E dps se movimente para ele\n",
    "        # if(w > np.deg2rad() or w < np.deg2rad(315) ) and rho > 1)\n",
    "\n",
    "        if (w > np.deg2rad(10) and w < np.deg2rad(45) ) and rho > 1:\n",
    "            v = 0\n",
    "        if (w < np.deg2rad(-10) and w > np.deg2rad(-45) ) and rho > 1:\n",
    "            v = 0\n",
    "            \n",
    "\n",
    "        vr = ((2.0*v) + (w*L))/(2.0*r)\n",
    "        vl = ((2.0*v) - (w*L))/(2.0*r)\n",
    "\n",
    "        lastTime = now \n",
    "        lastError = [dx, dy]\n",
    "\n",
    "\n",
    "\n",
    "        ####################################################################################################\n",
    "\n",
    "        # Enviando velocidades\n",
    "        sim.setJointTargetVelocity(robotRightMotorHandle, vr)\n",
    "        sim.setJointTargetVelocity(robotLeftMotorHandle, vl) \n",
    "        sim.step()   \n",
    "\n",
    "    # Para os motores\n",
    "    sim.setJointTargetVelocity(robotRightMotorHandle, 0)\n",
    "    sim.setJointTargetVelocity(robotLeftMotorHandle, 0)"
   ]
  },
  {
   "cell_type": "markdown",
   "metadata": {},
   "source": [
    "### Planning the path"
   ]
  },
  {
   "cell_type": "code",
   "execution_count": 432,
   "metadata": {},
   "outputs": [],
   "source": [
    "def nextPos(M, actualPos:tuple, pos: list):\n",
    "    x, y = actualPos\n",
    "    nRows, nCols = M.shape\n",
    "\n",
    "    neighborsCost = []\n",
    "\n",
    "    for p in pos:\n",
    "        dx, dy = p\n",
    "\n",
    "        # Verifica os limites\n",
    "        if (x + dx < 0 or y + dy < 0): continue\n",
    "        if (x + dx >= nRows or y + dy >= nCols): continue\n",
    "        \n",
    "        # Pega o valor da celula vizinha\n",
    "        neighborC = M[x + dx][y + dy]\n",
    "        \n",
    "        # Se vizinho é um obstáculo\n",
    "        if neighborC == np.Inf: continue\n",
    "        \n",
    "        # Adiciona o custo e posição desse vizinho no vetor\n",
    "        neighborsCost.append((neighborC, (x+dx, y+dy)))\n",
    "\n",
    "    # Acha o vizinho com custo minimo\n",
    "    _, neighborPos = min(neighborsCost)\n",
    "\n",
    "    return neighborPos\n",
    "    \n"
   ]
  },
  {
   "cell_type": "code",
   "execution_count": 433,
   "metadata": {},
   "outputs": [],
   "source": [
    "def waveFrontPathPlanning(wave, start_point:tuple, pos:list, cellSize): \n",
    "    if wave[start_point[0]][start_point[1]] == -1: return \"Impossible\"\n",
    "    if wave[start_point[0]][start_point[1]] == np.inf: return \"Impossible\"\n",
    "    \n",
    "    actualPos = start_point\n",
    "    # actualPos = plotPoint(wave, actualPos)\n",
    "    while(wave[actualPos[0]][actualPos[1]] != 0):\n",
    "        # Desenha o Caminho que o robo vai fazer\n",
    "        plt.annotate('°', xy=(actualPos[1], actualPos[0]+0.35), \n",
    "                    ha='center', va='center', color='white') \n",
    "        actualPos = nextPos(wave, actualPos, pos)\n",
    "        # actualPos = plotPoint(wave, actualPos)\n",
    "\n",
    "        # Mobvimenta o robô\n",
    "        controller(actualPos, cellSize)\n"
   ]
  },
  {
   "cell_type": "markdown",
   "metadata": {},
   "source": [
    "## Variaveis"
   ]
  },
  {
   "cell_type": "markdown",
   "metadata": {},
   "source": [
    "### Variáveis para Criar o Wavefront"
   ]
  },
  {
   "cell_type": "markdown",
   "metadata": {},
   "source": [
    "Definindo as Variáveis Necessárias para Criar o WaveFront"
   ]
  },
  {
   "cell_type": "code",
   "execution_count": 434,
   "metadata": {},
   "outputs": [],
   "source": [
    "# Caminho para a imagem que representa o mapa\n",
    "imgPath = '/home/samuelbrisio/Documents/Coppelia/Coppelia_Assingment/TP2/my_maps/foo.png'\n",
    "\n",
    "# Limiar que decide se um pixel possui obstáculo ou não\n",
    "# threshold = 0.5 # Usar esse valor nos mapas que o professor deu\n",
    "threshold = 0.05 # Usar esse valor para os mapas gerados pela minha função\n",
    "\n",
    "# Dimensões do mapa informado em metros (X, Y)\n",
    "# Isso vai depender do tamanho da cena no coppelia\n",
    "map_dims = np.array([40, 40]) # Cave \n",
    "\n",
    "# Tamanho da célula do nosso Grid (em metros)\n",
    "cell_size = 1 # Extremamente Importante esse valor\n",
    "\n",
    "# Esse vetor de posição considera em quais visinhos o robô pode ir \n",
    "# Leva em consideração os 8 vizinhos\n",
    "# pos = [(1,1), (1,0), (1,-1), (0,-1), (0, 1), (-1,-1), (-1, 0), (-1, 1)]\n",
    "# Leva em consideração 4 vizinhos (cima, baixo, direita e esqueda)\n",
    "pos = [(1, 0), (-1, 0), (0, 1), (0, -1)]"
   ]
  },
  {
   "cell_type": "markdown",
   "metadata": {},
   "source": [
    "Calcula qual célula o robô tem que ir\n",
    "\n",
    "Dado que a sua posição no Coppelia"
   ]
  },
  {
   "cell_type": "code",
   "execution_count": 435,
   "metadata": {},
   "outputs": [
    {
     "name": "stdout",
     "output_type": "stream",
     "text": [
      "goal:  (26, 31)\n"
     ]
    }
   ],
   "source": [
    "# An exemple of how to use the api to connet to coppelia\n",
    "client = RemoteAPIClient()\n",
    "sim = client.require('sim')\n",
    "sim.setStepping(True)\n",
    "\n",
    "sim.startSimulation()\n",
    "\n",
    "robotname = '/Pioneer_p3dx'\n",
    "robotHandle = sim.getObject(robotname)\n",
    "\n",
    "goalHandle = sim.getObject('/Goal')\n",
    "\n",
    "goalPos = sim.getObjectPosition(goalHandle)\n",
    "x, y = convertMetersToCells(goalPos[0], goalPos[1], cell_size)\n",
    "# O ponto de destino do robô\n",
    "goal = (x, y)\n",
    "\n",
    "print('goal: ', goal)\n",
    "\n",
    "sim.stopSimulation()\n",
    "sleep(1)\n"
   ]
  },
  {
   "cell_type": "markdown",
   "metadata": {},
   "source": [
    "### Variaveis do Robô"
   ]
  },
  {
   "cell_type": "code",
   "execution_count": 436,
   "metadata": {},
   "outputs": [],
   "source": [
    "robotname = '/Pioneer_p3dx'\n",
    "robotHandle = sim.getObject(robotname)\n",
    "\n",
    "# Handle para as juntas das RODAS\n",
    "robotLeftMotorHandle = sim.getObject(robotname + '_leftMotor')\n",
    "robotRightMotorHandle = sim.getObject(robotname + '_rightMotor')    \n",
    "\n",
    "# Específico do robô\n",
    "# https://www.generationrobots.com/media/Pioneer3DX-P3DX-RevA.pdf\n",
    "L = 0.381\n",
    "r = 0.0975\n",
    "maxv = 1.0\n",
    "maxw = np.deg2rad(45)"
   ]
  },
  {
   "cell_type": "markdown",
   "metadata": {},
   "source": [
    "### Variávies para fazer o Planejamento do Caminho"
   ]
  },
  {
   "cell_type": "markdown",
   "metadata": {},
   "source": [
    "Variáveis para controlar necessárias para calcular o caminho"
   ]
  },
  {
   "cell_type": "markdown",
   "metadata": {},
   "source": [
    "Pega a posição do robô e calcula a posição dele no waveFront"
   ]
  },
  {
   "cell_type": "code",
   "execution_count": 437,
   "metadata": {},
   "outputs": [
    {
     "name": "stdout",
     "output_type": "stream",
     "text": [
      "stat:  (9, 32)\n"
     ]
    }
   ],
   "source": [
    "# An exemple of how to use the api to connet to coppelia\n",
    "client = RemoteAPIClient()\n",
    "sim = client.require('sim')\n",
    "sim.setStepping(True)\n",
    "\n",
    "sim.startSimulation()\n",
    "\n",
    "robotname = '/Pioneer_p3dx'\n",
    "robotHandle = sim.getObject(robotname)\n",
    "\n",
    "robotPos = sim.getObjectPosition(robotHandle)\n",
    "x, y = convertMetersToCells(robotPos[0], robotPos[1], cell_size)\n",
    "# Posição Inicial do robô\n",
    "start = (x, y)\n",
    "\n",
    "print('stat: ', start)\n",
    "\n",
    "sim.stopSimulation()\n",
    "sleep(1)"
   ]
  },
  {
   "cell_type": "markdown",
   "metadata": {},
   "source": [
    "#### Chama as funções que cria o Wavefront"
   ]
  },
  {
   "cell_type": "code",
   "execution_count": 438,
   "metadata": {},
   "outputs": [],
   "source": [
    "def openMyimage(imgPath, threshold):\n",
    "    fig = plt.figure(figsize=(8,8), dpi=100)\n",
    "    ax = fig.add_subplot(111, aspect='equal')\n",
    "\n",
    "    # Invertendo os valores para visualização (Branco - 0, Preto - 1)\n",
    "    img = mpimg.imread(imgPath)\n",
    "    img = np.mean(img, axis=2)\n",
    "\n",
    "    # # Apenas para garantir que só teremos esses dois valores\n",
    "    # # threshold = 0.95\n",
    "    img[img > threshold] = 1\n",
    "    img[img<= threshold] = 0\n",
    "    \n",
    "    \n",
    "    ax.imshow(img, cmap='Greys', origin='upper')\n",
    "\n",
    "    return img"
   ]
  },
  {
   "cell_type": "code",
   "execution_count": 439,
   "metadata": {},
   "outputs": [
    {
     "data": {
      "image/png": "[encoded data removed]",
      "text/plain": [
       "<Figure size 800x800 with 1 Axes>"
      ]
     },
     "metadata": {},
     "output_type": "display_data"
    },
    {
     "data": {
      "image/png": "[encoded data removed]",
      "text/plain": [
       "<Figure size 800x800 with 1 Axes>"
      ]
     },
     "metadata": {},
     "output_type": "display_data"
    },
    {
     "data": {
      "image/png": "[encoded data removed]",
      "text/plain": [
       "<Figure size 640x480 with 1 Axes>"
      ]
     },
     "metadata": {},
     "output_type": "display_data"
    }
   ],
   "source": [
    "# Abre a imagem e retorna uma matriz numpy dela\n",
    "# img = openImage(imgPath, threshold)\n",
    "img = openMyimage(imgPath, threshold)\n",
    "\n",
    "# Cria uma matriz onde será construido o wavefront\n",
    "# E delemita onde tem objetos\n",
    "wave = discretizesTheEnvironment(img, map_dims, cell_size, threshold)\n",
    "plt.show()\n",
    "\n",
    "# Posições onde tem objetos possuem valor igual a infinito\n",
    "# Demais posições tem valores -1\n",
    "initWavefront(wave)\n",
    "\n",
    "# Calcula o wavefront\n",
    "waveFront(wave, goal, pos)\n",
    "\n",
    "# Plota como ficou a wavefront\n",
    "plt.imshow( wave ) \n",
    "\n",
    "# Mostra a onde está o goal\n",
    "plt.annotate('*', xy=(goal[1]-0.25, goal[0]+0.5), \n",
    "                    ha='center', va='center', color='white') \n",
    "plt.show()"
   ]
  },
  {
   "cell_type": "markdown",
   "metadata": {},
   "source": [
    "### Posição do Robô"
   ]
  },
  {
   "cell_type": "markdown",
   "metadata": {},
   "source": [
    "### Variávies para fazer o Planejamento do Caminho"
   ]
  },
  {
   "cell_type": "markdown",
   "metadata": {},
   "source": [
    "Variáveis para controlar necessárias para calcular o caminho"
   ]
  },
  {
   "cell_type": "markdown",
   "metadata": {},
   "source": [
    "Pega a posição do robô e calcula a posição dele no waveFront"
   ]
  },
  {
   "cell_type": "code",
   "execution_count": 440,
   "metadata": {},
   "outputs": [
    {
     "data": {
      "image/png": "[encoded data removed]",
      "text/plain": [
       "<Figure size 640x480 with 1 Axes>"
      ]
     },
     "metadata": {},
     "output_type": "display_data"
    }
   ],
   "source": [
    "# Plota como ficou a wavefront\n",
    "plt.imshow( wave ) \n",
    "\n",
    "# Mostra a onde está o goal\n",
    "plt.annotate('S', xy=(start[1]-0.25, start[0]+0.5), \n",
    "                    ha='center', va='center', color='white') \n",
    "plt.show()\n"
   ]
  },
  {
   "cell_type": "markdown",
   "metadata": {},
   "source": [
    "### Faz o robô se mover"
   ]
  },
  {
   "cell_type": "code",
   "execution_count": 441,
   "metadata": {},
   "outputs": [
    {
     "name": "stdout",
     "output_type": "stream",
     "text": [
      "[-11.  11.]\n",
      "[-11.  10.]\n",
      "[-11.   9.]\n",
      "[-11.   8.]\n",
      "[-11.   7.]\n",
      "[-11.   6.]\n",
      "[-11.   5.]\n",
      "[-10.   5.]\n",
      "[-9.  5.]\n",
      "[-8.  5.]\n",
      "[-8.  4.]\n",
      "[-8.  3.]\n",
      "[-8.  2.]\n",
      "[-8.  1.]\n",
      "[-8.  0.]\n",
      "[-8. -1.]\n",
      "[-8. -2.]\n",
      "[-8. -3.]\n",
      "[-8. -4.]\n",
      "[-8. -5.]\n",
      "[-7. -5.]\n",
      "[-6. -5.]\n",
      "[-5. -5.]\n",
      "[-4. -5.]\n",
      "[-3. -5.]\n",
      "[-2. -5.]\n",
      "[-1. -5.]\n",
      "[ 0. -5.]\n",
      "[ 1. -5.]\n",
      "[ 2. -5.]\n",
      "[ 3. -5.]\n",
      "[ 4. -5.]\n",
      "[ 5. -5.]\n",
      "[ 6. -5.]\n",
      "[ 7. -5.]\n",
      "[ 8. -5.]\n",
      "[ 9. -5.]\n",
      "[10. -5.]\n",
      "[11. -5.]\n",
      "[11. -4.]\n",
      "[11. -3.]\n",
      "[12. -3.]\n",
      "[12. -2.]\n",
      "[12. -1.]\n",
      "[12.  0.]\n",
      "[11.  0.]\n",
      "[11.  1.]\n",
      "[11.  2.]\n",
      "[11.  3.]\n",
      "[11.  4.]\n",
      "[11.  5.]\n",
      "[11.  6.]\n",
      "[11.  7.]\n",
      "[10.  7.]\n",
      "[9. 7.]\n",
      "[8. 7.]\n",
      "[7. 7.]\n",
      "[6. 7.]\n",
      "[6. 8.]\n",
      "[6. 9.]\n",
      "[ 6. 10.]\n",
      "[ 6. 11.]\n"
     ]
    },
    {
     "data": {
      "image/png": "[encoded data removed]",
      "text/plain": [
       "<Figure size 640x480 with 1 Axes>"
      ]
     },
     "metadata": {},
     "output_type": "display_data"
    }
   ],
   "source": [
    "# # Escala Pixel/Metro\n",
    "# sy, sx = img.shape / map_dims\n",
    "\n",
    "# An exemple of how to use the api to connet to coppelia\n",
    "client = RemoteAPIClient()\n",
    "sim = client.require('sim')\n",
    "sim.setStepping(True)\n",
    "\n",
    "sim.startSimulation()\n",
    "\n",
    "plt.imshow( wave ) \n",
    "# Mostra a onde está o goal\n",
    "plt.annotate('S', xy=(start[1]-0.25, start[0]-0.25), \n",
    "                    ha='center', va='center', color='white') \n",
    "\n",
    "waveFrontPathPlanning(wave, start, pos, cell_size)\n",
    "\n",
    "sim.stopSimulation()\n"
   ]
  },
  {
   "cell_type": "code",
   "execution_count": null,
   "metadata": {},
   "outputs": [],
   "source": []
  }
 ],
 "metadata": {
  "kernelspec": {
   "display_name": "venv",
   "language": "python",
   "name": "python3"
  },
  "language_info": {
   "codemirror_mode": {
    "name": "ipython",
    "version": 3
   },
   "file_extension": ".py",
   "mimetype": "text/x-python",
   "name": "python",
   "nbconvert_exporter": "python",
   "pygments_lexer": "ipython3",
   "version": "3.11.2"
  }
 },
 "nbformat": 4,
 "nbformat_minor": 2
}
