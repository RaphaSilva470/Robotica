{
 "cells": [
  {
   "cell_type": "markdown",
   "metadata": {},
   "source": [
    "## Caminhos para a Pasta Scense\n",
    "\n",
    "- Caminhos para a pasta Scenas presente nesse segundo trabalho prático"
   ]
  },
  {
   "cell_type": "code",
   "execution_count": 38,
   "metadata": {},
   "outputs": [],
   "source": [
    "scenesPath = \"/home/samuelbrisio/Documents/Coppelia/Coppelia_Assingment/TP2/scenes\""
   ]
  },
  {
   "cell_type": "markdown",
   "metadata": {},
   "source": [
    "# Introdução\n",
    "- Detalhamento do problema e visão geral sobre o funcionamento do programa"
   ]
  },
  {
   "cell_type": "markdown",
   "metadata": {},
   "source": [
    "O desafio proposto nesse trabalho prático consiste em fazer com que dois robôs móveis com caracteristicas bem definidas se locomoveseem em ambientes que possuiem vários obstáculos, cada robô deverá utilizar um algoritmo de planejamento de caminhos sendo eles roadmap e campos potenciais, sendo eles um algoritmo deliberativo e o outro reativo respectivamente, para partirem de uma posição inicial até a posição objetivo.\n",
    "\n",
    "Para que o robô consiga realizar essa tarefa é necessário dois componemtes importantissimos um modulo para o planejamento de caminho e outro módulo responsável pelo controle do robô.\n",
    "\n",
    "Rôbo Diferencial (Pioneer) + Algoritmo de Campos Potencias:\n",
    "    O algoritmo de Campos Potencias utiliza como inspiração a conceito de forças (atração e repulsão) da física, possuindo essas duas forças é possivel fazer o planejamento do Caminho reslizado pelo robô, e portanto para implementa-lo é necessário calcular essas forças.\n",
    "        - Força de atração  é uma força que é aplicado no robô em direção e sentido ao Goal (Objetivo)\n",
    "        - Força de repulsão é uma força que é aplicado no robô quando o mesmo se aproxima de um obstáculo, essa força tem sentido oposto do obstáculo, ao aplicar esse força no robô resulta em afasta-lo do objeto\n",
    "    \n",
    "    Nesse notebook foi impletado funções responsável por calcular a força de atração e repulsão. E uma outra função que as invoca e calcula a força resultante (soma das forças de atração e repulsão).\n",
    "\n",
    "    A força resultante informa para o robô qual é o proximo passo que ele deve realizar, para que o mesmo possa chegar no Goal(objetivo). Porém para que o robô se mova se necessário que haja um controlador que receba como entrada o vetor de força resultade e o converta para parametros de controle do robô\n",
    "\n"
   ]
  },
  {
   "cell_type": "markdown",
   "metadata": {},
   "source": [
    "# Implementação"
   ]
  },
  {
   "cell_type": "markdown",
   "metadata": {},
   "source": [
    "## Modules Used"
   ]
  },
  {
   "cell_type": "markdown",
   "metadata": {},
   "source": [
    "Modulo responsável pela comunicação com o CoppeliaSim"
   ]
  },
  {
   "cell_type": "code",
   "execution_count": 39,
   "metadata": {},
   "outputs": [],
   "source": [
    "# Modules used to connect to coppelia\n",
    "from coppeliasim_zmqremoteapi_client import RemoteAPIClient"
   ]
  },
  {
   "cell_type": "markdown",
   "metadata": {},
   "source": [
    "Modulos Usados para Nesse trabalho prático"
   ]
  },
  {
   "cell_type": "code",
   "execution_count": 40,
   "metadata": {},
   "outputs": [],
   "source": [
    "# Other Modules\n",
    "import numpy as np\n",
    "import matplotlib.pyplot as plt\n",
    "import matplotlib.image as mpimg\n",
    "import os\n",
    "import networkx as nx\n",
    "from copy import deepcopy\n",
    "from time import sleep, time"
   ]
  },
  {
   "cell_type": "markdown",
   "metadata": {},
   "source": [
    "Conectando ao  Coppelia pela primeira vez"
   ]
  },
  {
   "cell_type": "code",
   "execution_count": 41,
   "metadata": {},
   "outputs": [
    {
     "data": {
      "text/plain": [
       "0"
      ]
     },
     "execution_count": 41,
     "metadata": {},
     "output_type": "execute_result"
    }
   ],
   "source": [
    "client = RemoteAPIClient()\n",
    "sim = client.require('sim')\n",
    "sim.setStepping(True)"
   ]
  },
  {
   "cell_type": "markdown",
   "metadata": {},
   "source": [
    "## Funções Auxiliares (Implementadas no TP1)\n",
    "- Funções para calcular a tranformada\n",
    "- Funçõa para calcular a inversa de uma transformada"
   ]
  },
  {
   "cell_type": "markdown",
   "metadata": {},
   "source": [
    "#### Codding to calculate the Transformation Matrix"
   ]
  },
  {
   "cell_type": "code",
   "execution_count": 42,
   "metadata": {},
   "outputs": [],
   "source": [
    "# Function that invert a matrix\n",
    "def invertMatrix(M):\n",
    "    return np.linalg.inv(M)"
   ]
  },
  {
   "cell_type": "code",
   "execution_count": 43,
   "metadata": {},
   "outputs": [],
   "source": [
    "# Get Object Position and Orientation\n",
    "def getPositionAndOrientation(handle, referenceTo):\n",
    "    pos = sim.getObjectPosition(handle, referenceTo)\n",
    "    ori = sim.getObjectOrientation(handle, referenceTo)\n",
    "    return pos, ori"
   ]
  },
  {
   "cell_type": "code",
   "execution_count": 44,
   "metadata": {},
   "outputs": [],
   "source": [
    "# Get Rotation Matrix fixed on Z axis\n",
    "def getRotationMatrixZfixed(theta):\n",
    "    return np.array([[  np.cos(theta), -np.sin(theta), 0 ],\n",
    "                      [ np.sin(theta),  np.cos(theta), 0 ],\n",
    "                      [ 0            ,  0            , 1 ]])"
   ]
  },
  {
   "cell_type": "code",
   "execution_count": 45,
   "metadata": {},
   "outputs": [],
   "source": [
    "# get the transformation from local axis to a reference axis\n",
    "# the default reference axis is the global/world axis\n",
    "def getTransformationMatrix(handle, referenceTo=sim.handle_world):\n",
    "    # Get the object position and orientation\n",
    "    pos, ori = getPositionAndOrientation(handle, referenceTo)\n",
    "    # Get the Rotation Matrix\n",
    "    rotM = getRotationMatrixZfixed(ori[2])\n",
    "    scale = np.array([0, 0, 0, 1])\n",
    "\n",
    "    # Create the transformation Matrix\n",
    "    tranfMatrix = np.column_stack((rotM, pos))\n",
    "    tranfMatrix = np.row_stack((tranfMatrix, scale))\n",
    "\n",
    "    return tranfMatrix\n",
    "\n"
   ]
  },
  {
   "cell_type": "markdown",
   "metadata": {},
   "source": [
    "#### Função que lê os dados coletados pelo sensor do Laser"
   ]
  },
  {
   "cell_type": "code",
   "execution_count": 46,
   "metadata": {},
   "outputs": [],
   "source": [
    "'''\n",
    "readSensorData - It will try to capture the range and angle data from the simulator.\n",
    "                 The request for the range data is sent in streaming mode to force\n",
    "                 it to sync with the angle data request which acts as a mutex.\n",
    "\n",
    "inputs:\n",
    "    -clientId: simulator client id obtained through a successfull connection with the simulator.\n",
    "    -range_data_signal_id: string containing the range data signal pipe name.\n",
    "    -angle_data_signal_id: string containing the angle data signal pipe name.\n",
    "outputs:\n",
    "    -returns None if no data is recovered.\n",
    "    -returns two arrays, one with data range and the other with their angles, if data was \n",
    "    retrieved successfully.\n",
    "'''\n",
    "def readSensorData(range_data_signal_id=\"hokuyo_range_data\", \n",
    "                    angle_data_signal_id=\"hokuyo_angle_data\"):\n",
    "\n",
    "    # the first call should be non-blocking to avoid getting out-of-sync angle data\n",
    "    # returnCodeRanges, string_range_data = sim.getStringSignal(range_data_signal_id, sim.simx_opmode_streaming)\n",
    "    # returnCodeRanges, string_range_data = sim.getStringSignal(range_data_signal_id)\n",
    "\n",
    "    # print(range_data_signal_id)\n",
    "    resultCodeRanges = sim.getStringSignal(range_data_signal_id)\n",
    "\n",
    "    # the second call should block to avoid out-of-sync scenarios\n",
    "    # between your python script and the simulator's main loop\n",
    "    # (your script may be slower than the simulator's main loop, thus\n",
    "    # slowing down data processing)\n",
    "    # returnCodeAngles, string_angle_data = sim.simxGetStringSignal(angle_data_signal_id, sim.simx_opmode_blocking)\n",
    "    \n",
    "    resultCodeAngles = sim.getStringSignal(angle_data_signal_id)\n",
    "\n",
    "    # check the if both data were obtained correctly\n",
    "    if resultCodeRanges != None and resultCodeAngles != None:\n",
    "        # unpack data from range and sensor messages\n",
    "        raw_range_data = sim.unpackFloatTable(resultCodeRanges)\n",
    "        raw_angle_data = sim.unpackFloatTable(resultCodeAngles)\n",
    "\n",
    "        return raw_range_data, raw_angle_data\n",
    "\n",
    "    # return none in case were nothing was gotten from the simulator\n",
    "    return None, None\n"
   ]
  },
  {
   "cell_type": "markdown",
   "metadata": {},
   "source": [
    "## Campos Potenciais Calculo das forças\n",
    "- Definição de Variáveis\n",
    "- Funções Responsáveis pelo calculo da força\n",
    "- Teste dessas funções"
   ]
  },
  {
   "cell_type": "markdown",
   "metadata": {},
   "source": [
    "### Força de Atração"
   ]
  },
  {
   "cell_type": "markdown",
   "metadata": {},
   "source": [
    "#### Variáveis Usadas"
   ]
  },
  {
   "cell_type": "code",
   "execution_count": 47,
   "metadata": {},
   "outputs": [],
   "source": [
    "K_att = 1.5 # Constante proporcional usado na força de atração"
   ]
  },
  {
   "cell_type": "markdown",
   "metadata": {},
   "source": [
    "#### Função Responsável por calcular a força de Atração"
   ]
  },
  {
   "cell_type": "markdown",
   "metadata": {},
   "source": [
    "Formula retirada do slide 11 da aula 12 planejamento de caminho Campos Potenciais"
   ]
  },
  {
   "cell_type": "markdown",
   "metadata": {},
   "source": [
    "![attraction_force](documentation/attraction_force.png)"
   ]
  },
  {
   "cell_type": "code",
   "execution_count": 48,
   "metadata": {},
   "outputs": [],
   "source": [
    "def attraction_force(position, goal, K=0.1):\n",
    "    # Retorna somente as posições x e y\n",
    "    return (K * (goal - position))[:2]"
   ]
  },
  {
   "cell_type": "markdown",
   "metadata": {},
   "source": [
    "#### Teste da Força de atração"
   ]
  },
  {
   "cell_type": "code",
   "execution_count": 49,
   "metadata": {},
   "outputs": [
    {
     "name": "stdout",
     "output_type": "stream",
     "text": [
      "Connected to remote API server\n",
      "força de atração é:  [-34.47171832 -33.48737833]\n",
      "força de atração resultante (usando transformação):  [49.67185258 40.26689322]\n"
     ]
    },
    {
     "data": {
      "image/png": "[encoded data removed]",
      "text/plain": [
       "<Figure size 600x300 with 1 Axes>"
      ]
     },
     "metadata": {},
     "output_type": "display_data"
    }
   ],
   "source": [
    "client = RemoteAPIClient()\n",
    "sim = client.require('sim')\n",
    "sim.setStepping(True)\n",
    "\n",
    "# Caminho para o primeiro mapa\n",
    "sim.loadScene(os.path.join(scenesPath, \"PionnerRobot/mapa1.ttt\"))\n",
    "\n",
    "sim.startSimulation()\n",
    "\n",
    "print ('Connected to remote API server')\n",
    "\n",
    "####################  Obtem os Handles dos Objetos ##############\n",
    "\n",
    "# Handle para o ROBÔ    \n",
    "robotname = \"/Pioneer_p3dx\"\n",
    "robotHandle = sim.getObject(robotname)     \n",
    "\n",
    "# Handle para o Goal\n",
    "goalname = \"/Goal\"\n",
    "goalHandle = sim.getObject(goalname)\n",
    "\n",
    "###################  Obtem a Posição do Robô e do Goal #############\n",
    "\n",
    "# Pega a posição do Robo\n",
    "robotPosition = np.asarray(sim.getObjectPosition(robotHandle)) \n",
    "# Pega a posição do Goal\n",
    "goalPosition = np.asarray(sim.getObjectPosition(goalHandle))\n",
    "# print('robot position: ', robotPosition)\n",
    "# print('goal position: ', goalPosition)\n",
    "\n",
    "\n",
    "################# Força de Atração ###################\n",
    "\n",
    "# Calcula a Força de Atração\n",
    "f_att = attraction_force(robotPosition, goalPosition, K_att)\n",
    "print('força de atração é: ', f_att)\n",
    "\n",
    "# Transforma o vetor de atração do referencial do Mundo \n",
    "# Para o Referencial do Robô\n",
    "## Calcula a matriz de tranformação do robô para o mundo\n",
    "Tranformation_robot_to_world = getTransformationMatrix(robotHandle)\n",
    "## Calcula a matriz de transformação do mundo para o robô\n",
    "Tranformation_world_to_robot = invertMatrix(Tranformation_robot_to_world)\n",
    "## Aplica a matriz de transformação\n",
    "Fatt = Tranformation_world_to_robot @ np.asarray([f_att[0], f_att[1], 0, 1])\n",
    "print('força de atração resultante (usando transformação): ', Fatt[:2])\n",
    "\n",
    "sim.stopSimulation()\n",
    "sleep(2)\n",
    "sim.closeScene()\n",
    "sleep(1)\n",
    "\n",
    "fig = plt.figure(figsize=(6,3), dpi=100)\n",
    "ax = fig.add_subplot(111, aspect='equal')\n",
    "\n",
    "# Os eixos do coppelia em relação do matplot lib são invertidos\n",
    "# Coppelia eixo X = MatplotLib eixo Y e vice versa\n",
    "# O eixo Y (ou eixo X do Matplot) do robo tem uma direção diferente do Matplot lib e portanto multiplicamos o eixo por -1\n",
    "# Cresce para a esquerda e decresce indo para a direita\n",
    "ax.quiver(*[0, 0], -Fatt[1], Fatt[0], color=['r','b','g'], scale=100)\n",
    "\n",
    "ax.set_xlabel(\"y -> axis\")\n",
    "ax.set_ylabel(\"x -> axis\")\n",
    "\n",
    "ax.set_xlim(-40, 40)\n",
    "ax.set_ylim(-40, 40)\n",
    "\n",
    "plt.show()"
   ]
  },
  {
   "cell_type": "markdown",
   "metadata": {},
   "source": [
    "### Força de Repulsão"
   ]
  },
  {
   "cell_type": "markdown",
   "metadata": {},
   "source": [
    "#### Variáveis Utilizadas no teste da força de repulsão"
   ]
  },
  {
   "cell_type": "code",
   "execution_count": 50,
   "metadata": {},
   "outputs": [],
   "source": [
    "K_rep = 0.1\n",
    "gamma = 2 # Valor recomendado pelo professor no Forum da Disciplina\n",
    "p0 = 2 # Limiar utiliazado\n",
    "beta = 1 # Ainda não sei como esplicar isso kkk"
   ]
  },
  {
   "cell_type": "markdown",
   "metadata": {},
   "source": [
    "#### Função da força de Repulsão"
   ]
  },
  {
   "cell_type": "markdown",
   "metadata": {},
   "source": [
    "![repulsion_force](documentation/repulsion_force.png)"
   ]
  },
  {
   "cell_type": "markdown",
   "metadata": {},
   "source": [
    "- A parte em vermelho resulta em um valor escalar\n",
    "- A parte em azul da equação resulta em um vetor"
   ]
  },
  {
   "cell_type": "markdown",
   "metadata": {},
   "source": [
    "Adaptação da parte em azul da formula:\n",
    "\n",
    "$\\dfrac{q - q_{obs, i}}{p_i(q)}$   ->   $\\dfrac{\\text{posição de impacto do laser em relação ao robô} * -1}{p_i(q)}$\n",
    "\n",
    "Multiplicamos por -1, pois o laser retorna um vetor que possui sentido do robô para o objeto. E portanto ao multiplicar por -1 invertemos o sentido para conseguir o vetor unitário do obstáculo para o robô."
   ]
  },
  {
   "cell_type": "code",
   "execution_count": 51,
   "metadata": {},
   "outputs": [],
   "source": [
    "def repulsion_force(laser_data, K, gamma=2, threshold=2):\n",
    "    # Pega somente os dados que atendem a condição de terem uma distancia menor que o limiar\n",
    "    filter = laser_data[:, 1] < threshold\n",
    "    data = laser_data[filter]\n",
    "    \n",
    "    # separa os dados em angulos e distancias\n",
    "    distaces = data[:, 1]\n",
    "    angles = data[:, 0]\n",
    "\n",
    "    # Melhora e muito a performace\n",
    "    # Pelo menos no primeiro mapa kkkk\n",
    "    angles += angles.mean() * beta\n",
    "\n",
    "    # Calcula a parte escalar da formulada força de recursão\n",
    "    escalar = K / (distaces**2)\n",
    "    escalar *= (1/distaces) - 1/threshold\n",
    "\n",
    "    # Calcula a parte vetorial da formula da força de repulsão\n",
    "    # Calcula o deslocamento no eixo x e no eixo y\n",
    "    # Eixo x\n",
    "    axis_x = distaces * np.cos(angles)\n",
    "    # Eixo y\n",
    "    axis_y = distaces * np.sin(angles)\n",
    "    \n",
    "    delta_x = sum(escalar * (axis_x / distaces))\n",
    "    delta_y = sum(escalar * (axis_y / distaces))\n",
    "    \n",
    "    # Multiplico por -1, para calcular\n",
    "    return np.asarray([-delta_x, -delta_y])\n",
    "\n"
   ]
  },
  {
   "cell_type": "markdown",
   "metadata": {},
   "source": [
    "#### Teste da força de repulsão"
   ]
  },
  {
   "cell_type": "code",
   "execution_count": 52,
   "metadata": {},
   "outputs": [
    {
     "name": "stdout",
     "output_type": "stream",
     "text": [
      "Connected to remote API server\n"
     ]
    },
    {
     "name": "stderr",
     "output_type": "stream",
     "text": [
      "/tmp/ipykernel_444345/3450253019.py:12: RuntimeWarning: Mean of empty slice.\n",
      "  angles += angles.mean() * beta\n",
      "/home/samuelbrisio/Documents/Coppelia/venv/lib/python3.11/site-packages/numpy/core/_methods.py:129: RuntimeWarning: invalid value encountered in scalar divide\n",
      "  ret = ret.dtype.type(ret / rcount)\n"
     ]
    },
    {
     "name": "stdout",
     "output_type": "stream",
     "text": [
      "Program ended\n"
     ]
    }
   ],
   "source": [
    "client = RemoteAPIClient()\n",
    "sim = client.require('sim')\n",
    "sim.setStepping(True)\n",
    "\n",
    "# Caminho para o primeiro mapa\n",
    "sim.loadScene(os.path.join(scenesPath, \"PionnerRobot/mapa1.ttt\"))\n",
    "\n",
    "sim.startSimulation()\n",
    "\n",
    "print ('Connected to remote API server')\n",
    "    \n",
    "##### Obtem os Handles ####\n",
    "\n",
    "# Handle para o ROBÔ    \n",
    "robotname = \"/Pioneer_p3dx\"\n",
    "robotHandle = sim.getObject(robotname)   \n",
    "\n",
    "# Handle para o Goal\n",
    "goalname = \"/Goal\"\n",
    "goalHandle = sim.getObject(goalname)\n",
    "\n",
    "# Handle para o Laser\n",
    "lasername = \"/Pioneer_p3dx/fastHokuyo\"\n",
    "laserHandle = sim.getObject(lasername)\n",
    "\n",
    "# Handle para os dados do LASER\n",
    "laser_range_data = \"hokuyo_range_data\"\n",
    "laser_angle_data = \"hokuyo_angle_data\"\n",
    "\n",
    "\n",
    "# Handle para as juntas das RODAS\n",
    "l_wheel = sim.getObject(robotname + '_leftMotor')\n",
    "r_wheel = sim.getObject(robotname + '_rightMotor')  \n",
    "\n",
    "\n",
    "# Parando o robô    \n",
    "# Por algum motivo, no inicio da simulação o robô anda sozinho\n",
    "sim.setJointTargetVelocity(r_wheel, 0)\n",
    "sim.setJointTargetVelocity(l_wheel, 0)  \n",
    "\n",
    "\n",
    "###### Leitura do dados Obtidos Pelo Laser #####\n",
    "\n",
    "# Geralmente a primeira leitura é inválida (atenção ao Operation Mode)\n",
    "# Em loop até garantir que as leituras serão válidas\n",
    "range_data = None\n",
    "while range_data == None:\n",
    "    range_data = sim.getStringSignal(laser_range_data)\n",
    "    sim.step()\n",
    "\n",
    "# Prosseguindo com as leituras\n",
    "raw_range_data, raw_angle_data = readSensorData(laser_range_data, laser_angle_data)\n",
    "laser_data = np.array([raw_angle_data, raw_range_data]).T\n",
    "\n",
    "####################  Calcula a força de repulsão ######################\n",
    "\n",
    "# Pega a posição do Robo\n",
    "robotPosition = np.asarray(sim.getObjectPosition(robotHandle)) \n",
    "# print('robot position: ', robotPosition)\n",
    "\n",
    "# Calcula a tranformada responsável por tranformados os dados do Laser\n",
    "# Que estão no referencial do laser para o referencial do Robô\n",
    "tranformation_laser_to_robot = getTransformationMatrix(laserHandle, robotHandle)\n",
    "\n",
    "# Calcula a força de repulsão\n",
    "f_rep = repulsion_force(laser_data, K_rep, gamma, p0)\n",
    "# Realiza a transformação\n",
    "f_rep = tranformation_laser_to_robot @ np.asarray([f_rep[0], f_rep[1], 0, 1])\n",
    "# Pega somente os eixos x e y\n",
    "f_rep = f_rep[:2]\n",
    "\n",
    "sim.stopSimulation()\n",
    "sleep(2)\n",
    "sim.closeScene()\n",
    "sleep(1)\n",
    "    \n",
    "print ('Program ended')"
   ]
  },
  {
   "cell_type": "markdown",
   "metadata": {},
   "source": [
    "Faz o print do test"
   ]
  },
  {
   "cell_type": "code",
   "execution_count": 53,
   "metadata": {},
   "outputs": [
    {
     "name": "stdout",
     "output_type": "stream",
     "text": [
      "[0.0000000e+00 8.8817842e-16]\n"
     ]
    },
    {
     "data": {
      "image/png": "[encoded data removed]",
      "text/plain": [
       "<Figure size 600x300 with 1 Axes>"
      ]
     },
     "metadata": {},
     "output_type": "display_data"
    }
   ],
   "source": [
    "print(f_rep)\n",
    "fig = plt.figure(figsize=(6,3), dpi=100)\n",
    "ax = fig.add_subplot(111, aspect='equal')\n",
    "\n",
    "# Os eixos do coppelia em relação do matplot lib são invertidos\n",
    "# Coppelia_X = MatplotLib_Y e vice versa\n",
    "# O eixo Y (eixo X do Matplot) do robo tem uma direção diferente do Matplot lib e portanto multiplicamos o eixo por -1\n",
    "plt.quiver(*[0, 0], -f_rep[1], f_rep[0], color=['r','b','g'], scale=100)\n",
    "\n",
    "ax.set_xlabel(\"y -> axis\")\n",
    "ax.set_ylabel(\"x -> axis\")\n",
    "\n",
    "ax.set_xlim(-40, 40)\n",
    "ax.set_ylim(-40, 40)\n",
    "\n",
    "plt.show()"
   ]
  },
  {
   "cell_type": "markdown",
   "metadata": {},
   "source": [
    "### Vetor de Força Resultante"
   ]
  },
  {
   "cell_type": "markdown",
   "metadata": {},
   "source": [
    "Função que calcula tanto o vetor de força de atração quanto o vetor de força de repulsão"
   ]
  },
  {
   "cell_type": "code",
   "execution_count": 54,
   "metadata": {},
   "outputs": [],
   "source": [
    "def resultant_force(robotHandle, goalHandle, laserRangeDataHandle, laserAngleDataHandle):\n",
    "    # Pega a posição do Robo e do goal\n",
    "    robotPosition = np.asarray(sim.getObjectPosition(robotHandle)) \n",
    "    goalPosition = np.asarray(sim.getObjectPosition(goalHandle))\n",
    "\n",
    "    ####################  Calcula a força de Repulsão   ######################\n",
    "    \n",
    "    # Geralmente a primeira leitura é inválida (atenção ao Operation Mode)\n",
    "    # Em loop até garantir que as leituras serão válidas\n",
    "    range_data = None\n",
    "    while range_data == None:\n",
    "        range_data = sim.getStringSignal(laser_range_data)\n",
    "        sim.step()\n",
    "\n",
    "    # Prosseguindo com as leituras\n",
    "    raw_range_data, raw_angle_data = readSensorData(laser_range_data, laser_angle_data)\n",
    "    laser_data = np.array([raw_angle_data, raw_range_data]).T\n",
    "    \n",
    "\n",
    "    ### Variáveis Globais: K_rep, gamma, p0\n",
    "    f_rep = repulsion_force(laser_data, K_rep, gamma, p0)\n",
    "\n",
    "    #################### Calcula a força de atração ###################\n",
    "\n",
    "    ### Calcula a matrix de tranformação\n",
    "    ### Que convert um ponto do referencial do mundo para o referencial do robô\n",
    "    Tranformation_robot_to_world = getTransformationMatrix(robotHandle)\n",
    "    Tranformation_world_to_robot = invertMatrix(Tranformation_robot_to_world)\n",
    "\n",
    "    ### K_att -> Variavel Global\n",
    "    Fatt = attraction_force(robotPosition, goalPosition, K_att)\n",
    "\n",
    "    # Transforma o vetor de atração para o referencial do robo\n",
    "    Fatt = Tranformation_world_to_robot @ np.asarray([Fatt[0], Fatt[1], 0, 0])\n",
    "    f_att = Fatt[:2]\n",
    "\n",
    "    # print('att: ', f_att)\n",
    "    # print('rep: ', f_rep)\n",
    "\n",
    "    return f_att + f_rep\n",
    "\n"
   ]
  },
  {
   "cell_type": "markdown",
   "metadata": {},
   "source": [
    "## Controlador"
   ]
  },
  {
   "cell_type": "code",
   "execution_count": 55,
   "metadata": {},
   "outputs": [],
   "source": [
    "def controlador(dx, dy, robotOrientation):\n",
    "\n",
    "    # Variáveis de proporcionalidade  \n",
    "    KPr = 0.5\n",
    "    KPt = 0.5\n",
    "\n",
    "    # Calcula as velocidades\n",
    "    # Velocidade Linear Proporcional\n",
    "    uPr = (dx + dy) * KPr\n",
    "\n",
    "    # Velocidade Angular Proporcional \n",
    "    uPt = np.arctan2(dy,dx) * KPt\n",
    "    # Explicar pq eu multipliquei por -1\n",
    "    # Faz com que o robô ande para frente e não de ré\n",
    "    uPt *= -1\n",
    "    \n",
    "    # v -> velocidade Linear\n",
    "    # w -> Velocidade Angular\n",
    "    v = uPr\n",
    "    w = uPt\n",
    "\n",
    "    # Limit v,w to +/- max\n",
    "    v = max(min(v, maxv), -maxv)\n",
    "    w = max(min(w, maxw), -maxw) \n",
    "\n",
    "    # Impede do robo andar para trás\n",
    "    # Melhora a performace\n",
    "    # Motivo: Ele tem sensor na parte da frente, então andar de ré não faz sentido\n",
    "    if (v < 0): v = -0.01\n",
    "            \n",
    "    vr = ((2.0*v) + (w*L))/(2.0*r)\n",
    "    vl = ((2.0*v) - (w*L))/(2.0*r)\n",
    "\n",
    "    return vr, vl"
   ]
  },
  {
   "cell_type": "markdown",
   "metadata": {},
   "source": [
    "# Testes"
   ]
  },
  {
   "cell_type": "markdown",
   "metadata": {},
   "source": [
    "### Dados do Robô"
   ]
  },
  {
   "cell_type": "code",
   "execution_count": 56,
   "metadata": {},
   "outputs": [],
   "source": [
    "# Específico do robô\n",
    "# https://www.generationrobots.com/media/Pioneer3DX-P3DX-RevA.pdf\n",
    "L = 0.381\n",
    "r = 0.0975\n",
    "maxv = 0.5\n",
    "maxw = np.deg2rad(45)"
   ]
  },
  {
   "cell_type": "markdown",
   "metadata": {},
   "source": [
    "## Mapa 01"
   ]
  },
  {
   "cell_type": "markdown",
   "metadata": {},
   "source": [
    "Mapa que foi usado para criar a cena no Coppelia"
   ]
  },
  {
   "cell_type": "markdown",
   "metadata": {},
   "source": [
    "<img src=\"mapasSemContorno/map1semContorno.png\" alt=\"Mapa_01\" width=\"300\"/>"
   ]
  },
  {
   "cell_type": "markdown",
   "metadata": {},
   "source": [
    "Coificientes da Força de Atração"
   ]
  },
  {
   "cell_type": "code",
   "execution_count": 57,
   "metadata": {},
   "outputs": [],
   "source": [
    "K_att = 1.5 # Constante proporcional usado na força de atração"
   ]
  },
  {
   "cell_type": "markdown",
   "metadata": {},
   "source": [
    "Coificientes da Força de Repulsão"
   ]
  },
  {
   "cell_type": "code",
   "execution_count": 58,
   "metadata": {},
   "outputs": [],
   "source": [
    "K_rep = 0.1\n",
    "gamma = 2 # Valor recomendado pelo professor no Forum da Disciplina\n",
    "p0 = 1 # Limiar utiliazado\n",
    "beta = 0.5"
   ]
  },
  {
   "cell_type": "markdown",
   "metadata": {},
   "source": [
    " Executa a Simulação"
   ]
  },
  {
   "cell_type": "code",
   "execution_count": 59,
   "metadata": {},
   "outputs": [
    {
     "name": "stdout",
     "output_type": "stream",
     "text": [
      "Connected to remote API server\n"
     ]
    },
    {
     "name": "stderr",
     "output_type": "stream",
     "text": [
      "/tmp/ipykernel_444345/3450253019.py:12: RuntimeWarning: Mean of empty slice.\n",
      "  angles += angles.mean() * beta\n"
     ]
    },
    {
     "name": "stdout",
     "output_type": "stream",
     "text": [
      "Program ended\n"
     ]
    }
   ],
   "source": [
    "client = RemoteAPIClient()\n",
    "sim = client.require('sim')\n",
    "sim.setStepping(True)\n",
    "\n",
    "# Caminho para o segundo mapa\n",
    "sim.loadScene(os.path.join(scenesPath, \"PionnerRobot/mapa1.ttt\"))\n",
    "\n",
    "sim.startSimulation()\n",
    "\n",
    "print ('Connected to remote API server')\n",
    "\n",
    "# Handle para o ROBÔ    \n",
    "robotname = \"/Pioneer_p3dx\"\n",
    "robotHandle = sim.getObject(robotname)    \n",
    "\n",
    "# Handle para o Goal\n",
    "goalname = \"/Goal\"\n",
    "goalHandle = sim.getObject(goalname)\n",
    "\n",
    "# Handle para o Laser\n",
    "lasername = \"/Pioneer_p3dx/fastHokuyo\"\n",
    "laserHandle = sim.getObject(lasername)\n",
    "\n",
    "# Handle para as juntas das RODAS\n",
    "l_wheel = sim.getObject(robotname + '_leftMotor')\n",
    "r_wheel = sim.getObject(robotname + '_rightMotor')    \n",
    "\n",
    "# Handle para os dados do LASER\n",
    "laser_range_data = \"hokuyo_range_data\"\n",
    "laser_angle_data = \"hokuyo_angle_data\"\n",
    "\n",
    "# Geralmente a primeira leitura é inválida (atenção ao Operation Mode)\n",
    "# Em loop até garantir que as leituras serão válidas\n",
    "range_data = None\n",
    "while range_data == None:\n",
    "    range_data = sim.getStringSignal(laser_range_data)\n",
    "    # sim.step() responsável por sincronizar com a emulação\n",
    "    sim.step()\n",
    "\n",
    "# Prosseguindo com as leituras\n",
    "raw_range_data, raw_angle_data = readSensorData(laser_range_data, laser_angle_data)\n",
    "laser_data = np.array([raw_angle_data, raw_range_data]).T\n",
    "\n",
    "# Para o robô\n",
    "sim.setJointTargetVelocity(r_wheel, 0)\n",
    "sim.setJointTargetVelocity(l_wheel, 0)   \n",
    "\n",
    "startTime = time()\n",
    "lastTime = startTime\n",
    "t = 0\n",
    "rho = 1\n",
    "simulationStartTime = sim.getSimulationTime()\n",
    "lastFrame = sim.getSimulationTime()\n",
    "nImages = 1\n",
    "while rho > 0.5:\n",
    "\n",
    "\n",
    "    ############ Captura Imagens dos Robô a cada 5 segundos ##############\n",
    "    # simulationTime = sim.getSimulationTime()\n",
    "    # print(lastFrame - simulationTime)\n",
    "        \n",
    "    # if (simulationTime - lastFrame > 5):\n",
    "        # visionSensorHandle = sim.getObjectHandle('/Vision_sensor')\n",
    "\n",
    "        # # Função necessário para poder interagir com Vision sensor\n",
    "        # sim.handleVisionSensor(visionSensorHandle)\n",
    "        # # Pega a Imagem do Vision Sensor\n",
    "        # imageBytes, resolution = sim.getVisionSensorImg(visionSensorHandle, 0)\n",
    "        # # Salva a imagem em um arquivo\n",
    "        # sim.saveImage(imageBytes, resolution, 0, f'mapa1_{nImages}.png', -1)\n",
    "        # lastFrame = simulationTime\n",
    "        # nImages += 1\n",
    "\n",
    "    robotPosition = np.asarray(sim.getObjectPosition(robotHandle)) \n",
    "    goalPosition = np.asarray(sim.getObjectPosition(goalHandle))\n",
    "\n",
    "    dx, dy = (goalPosition - robotPosition)[:2]\n",
    "    rho = np.sqrt(dx**2 + dy**2)\n",
    "    \n",
    "    now = time()\n",
    "    dt = now - lastTime\n",
    "\n",
    "    dx, dy = resultant_force(robotHandle, goalHandle, laser_range_data, laser_angle_data)\n",
    "    # print(dx, dy)\n",
    "    robotOrientation = sim.getObjectOrientation(robotHandle)\n",
    "    \n",
    "    vr, vl = controlador(dx, dy, robotOrientation[2])\n",
    "    \n",
    "    # Enviando velocidades\n",
    "    sim.setJointTargetVelocity(l_wheel, vr)\n",
    "    sim.setJointTargetVelocity(r_wheel, vl)        \n",
    "\n",
    "    t = t + dt  \n",
    "    lastTime = now\n",
    "\n",
    "# Parando o robô    \n",
    "sim.setJointTargetVelocity(r_wheel, 0)\n",
    "sim.setJointTargetVelocity(l_wheel, 0)        \n",
    "\n",
    "simulationEndTime = sim.getSimulationTime()\n",
    "    \n",
    "sim.stopSimulation()\n",
    "sleep(2)\n",
    "sim.closeScene()\n",
    "sleep(1)\n",
    "\n",
    "print ('Program ended')"
   ]
  },
  {
   "cell_type": "markdown",
   "metadata": {},
   "source": [
    "Resultado"
   ]
  },
  {
   "cell_type": "markdown",
   "metadata": {},
   "source": [
    "O robô foi colocado no canto superior esquerdo e seu objetivo era chegar no canto inferior direito"
   ]
  },
  {
   "cell_type": "markdown",
   "metadata": {},
   "source": [
    "Como podemos ver no gif abaixo o robô conseguiu executar o caminho sem problemas"
   ]
  },
  {
   "cell_type": "code",
   "execution_count": 60,
   "metadata": {},
   "outputs": [
    {
     "name": "stdout",
     "output_type": "stream",
     "text": [
      "Tempo de Execução: 90.65s\n"
     ]
    }
   ],
   "source": [
    "print(f\"Tempo de Execução: {simulationEndTime - simulationStartTime:.2f}s\", )"
   ]
  },
  {
   "cell_type": "markdown",
   "metadata": {},
   "source": [
    "![Percurso do Primeiro Robô](documentation/mapa1.gif)"
   ]
  },
  {
   "cell_type": "markdown",
   "metadata": {},
   "source": [
    "## Mapa 02"
   ]
  },
  {
   "cell_type": "markdown",
   "metadata": {},
   "source": [
    "<img src=\"mapasSemContorno/mapa2semContorno.png\" alt=\"Mapa_02\" width=\"300\"/>"
   ]
  },
  {
   "cell_type": "markdown",
   "metadata": {},
   "source": [
    "Nesse mapa os coeficientes de força de repulsão foram alterados para melhor se adequar a ele, porem devido a arquitetura do mapa o algoritmo de campos potenciais não consegue chegar até o objetivo, pois existem muitos minimos locais."
   ]
  },
  {
   "cell_type": "markdown",
   "metadata": {},
   "source": [
    "Coificientes da Força de Atração"
   ]
  },
  {
   "cell_type": "code",
   "execution_count": 61,
   "metadata": {},
   "outputs": [],
   "source": [
    "K_att = 1.5 # Constante proporcional usado na força de atração"
   ]
  },
  {
   "cell_type": "markdown",
   "metadata": {},
   "source": [
    "Coificientes da Força de Repulsão"
   ]
  },
  {
   "cell_type": "code",
   "execution_count": 62,
   "metadata": {},
   "outputs": [],
   "source": [
    "K_rep = 0.1\n",
    "gamma = 2 # Valor recomendado pelo professor no Forum da Disciplina\n",
    "p0 = 2 # Limiar utiliazado\n",
    "beta = 1.5"
   ]
  },
  {
   "cell_type": "markdown",
   "metadata": {},
   "source": [
    " Executa a Simulação"
   ]
  },
  {
   "cell_type": "code",
   "execution_count": 63,
   "metadata": {},
   "outputs": [
    {
     "name": "stdout",
     "output_type": "stream",
     "text": [
      "Connected to remote API server\n"
     ]
    }
   ],
   "source": [
    "client = RemoteAPIClient()\n",
    "sim = client.require('sim')\n",
    "sim.setStepping(True)\n",
    "\n",
    "# Caminho para o segundo mapa\n",
    "sim.loadScene(os.path.join(scenesPath, \"PionnerRobot/mapa2.ttt\"))\n",
    "\n",
    "sim.startSimulation()\n",
    "\n",
    "print ('Connected to remote API server')\n",
    "\n",
    "# Handle para o ROBÔ    \n",
    "robotname = \"/Pioneer_p3dx\"\n",
    "robotHandle = sim.getObject(robotname)    \n",
    "\n",
    "# Handle para o Goal\n",
    "goalname = \"/Goal\"\n",
    "goalHandle = sim.getObject(goalname)\n",
    "\n",
    "# Handle para o Laser\n",
    "lasername = \"/Pioneer_p3dx/fastHokuyo\"\n",
    "laserHandle = sim.getObject(lasername)\n",
    "\n",
    "# Handle para as juntas das RODAS\n",
    "l_wheel = sim.getObject(robotname + '_leftMotor')\n",
    "r_wheel = sim.getObject(robotname + '_rightMotor')    \n",
    "\n",
    "# Handle para os dados do LASER\n",
    "laser_range_data = \"hokuyo_range_data\"\n",
    "laser_angle_data = \"hokuyo_angle_data\"\n",
    "\n",
    "# Geralmente a primeira leitura é inválida (atenção ao Operation Mode)\n",
    "# Em loop até garantir que as leituras serão válidas\n",
    "range_data = None\n",
    "while range_data == None:\n",
    "    range_data = sim.getStringSignal(laser_range_data)\n",
    "    # sim.step() responsável por sincronizar com a emulação\n",
    "    sim.step()\n",
    "\n",
    "# Prosseguindo com as leituras\n",
    "raw_range_data, raw_angle_data = readSensorData(laser_range_data, laser_angle_data)\n",
    "laser_data = np.array([raw_angle_data, raw_range_data]).T\n",
    "\n",
    "# Para o robô\n",
    "sim.setJointTargetVelocity(r_wheel, 0)\n",
    "sim.setJointTargetVelocity(l_wheel, 0)   \n",
    "\n",
    "startTime = time()\n",
    "lastTime = startTime\n",
    "t = 0\n",
    "rho = 1\n",
    "while t < 240:\n",
    "\n",
    "    ########### Captura Imagens dos Robô a cada 3 segundos ##############\n",
    "    # simulationTime = sim.getSimulationTime()\n",
    "        \n",
    "    # if (simulationTime - lastFrame > 3):\n",
    "    #     visionSensorHandle = sim.getObjectHandle('/Vision_sensor')\n",
    "\n",
    "    #     # Função necessário para poder interagir com Vision sensor\n",
    "    #     sim.handleVisionSensor(visionSensorHandle)\n",
    "    #     # Pega a Imagem do Vision Sensor\n",
    "    #     imageBytes, resolution = sim.getVisionSensorImg(visionSensorHandle, 0)\n",
    "    #     # Salva a imagem em um arquivo\n",
    "    #     sim.saveImage(imageBytes, resolution, 0, f'mapa2_{nImages}.png', -1)\n",
    "    #     lastFrame = simulationTime\n",
    "    #     nImages += 1\n",
    "\n",
    "\n",
    "\n",
    "    robotPosition = np.asarray(sim.getObjectPosition(robotHandle)) \n",
    "    goalPosition = np.asarray(sim.getObjectPosition(goalHandle))\n",
    "\n",
    "    dx, dy = (goalPosition - robotPosition)[:2]\n",
    "    rho = np.sqrt(dx**2 + dy**2)\n",
    "    \n",
    "    now = time()\n",
    "    dt = now - lastTime\n",
    "\n",
    "    dx, dy = resultant_force(robotHandle, goalHandle, laser_range_data, laser_angle_data)\n",
    "    # print(dx, dy)\n",
    "    robotOrientation = sim.getObjectOrientation(robotHandle)\n",
    "    \n",
    "    vr, vl = controlador(dx, dy, robotOrientation[2])\n",
    "    \n",
    "    # Enviando velocidades\n",
    "    sim.setJointTargetVelocity(l_wheel, vr)\n",
    "    sim.setJointTargetVelocity(r_wheel, vl)        \n",
    "\n",
    "    t = t + dt  \n",
    "    lastTime = now\n",
    "\n",
    "# Parando o robô    \n",
    "sim.setJointTargetVelocity(r_wheel, 0)\n",
    "sim.setJointTargetVelocity(l_wheel, 0)        \n",
    "    \n",
    "sim.stopSimulation()\n",
    "sleep(1)\n",
    "sim.closeScene()\n",
    "sleep(1)\n",
    "\n",
    "print ('Program ended')"
   ]
  },
  {
   "cell_type": "markdown",
   "metadata": {},
   "source": [
    "Como o Robô ficou preso em um mínimo local o algoritmo foi executado por um tempo limitado de tempo 4 minutos"
   ]
  },
  {
   "cell_type": "markdown",
   "metadata": {},
   "source": [
    "- Ponto de partida: Canto Superior Direiro\n",
    "- Ponto de Destino: Mancha Verde na parte Inferior"
   ]
  },
  {
   "cell_type": "markdown",
   "metadata": {},
   "source": [
    "<img src=\"documentation/mapa2.gif\" alt=\"drawing\" width=\"600\"/>"
   ]
  },
  {
   "cell_type": "markdown",
   "metadata": {},
   "source": [
    "## Mapa 03"
   ]
  },
  {
   "cell_type": "markdown",
   "metadata": {},
   "source": [
    "Mapa que foi usado para criar a cena no Coppelia"
   ]
  },
  {
   "cell_type": "markdown",
   "metadata": {},
   "source": [
    "![mapa_03.png](mapasSemContorno/mapa3semContorno.png)"
   ]
  },
  {
   "cell_type": "markdown",
   "metadata": {},
   "source": [
    "Nesse mapa os coeficientes de força de repulsão também foram alterados para melhor se adequar a ele."
   ]
  },
  {
   "cell_type": "markdown",
   "metadata": {},
   "source": [
    "Coificientes da Força de Atração"
   ]
  },
  {
   "cell_type": "code",
   "execution_count": null,
   "metadata": {},
   "outputs": [],
   "source": [
    "K_att = 1.5 # Constante proporcional usado na força de atração"
   ]
  },
  {
   "cell_type": "markdown",
   "metadata": {},
   "source": [
    "Coificientes da Força de Repulsão"
   ]
  },
  {
   "cell_type": "code",
   "execution_count": null,
   "metadata": {},
   "outputs": [],
   "source": [
    "K_rep = 0.1\n",
    "gamma = 2 # Valor recomendado pelo professor no Forum da Disciplina\n",
    "p0 = 1 # Limiar utiliazado\n",
    "beta = 0.5"
   ]
  },
  {
   "cell_type": "markdown",
   "metadata": {},
   "source": [
    " Executa a Simulação"
   ]
  },
  {
   "cell_type": "code",
   "execution_count": null,
   "metadata": {},
   "outputs": [
    {
     "ename": "Exception",
     "evalue": "316: in sim.loadScene: file does not exist.",
     "output_type": "error",
     "traceback": [
      "\u001b[0;31m---------------------------------------------------------------------------\u001b[0m",
      "\u001b[0;31mException\u001b[0m                                 Traceback (most recent call last)",
      "Cell \u001b[0;32mIn[161], line 6\u001b[0m\n\u001b[1;32m      3\u001b[0m sim\u001b[38;5;241m.\u001b[39msetStepping(\u001b[38;5;28;01mTrue\u001b[39;00m)\n\u001b[1;32m      5\u001b[0m \u001b[38;5;66;03m# Caminho para o segundo mapa\u001b[39;00m\n\u001b[0;32m----> 6\u001b[0m \u001b[43msim\u001b[49m\u001b[38;5;241;43m.\u001b[39;49m\u001b[43mloadScene\u001b[49m\u001b[43m(\u001b[49m\u001b[43mos\u001b[49m\u001b[38;5;241;43m.\u001b[39;49m\u001b[43mpath\u001b[49m\u001b[38;5;241;43m.\u001b[39;49m\u001b[43mjoin\u001b[49m\u001b[43m(\u001b[49m\u001b[43mscenesPath\u001b[49m\u001b[43m,\u001b[49m\u001b[43m \u001b[49m\u001b[38;5;124;43m\"\u001b[39;49m\u001b[38;5;124;43mmapa3.ttt\u001b[39;49m\u001b[38;5;124;43m\"\u001b[39;49m\u001b[43m)\u001b[49m\u001b[43m)\u001b[49m\n\u001b[1;32m      8\u001b[0m sim\u001b[38;5;241m.\u001b[39mstartSimulation()\n\u001b[1;32m     10\u001b[0m \u001b[38;5;28mprint\u001b[39m (\u001b[38;5;124m'\u001b[39m\u001b[38;5;124mConnected to remote API server\u001b[39m\u001b[38;5;124m'\u001b[39m)\n",
      "File \u001b[0;32m~/Documents/Coppelia/venv/lib/python3.11/site-packages/coppeliasim_zmqremoteapi_client/__init__.py:161\u001b[0m, in \u001b[0;36mRemoteAPIClient.getObject.<locals>.<lambda>\u001b[0;34m(func, *a)\u001b[0m\n\u001b[1;32m    159\u001b[0m     \u001b[38;5;28;01mraise\u001b[39;00m \u001b[38;5;167;01mValueError\u001b[39;00m(\u001b[38;5;124m'\u001b[39m\u001b[38;5;124mfound nondict\u001b[39m\u001b[38;5;124m'\u001b[39m)\n\u001b[1;32m    160\u001b[0m \u001b[38;5;28;01mif\u001b[39;00m \u001b[38;5;28mlen\u001b[39m(v) \u001b[38;5;241m==\u001b[39m \u001b[38;5;241m1\u001b[39m \u001b[38;5;129;01mand\u001b[39;00m \u001b[38;5;124m'\u001b[39m\u001b[38;5;124mfunc\u001b[39m\u001b[38;5;124m'\u001b[39m \u001b[38;5;129;01min\u001b[39;00m v:\n\u001b[0;32m--> 161\u001b[0m     \u001b[38;5;28msetattr\u001b[39m(ret, k, \u001b[38;5;28;01mlambda\u001b[39;00m \u001b[38;5;241m*\u001b[39ma, func\u001b[38;5;241m=\u001b[39m\u001b[38;5;124mf\u001b[39m\u001b[38;5;124m'\u001b[39m\u001b[38;5;132;01m{\u001b[39;00mname\u001b[38;5;132;01m}\u001b[39;00m\u001b[38;5;124m.\u001b[39m\u001b[38;5;132;01m{\u001b[39;00mk\u001b[38;5;132;01m}\u001b[39;00m\u001b[38;5;124m'\u001b[39m: \u001b[38;5;28;43mself\u001b[39;49m\u001b[38;5;241;43m.\u001b[39;49m\u001b[43mcall\u001b[49m\u001b[43m(\u001b[49m\u001b[43mfunc\u001b[49m\u001b[43m,\u001b[49m\u001b[43m \u001b[49m\u001b[43ma\u001b[49m\u001b[43m)\u001b[49m)\n\u001b[1;32m    162\u001b[0m \u001b[38;5;28;01melif\u001b[39;00m \u001b[38;5;28mlen\u001b[39m(v) \u001b[38;5;241m==\u001b[39m \u001b[38;5;241m1\u001b[39m \u001b[38;5;129;01mand\u001b[39;00m \u001b[38;5;124m'\u001b[39m\u001b[38;5;124mconst\u001b[39m\u001b[38;5;124m'\u001b[39m \u001b[38;5;129;01min\u001b[39;00m v:\n\u001b[1;32m    163\u001b[0m     \u001b[38;5;28msetattr\u001b[39m(ret, k, v[\u001b[38;5;124m'\u001b[39m\u001b[38;5;124mconst\u001b[39m\u001b[38;5;124m'\u001b[39m])\n",
      "File \u001b[0;32m~/Documents/Coppelia/venv/lib/python3.11/site-packages/coppeliasim_zmqremoteapi_client/__init__.py:149\u001b[0m, in \u001b[0;36mRemoteAPIClient.call\u001b[0;34m(self, func, args)\u001b[0m\n\u001b[1;32m    147\u001b[0m     reply \u001b[38;5;241m=\u001b[39m \u001b[38;5;28mself\u001b[39m\u001b[38;5;241m.\u001b[39m_recv()\n\u001b[1;32m    148\u001b[0m \u001b[38;5;28;01mif\u001b[39;00m \u001b[38;5;124m'\u001b[39m\u001b[38;5;124merr\u001b[39m\u001b[38;5;124m'\u001b[39m \u001b[38;5;129;01min\u001b[39;00m reply:\n\u001b[0;32m--> 149\u001b[0m     \u001b[38;5;28;01mraise\u001b[39;00m \u001b[38;5;167;01mException\u001b[39;00m(reply\u001b[38;5;241m.\u001b[39mget(\u001b[38;5;124m'\u001b[39m\u001b[38;5;124merr\u001b[39m\u001b[38;5;124m'\u001b[39m))  \u001b[38;5;66;03m# __EXCEPTION__\u001b[39;00m\n\u001b[1;32m    150\u001b[0m \u001b[38;5;28;01mreturn\u001b[39;00m \u001b[38;5;28mself\u001b[39m\u001b[38;5;241m.\u001b[39m_process_response(reply)\n",
      "\u001b[0;31mException\u001b[0m: 316: in sim.loadScene: file does not exist."
     ]
    }
   ],
   "source": [
    "client = RemoteAPIClient()\n",
    "sim = client.require('sim')\n",
    "sim.setStepping(True)\n",
    "\n",
    "# Caminho para o segundo mapa\n",
    "sim.loadScene(os.path.join(scenesPath, \"PionnerRobot/mapa3.ttt\"))\n",
    "\n",
    "sim.startSimulation()\n",
    "\n",
    "print ('Connected to remote API server')\n",
    "\n",
    "# Handle para o ROBÔ    \n",
    "robotname = \"/Pioneer_p3dx\"\n",
    "robotHandle = sim.getObject(robotname)    \n",
    "\n",
    "# Handle para o Goal\n",
    "goalname = \"/Goal\"\n",
    "goalHandle = sim.getObject(goalname)\n",
    "\n",
    "# Handle para o Laser\n",
    "lasername = \"/Pioneer_p3dx/fastHokuyo\"\n",
    "laserHandle = sim.getObject(lasername)\n",
    "\n",
    "# Handle para as juntas das RODAS\n",
    "l_wheel = sim.getObject(robotname + '_leftMotor')\n",
    "r_wheel = sim.getObject(robotname + '_rightMotor')    \n",
    "\n",
    "# Handle para os dados do LASER\n",
    "laser_range_data = \"hokuyo_range_data\"\n",
    "laser_angle_data = \"hokuyo_angle_data\"\n",
    "\n",
    "# Geralmente a primeira leitura é inválida (atenção ao Operation Mode)\n",
    "# Em loop até garantir que as leituras serão válidas\n",
    "range_data = None\n",
    "while range_data == None:\n",
    "    range_data = sim.getStringSignal(laser_range_data)\n",
    "    # sim.step() responsável por sincronizar com a emulação\n",
    "    sim.step()\n",
    "\n",
    "# Prosseguindo com as leituras\n",
    "raw_range_data, raw_angle_data = readSensorData(laser_range_data, laser_angle_data)\n",
    "laser_data = np.array([raw_angle_data, raw_range_data]).T\n",
    "\n",
    "# Para o robô\n",
    "sim.setJointTargetVelocity(r_wheel, 0)\n",
    "sim.setJointTargetVelocity(l_wheel, 0)   \n",
    "\n",
    "startTime = time()\n",
    "lastTime = startTime\n",
    "t = 0\n",
    "rho = 1\n",
    "simulationStartTime = sim.getSimulationTime()\n",
    "lastFrame = sim.getSimulationTime()\n",
    "nImages = 1\n",
    "while rho > 0.5:\n",
    "\n",
    "\n",
    "    ############ Captura Imagens dos Robô a cada 5 segundos ##############\n",
    "    # simulationTime = sim.getSimulationTime()\n",
    "    # print(lastFrame - simulationTime)\n",
    "        \n",
    "    # if (simulationTime - lastFrame > 5):\n",
    "        # visionSensorHandle = sim.getObjectHandle('/Vision_sensor')\n",
    "\n",
    "        # # Função necessário para poder interagir com Vision sensor\n",
    "        # sim.handleVisionSensor(visionSensorHandle)\n",
    "        # # Pega a Imagem do Vision Sensor\n",
    "        # imageBytes, resolution = sim.getVisionSensorImg(visionSensorHandle, 0)\n",
    "        # # Salva a imagem em um arquivo\n",
    "        # sim.saveImage(imageBytes, resolution, 0, f'mapa1_{nImages}.png', -1)\n",
    "        # lastFrame = simulationTime\n",
    "        # nImages += 1\n",
    "\n",
    "    robotPosition = np.asarray(sim.getObjectPosition(robotHandle)) \n",
    "    goalPosition = np.asarray(sim.getObjectPosition(goalHandle))\n",
    "\n",
    "    dx, dy = (goalPosition - robotPosition)[:2]\n",
    "    rho = np.sqrt(dx**2 + dy**2)\n",
    "    \n",
    "    now = time()\n",
    "    dt = now - lastTime\n",
    "\n",
    "    dx, dy = resultant_force(robotHandle, goalHandle, laser_range_data, laser_angle_data)\n",
    "    # print(dx, dy)\n",
    "    robotOrientation = sim.getObjectOrientation(robotHandle)\n",
    "    \n",
    "    vr, vl = controlador(dx, dy, robotOrientation[2])\n",
    "    \n",
    "    # Enviando velocidades\n",
    "    sim.setJointTargetVelocity(l_wheel, vr)\n",
    "    sim.setJointTargetVelocity(r_wheel, vl)        \n",
    "\n",
    "    t = t + dt  \n",
    "    lastTime = now\n",
    "\n",
    "# Parando o robô    \n",
    "sim.setJointTargetVelocity(r_wheel, 0)\n",
    "sim.setJointTargetVelocity(l_wheel, 0)        \n",
    "\n",
    "simulationEndTime = sim.getSimulationTime()\n",
    "    \n",
    "sim.stopSimulation()\n",
    "sleep(1)\n",
    "sim.closeScene()\n",
    "sleep(1)\n",
    "\n",
    "print ('Program ended')"
   ]
  },
  {
   "cell_type": "markdown",
   "metadata": {},
   "source": [
    "Resultado"
   ]
  },
  {
   "cell_type": "markdown",
   "metadata": {},
   "source": [
    "O robô foi colocado no canto superior esquerdo e seu objetivo era chegar no canto inferior direito"
   ]
  },
  {
   "cell_type": "markdown",
   "metadata": {},
   "source": [
    "Como podemos ver no gif abaixo o robô conseguiu executar o caminho sem problemas"
   ]
  },
  {
   "cell_type": "code",
   "execution_count": null,
   "metadata": {},
   "outputs": [
    {
     "name": "stdout",
     "output_type": "stream",
     "text": [
      "Tempo de Execução: 90.30s\n"
     ]
    }
   ],
   "source": [
    "print(f\"Tempo de Execução: {simulationEndTime - simulationStartTime:.2f}s\", )"
   ]
  },
  {
   "cell_type": "markdown",
   "metadata": {},
   "source": [
    "![Percurso do Primeiro Robô](documentation/mapa1.gif)"
   ]
  },
  {
   "cell_type": "markdown",
   "metadata": {},
   "source": [
    "# Conclusão\n",
    "- comentários gerais sobre o trabalho e as principais dificuldades encontradas."
   ]
  },
  {
   "cell_type": "markdown",
   "metadata": {},
   "source": [
    "O algoritmo de campos potenciáis usando o paradigma reativo, apesar de ter me surpreendido bastante, pois apresentou um resultado muito bom no mapa 01, conseguiu concluir o desafio sem dificuldade. No mapa 02 depedendo da posição de escolhida para o robô e o objetivo, durante a execução do desafio muitas vezes o robô ficava preso em um minimo local.\n",
    "\n",
    "Desafios Encontrados:\n",
    "- Adaptar o controlador, utilizei como referencia o controlador implementado pelo professor e disponivel no github da disciplina. Esse controlador utiliza em seus cálculos a orientação do robô em relação ao mundo, porém como estou usando a abordagem reativa optei por fazer um controlador que dependece somente do referencial do robô.\n",
    "- Ajustar as constantes utilizados no calculo das forças de atração e repulsão, realização de muitos testes empiricos\n",
    "- Eixo Y do robô (pioneer) é invertido, isso complicou um pouco as coisas kkkkk."
   ]
  },
  {
   "cell_type": "markdown",
   "metadata": {},
   "source": [
    "# Biografia\n",
    "- Slides da Aula 12\n",
    "- Jupyter Notebook da Aula 12"
   ]
  }
 ],
 "metadata": {
  "kernelspec": {
   "display_name": "venv",
   "language": "python",
   "name": "python3"
  },
  "language_info": {
   "codemirror_mode": {
    "name": "ipython",
    "version": 3
   },
   "file_extension": ".py",
   "mimetype": "text/x-python",
   "name": "python",
   "nbconvert_exporter": "python",
   "pygments_lexer": "ipython3",
   "version": "3.9.6"
  }
 },
 "nbformat": 4,
 "nbformat_minor": 2
}
