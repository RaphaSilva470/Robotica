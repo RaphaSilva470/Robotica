{
 "cells": [
  {
   "cell_type": "markdown",
   "metadata": {},
   "source": [
    "## Modules Used"
   ]
  },
  {
   "cell_type": "markdown",
   "metadata": {},
   "source": [
    "Modulo responsável pela comunicação com o CoppeliaSim"
   ]
  },
  {
   "cell_type": "code",
   "execution_count": 2,
   "metadata": {},
   "outputs": [],
   "source": [
    "# Modules used to connect to coppelia\n",
    "from coppeliasim_zmqremoteapi_client import RemoteAPIClient"
   ]
  },
  {
   "cell_type": "markdown",
   "metadata": {},
   "source": [
    "Modulos Usados para Nesse trabalho prático"
   ]
  },
  {
   "cell_type": "code",
   "execution_count": 3,
   "metadata": {},
   "outputs": [],
   "source": [
    "# Other Modules\n",
    "import numpy as np\n",
    "import matplotlib.pyplot as plt\n",
    "import matplotlib.image as mpimg\n",
    "import os\n",
    "import networkx as nx\n",
    "from copy import deepcopy\n",
    "from time import sleep, time"
   ]
  },
  {
   "cell_type": "markdown",
   "metadata": {},
   "source": [
    "## Exemplo"
   ]
  },
  {
   "cell_type": "markdown",
   "metadata": {},
   "source": [
    "Exemplo de como se conectar no Coppelia"
   ]
  },
  {
   "cell_type": "code",
   "execution_count": 7,
   "metadata": {},
   "outputs": [],
   "source": [
    "# An exemple of how to use the api to connet to coppelia\n",
    "client = RemoteAPIClient()\n",
    "sim = client.require('sim')\n",
    "sim.setStepping(True)\n",
    "\n",
    "sim.startSimulation()\n",
    "\n",
    "floorHandle = sim.getObject(\"/heightfield\")\n",
    "_, _, info = sim.getShapeGeomInfo(floorHandle)\n",
    "\n",
    "sim.stopSimulation()\n",
    "sleep(1)\n"
   ]
  },
  {
   "cell_type": "code",
   "execution_count": 9,
   "metadata": {},
   "outputs": [
    {
     "name": "stdout",
     "output_type": "stream",
     "text": [
      "x, y, z =  [40.0, 40.0, 3.984375]\n"
     ]
    }
   ],
   "source": [
    "print('x, y, z = ', info[:3])"
   ]
  },
  {
   "cell_type": "markdown",
   "metadata": {},
   "source": [
    "## Funções Auxiliares"
   ]
  },
  {
   "cell_type": "markdown",
   "metadata": {},
   "source": [
    "#### Codding to calculate the Transformation Matrix"
   ]
  },
  {
   "cell_type": "code",
   "execution_count": 326,
   "metadata": {},
   "outputs": [],
   "source": [
    "# Function that invert a matrix\n",
    "def invertMatrix(M):\n",
    "    return np.linalg.inv(M)"
   ]
  },
  {
   "cell_type": "code",
   "execution_count": 327,
   "metadata": {},
   "outputs": [],
   "source": [
    "# Get Object Position and Orientation\n",
    "def getPositionAndOrientation(handle, referenceTo):\n",
    "    pos = sim.getObjectPosition(handle, referenceTo)\n",
    "    ori = sim.getObjectOrientation(handle, referenceTo)\n",
    "    return pos, ori"
   ]
  },
  {
   "cell_type": "code",
   "execution_count": 328,
   "metadata": {},
   "outputs": [],
   "source": [
    "# Get Rotation Matrix fixed on Z axis\n",
    "def getRotationMatrixZfixed(theta):\n",
    "    return np.array([[  np.cos(theta), -np.sin(theta), 0 ],\n",
    "                      [ np.sin(theta),  np.cos(theta), 0 ],\n",
    "                      [ 0            ,  0            , 1 ]])"
   ]
  },
  {
   "cell_type": "code",
   "execution_count": 329,
   "metadata": {},
   "outputs": [],
   "source": [
    "# get the transformation from local axis to a reference axis\n",
    "# the default reference axis is the global/world axis\n",
    "def getTransformationMatrix(handle, referenceTo=sim.handle_world):\n",
    "    # Get the object position and orientation\n",
    "    pos, ori = getPositionAndOrientation(handle, referenceTo)\n",
    "    # Get the Rotation Matrix\n",
    "    rotM = getRotationMatrixZfixed(ori[2])\n",
    "    scale = np.array([0, 0, 0, 1])\n",
    "\n",
    "    # Create the transformation Matrix\n",
    "    tranfMatrix = np.column_stack((rotM, pos))\n",
    "    tranfMatrix = np.row_stack((tranfMatrix, scale))\n",
    "\n",
    "    return tranfMatrix\n",
    "\n"
   ]
  },
  {
   "cell_type": "code",
   "execution_count": 330,
   "metadata": {},
   "outputs": [],
   "source": [
    "# Get the tranfortion from object in reference to another\n",
    "def getTransformationMatrixObject2Object(sourceObject, desObject,printPlot = False):\n",
    "    M_S2G = getTransformationMatrix(sourceObject)\n",
    "    M_G2S = invertMatrix(M_S2G)\n",
    "    M_D2G = getTransformationMatrix(desObject)\n",
    "\n",
    "    return M_G2S @ M_D2G"
   ]
  },
  {
   "cell_type": "code",
   "execution_count": 331,
   "metadata": {},
   "outputs": [],
   "source": [
    "'''\n",
    "readSensorData - It will try to capture the range and angle data from the simulator.\n",
    "                 The request for the range data is sent in streaming mode to force\n",
    "                 it to sync with the angle data request which acts as a mutex.\n",
    "\n",
    "inputs:\n",
    "    -clientId: simulator client id obtained through a successfull connection with the simulator.\n",
    "    -range_data_signal_id: string containing the range data signal pipe name.\n",
    "    -angle_data_signal_id: string containing the angle data signal pipe name.\n",
    "outputs:\n",
    "    -returns None if no data is recovered.\n",
    "    -returns two arrays, one with data range and the other with their angles, if data was \n",
    "    retrieved successfully.\n",
    "'''\n",
    "def readSensorData(range_data_signal_id=\"hokuyo_range_data\", \n",
    "                    angle_data_signal_id=\"hokuyo_angle_data\"):\n",
    "\n",
    "    # the first call should be non-blocking to avoid getting out-of-sync angle data\n",
    "    # returnCodeRanges, string_range_data = sim.getStringSignal(range_data_signal_id, sim.simx_opmode_streaming)\n",
    "    # returnCodeRanges, string_range_data = sim.getStringSignal(range_data_signal_id)\n",
    "\n",
    "    # print(range_data_signal_id)\n",
    "    resultCodeRanges = sim.getStringSignal(range_data_signal_id)\n",
    "\n",
    "    # the second call should block to avoid out-of-sync scenarios\n",
    "    # between your python script and the simulator's main loop\n",
    "    # (your script may be slower than the simulator's main loop, thus\n",
    "    # slowing down data processing)\n",
    "    # returnCodeAngles, string_angle_data = sim.simxGetStringSignal(angle_data_signal_id, sim.simx_opmode_blocking)\n",
    "    \n",
    "    resultCodeAngles = sim.getStringSignal(angle_data_signal_id)\n",
    "\n",
    "    # check the if both data were obtained correctly\n",
    "    if resultCodeRanges != None and resultCodeAngles != None:\n",
    "        # unpack data from range and sensor messages\n",
    "        raw_range_data = sim.unpackFloatTable(resultCodeRanges)\n",
    "        raw_angle_data = sim.unpackFloatTable(resultCodeAngles)\n",
    "\n",
    "        return raw_range_data, raw_angle_data\n",
    "\n",
    "    # return none in case were nothing was gotten from the simulator\n",
    "    return None, None\n"
   ]
  },
  {
   "cell_type": "markdown",
   "metadata": {},
   "source": [
    "## Força de Atração"
   ]
  },
  {
   "cell_type": "markdown",
   "metadata": {},
   "source": [
    "### Variáveis Usadas"
   ]
  },
  {
   "cell_type": "code",
   "execution_count": 332,
   "metadata": {},
   "outputs": [],
   "source": [
    "K_att = 0.1 # Constante proporcional usado na força de atração"
   ]
  },
  {
   "cell_type": "markdown",
   "metadata": {},
   "source": [
    "### Função Responsável por calcular a força de Atração"
   ]
  },
  {
   "cell_type": "code",
   "execution_count": 333,
   "metadata": {},
   "outputs": [],
   "source": [
    "def attraction_force(position, goal, K=0.1):\n",
    "    return (K * (goal - position))[:2]"
   ]
  },
  {
   "cell_type": "markdown",
   "metadata": {},
   "source": [
    "### Teste da Força de atração"
   ]
  },
  {
   "cell_type": "code",
   "execution_count": 334,
   "metadata": {},
   "outputs": [
    {
     "name": "stdout",
     "output_type": "stream",
     "text": [
      "Connected to remote API server\n",
      "robot position:  [ -4.00042948 -12.99999751   0.13863256]\n",
      "goal position:  [10.         -8.          0.13879307]\n",
      "força de atração resultante:  [1.40004295 0.49999975]\n",
      "força de atração resultante (usando transformação):  [ 5.40004295 13.49999975]\n"
     ]
    },
    {
     "data": {
      "image/png": "[encoded data removed]",
      "text/plain": [
       "<Figure size 600x300 with 1 Axes>"
      ]
     },
     "metadata": {},
     "output_type": "display_data"
    }
   ],
   "source": [
    "import time\n",
    "sim.startSimulation()\n",
    "\n",
    "print ('Connected to remote API server')\n",
    "    \n",
    "# Iniciando a simulação\n",
    "# Deve usar a porta do 'continuous remote API server services' (remoteApiConnections.txt)\n",
    "# e = sim.simxStartSimulation(clientID,sim.simx_opmode_blocking)\n",
    "\n",
    "# Handle para o ROBÔ    \n",
    "robotname = \"/Pioneer_p3dx\"\n",
    "robotHandle = sim.getObject(robotname)     \n",
    "\n",
    "# Handle para o Goal\n",
    "goalname = \"/Goal\"\n",
    "goalHandle = sim.getObject(goalname)\n",
    "\n",
    "# Pega a posição do Robo e do goal\n",
    "robotPosition = np.asarray(sim.getObjectPosition(robotHandle)) \n",
    "goalPosition = np.asarray(sim.getObjectPosition(goalHandle))\n",
    "print('robot position: ', robotPosition)\n",
    "print('goal position: ', goalPosition)\n",
    "\n",
    "f_att = attraction_force(robotPosition, goalPosition, K_att)\n",
    "print('força de atração resultante: ', f_att)\n",
    "\n",
    "sleep(2)\n",
    "sim.stopSimulation()\n",
    "sleep(1)\n",
    "\n",
    "# V = np.array([[1,1], [-2,2], [4,-7]])\n",
    "origin = np.array([[0, 0, 0],[0, 0, 0]]) # origin point\n",
    "\n",
    "\n",
    "Tranformation_robot_to_world = getTransformationMatrix(robotHandle)\n",
    "Tranformation_world_to_robot = invertMatrix(Tranformation_robot_to_world)\n",
    "Fatt = Tranformation_world_to_robot @ np.asarray([f_att[0], f_att[1], 0, 1])\n",
    "print('força de atração resultante (usando transformação): ', Fatt[:2])\n",
    "\n",
    "\n",
    "fig = plt.figure(figsize=(6,3), dpi=100)\n",
    "ax = fig.add_subplot(111, aspect='equal')\n",
    "\n",
    "# Os eixos do coppelia em relação do matplot lib são invertidos\n",
    "# Coppelia_X = MatplotLib_Y e vice versa\n",
    "# O eixo Y (eixo X do Matplot) do robo tem uma direção diferente do Matplot lib e portanto multiplicamos o eixo por -1\n",
    "ax.quiver(*[0, 0], -Fatt[1], Fatt[0], color=['r','b','g'], scale=100)\n",
    "\n",
    "\n",
    "ax.set_xlabel(\"y -> axis\")\n",
    "ax.set_ylabel(\"x -> axis\")\n",
    "\n",
    "ax.set_xlim(-40, 40)\n",
    "ax.set_ylim(-40, 40)\n",
    "\n",
    "plt.show()\n",
    "    \n"
   ]
  },
  {
   "cell_type": "markdown",
   "metadata": {},
   "source": [
    "## Força de Repulsão"
   ]
  },
  {
   "cell_type": "markdown",
   "metadata": {},
   "source": [
    "### Variáveis Utilizadas"
   ]
  },
  {
   "cell_type": "code",
   "execution_count": 335,
   "metadata": {},
   "outputs": [],
   "source": [
    "K_rep = 0.0001\n",
    "gamma = 2\n",
    "p0 = 2 # Limiar utiliazado"
   ]
  },
  {
   "cell_type": "markdown",
   "metadata": {},
   "source": [
    "### Função da força de Repulsão"
   ]
  },
  {
   "cell_type": "code",
   "execution_count": 336,
   "metadata": {},
   "outputs": [],
   "source": [
    "def repulsion_force(laser_data, K, gamma=2, threshold=2):\n",
    "    # Pega somente os dados que atendem a condição de terem uma distancia menor que o limiar\n",
    "    filter = laser_data[:, 1] < threshold\n",
    "    data = laser_data[filter]\n",
    "    \n",
    "    # separa os dados em angulos e distancias\n",
    "    distaces = data[:, 1]\n",
    "    angles = data[:, 0]\n",
    "\n",
    "    # Calcula a parte escalar da formulada força de recursão\n",
    "    escalar = K / (distaces**2)\n",
    "    escalar *= (1/distaces) - 1/threshold\n",
    "\n",
    "    # Calcula a parte vetorial da formula da força de repulsão\n",
    "    # Eixo x\n",
    "    axis_x = distaces * np.cos(angles)\n",
    "    # Eixo y\n",
    "    axis_y = distaces * np.sin(angles)\n",
    "    \n",
    "    delta_x = sum(escalar * (axis_x / distaces))\n",
    "    delta_y = sum(escalar * (axis_y / distaces))\n",
    "    \n",
    "    # Multiplico por -1, para calcular\n",
    "    return np.asarray([-delta_x, -delta_y])\n",
    "\n"
   ]
  },
  {
   "cell_type": "markdown",
   "metadata": {},
   "source": [
    "### Teste da força de repulsão"
   ]
  },
  {
   "cell_type": "code",
   "execution_count": 337,
   "metadata": {},
   "outputs": [
    {
     "name": "stdout",
     "output_type": "stream",
     "text": [
      "Connected to remote API server\n",
      "robot position:  [ -4.00036861 -12.99998698   0.13866851]\n",
      "goal position:  [10.         -8.          0.13879307]\n",
      "Program ended\n"
     ]
    }
   ],
   "source": [
    "sim.startSimulation()\n",
    "\n",
    "print ('Connected to remote API server')\n",
    "    \n",
    "# Iniciando a simulação\n",
    "# Deve usar a porta do 'continuous remote API server services' (remoteApiConnections.txt)\n",
    "# e = sim.simxStartSimulation(clientID,sim.simx_opmode_blocking)\n",
    "\n",
    "# Handle para o ROBÔ    \n",
    "robotname = \"/Pioneer_p3dx\"\n",
    "robotHandle = sim.getObject(robotname)   \n",
    "\n",
    "# Handle para o Goal\n",
    "goalname = \"/Goal\"\n",
    "goalHandle = sim.getObject(goalname)\n",
    "\n",
    "# Handle para os dados do LASER\n",
    "laser_range_data = \"hokuyo_range_data\"\n",
    "laser_angle_data = \"hokuyo_angle_data\"\n",
    "\n",
    "# Handle para as juntas das RODAS\n",
    "l_wheel = sim.getObject(robotname + '_leftMotor')\n",
    "r_wheel = sim.getObject(robotname + '_rightMotor')  \n",
    "\n",
    "# Parando o robô    \n",
    "sim.setJointTargetVelocity(r_wheel, 0)\n",
    "sim.setJointTargetVelocity(l_wheel, 0)  \n",
    "\n",
    "# Geralmente a primeira leitura é inválida (atenção ao Operation Mode)\n",
    "# Em loop até garantir que as leituras serão válidas\n",
    "range_data = None\n",
    "while range_data == None:\n",
    "    range_data = sim.getStringSignal(laser_range_data)\n",
    "    sim.step()\n",
    "\n",
    "# Prosseguindo com as leituras\n",
    "raw_range_data, raw_angle_data = readSensorData(laser_range_data, laser_angle_data)\n",
    "laser_data = np.array([raw_angle_data, raw_range_data]).T\n",
    "\n",
    "####################  Teste Está sendo realizado aqui ######################\n",
    "\n",
    "# Pega a posição do Robo e do goal\n",
    "robotPosition = np.asarray(sim.getObjectPosition(robotHandle)) \n",
    "goalPosition = np.asarray(sim.getObjectPosition(goalHandle))\n",
    "print('robot position: ', robotPosition)\n",
    "print('goal position: ', goalPosition)\n",
    "\n",
    "# Handle para o Laser\n",
    "lasername = \"/Pioneer_p3dx/fastHokuyo\"\n",
    "laserHandle = sim.getObject(lasername)\n",
    "\n",
    "tranformation_laser_to_robot = getTransformationMatrix(laserHandle, robotHandle)\n",
    "\n",
    "f_rep = repulsion_force(laser_data, K_rep, gamma, p0)\n",
    "f_rep = tranformation_laser_to_robot @ np.asarray([f_rep[0], f_rep[1], 0, 1])\n",
    "f_rep = f_rep[:2]\n",
    "\n",
    "sleep(3)\n",
    "sim.stopSimulation()\n",
    "sleep(1)\n",
    "    \n",
    "print ('Program ended')"
   ]
  },
  {
   "cell_type": "code",
   "execution_count": 338,
   "metadata": {},
   "outputs": [
    {
     "name": "stdout",
     "output_type": "stream",
     "text": [
      "[0.0000000e+00 8.8817842e-16]\n"
     ]
    },
    {
     "data": {
      "image/png": "[encoded data removed]",
      "text/plain": [
       "<Figure size 600x300 with 1 Axes>"
      ]
     },
     "metadata": {},
     "output_type": "display_data"
    }
   ],
   "source": [
    "print(f_rep)\n",
    "fig = plt.figure(figsize=(6,3), dpi=100)\n",
    "ax = fig.add_subplot(111, aspect='equal')\n",
    "\n",
    "# Os eixos do coppelia em relação do matplot lib são invertidos\n",
    "# Coppelia_X = MatplotLib_Y e vice versa\n",
    "# O eixo Y (eixo X do Matplot) do robo tem uma direção diferente do Matplot lib e portanto multiplicamos o eixo por -1\n",
    "plt.quiver(*origin, -f_rep[1], f_rep[0], color=['r','b','g'], scale=100)\n",
    "\n",
    "ax.set_xlabel(\"y -> axis\")\n",
    "ax.set_ylabel(\"x -> axis\")\n",
    "\n",
    "ax.set_xlim(-40, 40)\n",
    "ax.set_ylim(-40, 40)\n",
    "\n",
    "plt.show()"
   ]
  },
  {
   "cell_type": "markdown",
   "metadata": {},
   "source": [
    "### Vetor de Força Resultante"
   ]
  },
  {
   "cell_type": "markdown",
   "metadata": {},
   "source": [
    "Função que calcula tanto o vetor de força de atração quanto o vetor de força de repulsão"
   ]
  },
  {
   "cell_type": "code",
   "execution_count": 344,
   "metadata": {},
   "outputs": [],
   "source": [
    "def resultant_force(robotHandle, goalHandle, laserRangeDataHandle, laserAngleDataHandle):\n",
    "    # Pega a posição do Robo e do goal\n",
    "    robotPosition = np.asarray(sim.getObjectPosition(robotHandle)) \n",
    "    goalPosition = np.asarray(sim.getObjectPosition(goalHandle))\n",
    "\n",
    "    ####################  Calcula a força de Repulsão   ######################\n",
    "    # Geralmente a primeira leitura é inválida (atenção ao Operation Mode)\n",
    "    # Em loop até garantir que as leituras serão válidas\n",
    "    range_data = None\n",
    "    while range_data == None:\n",
    "        range_data = sim.getStringSignal(laser_range_data)\n",
    "        sim.step()\n",
    "\n",
    "    # Prosseguindo com as leituras\n",
    "    raw_range_data, raw_angle_data = readSensorData(laser_range_data, laser_angle_data)\n",
    "    laser_data = np.array([raw_angle_data, raw_range_data]).T\n",
    "\n",
    "    ### Variáveis Globais: K_rep, gamma, p0\n",
    "    f_rep = repulsion_force(laser_data, K_rep, gamma, p0)\n",
    "\n",
    "    #################### Calcula a força de atração ###################\n",
    "\n",
    "    ### Calcula a matrix de tranformação\n",
    "    ### Que convert um ponto do referencial do mundo para o referencial do robô\n",
    "    Tranformation_robot_to_world = getTransformationMatrix(robotHandle)\n",
    "    Tranformation_world_to_robot = invertMatrix(Tranformation_robot_to_world)\n",
    "\n",
    "    ### K_att -> Variavel Global\n",
    "    Fatt = attraction_force(robotPosition, goalPosition, K_att)\n",
    "\n",
    "    # Transforma o vetor de atração para o referencial do robo\n",
    "    Fatt = Tranformation_world_to_robot @ np.asarray([Fatt[0], Fatt[1], 0, 0])\n",
    "    f_att = Fatt[:2]\n",
    "\n",
    "    print('att: ', f_att)\n",
    "    print('rep: ', f_rep)\n",
    "\n",
    "    return f_att + f_rep\n",
    "\n"
   ]
  },
  {
   "cell_type": "markdown",
   "metadata": {},
   "source": [
    "### Controlador"
   ]
  },
  {
   "cell_type": "code",
   "execution_count": 345,
   "metadata": {},
   "outputs": [],
   "source": [
    "def controlador(dx, dy, robotOrientation):\n",
    "\n",
    "    # Variáveis de proporcionalidade  \n",
    "    KPr = 0.5\n",
    "    KPt = 0.5\n",
    "\n",
    "    # # Variáveis derivativas\n",
    "    # KDr = 2\n",
    "    # KDt = 0.5\n",
    "\n",
    "    # Calcula as velocidades\n",
    "    # Velocidade Linear Proporcional\n",
    "    # uPr = dx*np.cos(robotOrientation) + dy*np.sin(robotOrientation)\n",
    "    # uPr *= KPr\n",
    "    uPr = (dx + dy) * KPr\n",
    "\n",
    "    # # Velocidade Linear Derivada\n",
    "    # uDr = dx_D*np.cos(robotOrientation) + dy_D*np.sin(robotOrientation)\n",
    "    # uDr *= KDr\n",
    "\n",
    "    # Velocidade Angular Proporcional \n",
    "    # uPt = (np.arctan2(dy,dx) - robotOrientation)\n",
    "    # uPt *= KPt\n",
    "    uPt = np.arctan2(dy,dx) * KPt\n",
    "    # Explicar pq eu multipliquei por -1\n",
    "    uPt *= -1\n",
    "    # print(uPt)\n",
    "\n",
    "    # # Velocidade Angular Derivada\n",
    "    # uKt = np.arctan2(dy_D,dx_D) - robotOrientation\n",
    "    # uKt *= KDt\n",
    "    \n",
    "    # v -> velocidade Linear\n",
    "    # w -> Velocidade Angular\n",
    "    v = uPr #+ uDr\n",
    "    w = uPt #+ uKt\n",
    "\n",
    "    # Limit v,w to +/- max\n",
    "    v = max(min(v, maxv), -maxv)\n",
    "    w = max(min(w, maxw), -maxw) \n",
    "            \n",
    "    # Objetivo: quero que o robô ajuste primeiro a sua posição em relação ao objetivo \n",
    "    # E dps se movimente para ele\n",
    "    # if(w > np.deg2rad() or w < np.deg2rad(315) ) and rho > 1)\n",
    "\n",
    "    # if (w > np.deg2rad(10) and w < np.deg2rad(45) ) and rho > 1:\n",
    "    #     v = 0\n",
    "    # if (w < np.deg2rad(-10) and w > np.deg2rad(-45) ) and rho > 1:\n",
    "    #     v = 0\n",
    "        \n",
    "\n",
    "    vr = ((2.0*v) + (w*L))/(2.0*r)\n",
    "    vl = ((2.0*v) - (w*L))/(2.0*r)\n",
    "\n",
    "    return vr, vl"
   ]
  },
  {
   "cell_type": "code",
   "execution_count": 341,
   "metadata": {},
   "outputs": [],
   "source": [
    "# Específico do robô\n",
    "# https://www.generationrobots.com/media/Pioneer3DX-P3DX-RevA.pdf\n",
    "L = 0.381\n",
    "r = 0.0975\n",
    "maxv = 1.0\n",
    "maxw = np.deg2rad(45)"
   ]
  },
  {
   "cell_type": "markdown",
   "metadata": {},
   "source": [
    "### Variáveis Utilizadas"
   ]
  },
  {
   "cell_type": "code",
   "execution_count": 342,
   "metadata": {},
   "outputs": [],
   "source": [
    "K_rep = 0.01\n",
    "gamma = 2\n",
    "p0 = 2 # Limiar utiliazado"
   ]
  },
  {
   "cell_type": "code",
   "execution_count": 346,
   "metadata": {},
   "outputs": [
    {
     "name": "stdout",
     "output_type": "stream",
     "text": [
      "Connected to remote API server\n",
      "att:  [1.40004281 0.49997835]\n",
      "rep:  [0 0]\n",
      "1.400042813048592 0.4999783549572036\n",
      "Program ended\n"
     ]
    }
   ],
   "source": [
    "sleep(3)\n",
    "\n",
    "sim.startSimulation()\n",
    "\n",
    "print ('Connected to remote API server')\n",
    "    \n",
    "# Iniciando a simulação\n",
    "# Deve usar a porta do 'continuous remote API server services' (remoteApiConnections.txt)\n",
    "# e = sim.simxStartSimulation(clientID,sim.simx_opmode_blocking)\n",
    "\n",
    "# Handle para o ROBÔ    \n",
    "robotname = \"/Pioneer_p3dx\"\n",
    "robotHandle = sim.getObject(robotname)    \n",
    "\n",
    "# Handle para o Goal\n",
    "goalname = \"/Goal\"\n",
    "goalHandle = sim.getObject(goalname)\n",
    "\n",
    "# Handle para o Laser\n",
    "lasername = \"/Pioneer_p3dx/fastHokuyo\"\n",
    "laserHandle = sim.getObject(lasername)\n",
    "\n",
    "# Handle para as juntas das RODAS\n",
    "l_wheel = sim.getObject(robotname + '_leftMotor')\n",
    "r_wheel = sim.getObject(robotname + '_rightMotor')    \n",
    "\n",
    "# Handle para os dados do LASER\n",
    "laser_range_data = \"hokuyo_range_data\"\n",
    "laser_angle_data = \"hokuyo_angle_data\"\n",
    "\n",
    "# Geralmente a primeira leitura é inválida (atenção ao Operation Mode)\n",
    "# Em loop até garantir que as leituras serão válidas\n",
    "\n",
    "range_data = None\n",
    "while range_data == None:\n",
    "    range_data = sim.getStringSignal(laser_range_data)\n",
    "    # sim.step() responsável por sincronizar com a emulação\n",
    "    sim.step()\n",
    "\n",
    "# Prosseguindo com as leituras\n",
    "raw_range_data, raw_angle_data = readSensorData(laser_range_data, laser_angle_data)\n",
    "laser_data = np.array([raw_angle_data, raw_range_data]).T\n",
    "\n",
    "#raise SystemExit()\n",
    "\n",
    "# Dados do Pioneer\n",
    "L = 0.381   # Metros\n",
    "r = 0.0975  # Metros\n",
    "\n",
    "sim.setJointTargetVelocity(r_wheel, 0)\n",
    "sim.setJointTargetVelocity(l_wheel, 0)   \n",
    "\n",
    "startTime=time.time()\n",
    "lastTime = startTime\n",
    "t = 0\n",
    "while t < 40:\n",
    "    \n",
    "    now = time.time()\n",
    "    dt = now - lastTime\n",
    "\n",
    "    dx, dy = resultant_force(robotHandle, goalHandle, laser_range_data, laser_angle_data)\n",
    "    print(dx, dy)\n",
    "    robotOrientation = sim.getObjectOrientation(robotHandle)\n",
    "    \n",
    "    vr, vl = controlador(dx, dy, robotOrientation[2])\n",
    "    \n",
    "    # Enviando velocidades\n",
    "    sim.setJointTargetVelocity(l_wheel, vr)\n",
    "    sim.setJointTargetVelocity(r_wheel, vl)        \n",
    "\n",
    "    t = t + dt  \n",
    "    lastTime = now\n",
    "\n",
    "    break\n",
    "\n",
    "# Parando o robô    \n",
    "sim.setJointTargetVelocity(r_wheel, 0)\n",
    "sim.setJointTargetVelocity(l_wheel, 0)        \n",
    "    \n",
    "sim.stopSimulation()\n",
    "\n",
    "print ('Program ended')"
   ]
  },
  {
   "cell_type": "code",
   "execution_count": null,
   "metadata": {},
   "outputs": [],
   "source": []
  }
 ],
 "metadata": {
  "kernelspec": {
   "display_name": "venv",
   "language": "python",
   "name": "python3"
  },
  "language_info": {
   "codemirror_mode": {
    "name": "ipython",
    "version": 3
   },
   "file_extension": ".py",
   "mimetype": "text/x-python",
   "name": "python",
   "nbconvert_exporter": "python",
   "pygments_lexer": "ipython3",
   "version": "3.11.2"
  }
 },
 "nbformat": 4,
 "nbformat_minor": 2
}
